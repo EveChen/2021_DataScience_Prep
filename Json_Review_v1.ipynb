{
 "cells": [
  {
   "cell_type": "markdown",
   "id": "de4bd392",
   "metadata": {},
   "source": [
    "### Manipulate Json file\n",
    "1. Load in json file from an url\n",
    "2. Load in json file from local\n",
    "3. Load json file using pandas\n",
    "4. Flatten json file to a dataframe\n",
    "5. Export json file"
   ]
  },
  {
   "cell_type": "code",
   "execution_count": 5,
   "id": "d984fe43",
   "metadata": {},
   "outputs": [],
   "source": [
    "import pandas as pd\n",
    "import numpy as np\n",
    "import json"
   ]
  },
  {
   "cell_type": "markdown",
   "id": "0c938124",
   "metadata": {},
   "source": [
    "### Load in json file from an url"
   ]
  },
  {
   "cell_type": "code",
   "execution_count": 6,
   "id": "77db951a",
   "metadata": {},
   "outputs": [
    {
     "data": {
      "text/plain": [
       "dict_keys(['data', 'meta'])"
      ]
     },
     "execution_count": 6,
     "metadata": {},
     "output_type": "execute_result"
    }
   ],
   "source": [
    "import requests\n",
    "url = \"https://static01.nyt.com/elections-assets/2020/data/api/2020-11-03/state-page/pennsylvania.json\"\n",
    "request = requests.get(url)\n",
    "text = json.loads(request.text)\n",
    "text.keys()"
   ]
  },
  {
   "cell_type": "code",
   "execution_count": 12,
   "id": "ddc0f2fa",
   "metadata": {},
   "outputs": [
    {
     "data": {
      "text/plain": [
       "dict_keys(['data', 'meta'])"
      ]
     },
     "execution_count": 12,
     "metadata": {},
     "output_type": "execute_result"
    }
   ],
   "source": [
    "from urllib.request import urlopen\n",
    "jsonurl = urlopen(url)\n",
    "text = json.loads(jsonurl.read())\n",
    "text.keys()"
   ]
  },
  {
   "cell_type": "markdown",
   "id": "2a25f3a6",
   "metadata": {},
   "source": [
    "### Load in json file from local"
   ]
  },
  {
   "cell_type": "code",
   "execution_count": 22,
   "id": "b5f75e12",
   "metadata": {},
   "outputs": [],
   "source": [
    "pwd = \"/Users/eve/Desktop/Datasets/Compass/pennsylvania.json\"\n",
    "with open(pwd, 'r') as f:\n",
    "    data = json.load(f)"
   ]
  },
  {
   "cell_type": "code",
   "execution_count": 24,
   "id": "0d43d5d2",
   "metadata": {},
   "outputs": [
    {
     "data": {
      "text/plain": [
       "dict_keys(['data', 'meta'])"
      ]
     },
     "execution_count": 24,
     "metadata": {},
     "output_type": "execute_result"
    }
   ],
   "source": [
    "data.keys()"
   ]
  },
  {
   "cell_type": "markdown",
   "id": "9313b3f5",
   "metadata": {},
   "source": [
    "### Load in json file using pandas"
   ]
  },
  {
   "cell_type": "code",
   "execution_count": 25,
   "id": "7751a7f6",
   "metadata": {},
   "outputs": [
    {
     "data": {
      "text/html": [
       "<div>\n",
       "<style scoped>\n",
       "    .dataframe tbody tr th:only-of-type {\n",
       "        vertical-align: middle;\n",
       "    }\n",
       "\n",
       "    .dataframe tbody tr th {\n",
       "        vertical-align: top;\n",
       "    }\n",
       "\n",
       "    .dataframe thead th {\n",
       "        text-align: right;\n",
       "    }\n",
       "</style>\n",
       "<table border=\"1\" class=\"dataframe\">\n",
       "  <thead>\n",
       "    <tr style=\"text-align: right;\">\n",
       "      <th></th>\n",
       "      <th>data</th>\n",
       "      <th>meta</th>\n",
       "    </tr>\n",
       "  </thead>\n",
       "  <tbody>\n",
       "    <tr>\n",
       "      <th>races</th>\n",
       "      <td>[{'race_id': 'PA-G-P-2020-11-03', 'race_slug':...</td>\n",
       "      <td>NaN</td>\n",
       "    </tr>\n",
       "    <tr>\n",
       "      <th>party_control</th>\n",
       "      <td>[{'race_type': 'house', 'state_id': '', 'neede...</td>\n",
       "      <td>NaN</td>\n",
       "    </tr>\n",
       "    <tr>\n",
       "      <th>liveUpdates</th>\n",
       "      <td>[{'id': 'NY-G-H-22-2020-11-03-win-republican',...</td>\n",
       "      <td>NaN</td>\n",
       "    </tr>\n",
       "    <tr>\n",
       "      <th>version</th>\n",
       "      <td>NaN</td>\n",
       "      <td>25656</td>\n",
       "    </tr>\n",
       "    <tr>\n",
       "      <th>track</th>\n",
       "      <td>NaN</td>\n",
       "      <td>2020-11-03</td>\n",
       "    </tr>\n",
       "    <tr>\n",
       "      <th>timestamp</th>\n",
       "      <td>NaN</td>\n",
       "      <td>2021-04-25T00:31:45.031Z</td>\n",
       "    </tr>\n",
       "  </tbody>\n",
       "</table>\n",
       "</div>"
      ],
      "text/plain": [
       "                                                            data  \\\n",
       "races          [{'race_id': 'PA-G-P-2020-11-03', 'race_slug':...   \n",
       "party_control  [{'race_type': 'house', 'state_id': '', 'neede...   \n",
       "liveUpdates    [{'id': 'NY-G-H-22-2020-11-03-win-republican',...   \n",
       "version                                                      NaN   \n",
       "track                                                        NaN   \n",
       "timestamp                                                    NaN   \n",
       "\n",
       "                                   meta  \n",
       "races                               NaN  \n",
       "party_control                       NaN  \n",
       "liveUpdates                         NaN  \n",
       "version                           25656  \n",
       "track                        2020-11-03  \n",
       "timestamp      2021-04-25T00:31:45.031Z  "
      ]
     },
     "execution_count": 25,
     "metadata": {},
     "output_type": "execute_result"
    }
   ],
   "source": [
    "data = pd.read_json(\"/Users/eve/Desktop/Datasets/Compass/pennsylvania.json\")\n",
    "data"
   ]
  },
  {
   "cell_type": "markdown",
   "id": "2368547e",
   "metadata": {},
   "source": [
    "### Flatten json file"
   ]
  },
  {
   "cell_type": "code",
   "execution_count": 27,
   "id": "88a1096a",
   "metadata": {},
   "outputs": [
    {
     "data": {
      "text/plain": [
       "dict_keys(['data', 'meta'])"
      ]
     },
     "execution_count": 27,
     "metadata": {},
     "output_type": "execute_result"
    }
   ],
   "source": [
    "import requests\n",
    "url = \"https://static01.nyt.com/elections-assets/2020/data/api/2020-11-03/state-page/pennsylvania.json\"\n",
    "request = requests.get(url)\n",
    "text = json.loads(request.text)\n",
    "text.keys()"
   ]
  },
  {
   "cell_type": "code",
   "execution_count": 28,
   "id": "ff5763ff",
   "metadata": {},
   "outputs": [
    {
     "data": {
      "text/html": [
       "<div>\n",
       "<style scoped>\n",
       "    .dataframe tbody tr th:only-of-type {\n",
       "        vertical-align: middle;\n",
       "    }\n",
       "\n",
       "    .dataframe tbody tr th {\n",
       "        vertical-align: top;\n",
       "    }\n",
       "\n",
       "    .dataframe thead th {\n",
       "        text-align: right;\n",
       "    }\n",
       "</style>\n",
       "<table border=\"1\" class=\"dataframe\">\n",
       "  <thead>\n",
       "    <tr style=\"text-align: right;\">\n",
       "      <th></th>\n",
       "      <th>data</th>\n",
       "      <th>meta</th>\n",
       "    </tr>\n",
       "  </thead>\n",
       "  <tbody>\n",
       "    <tr>\n",
       "      <th>races</th>\n",
       "      <td>[{'race_id': 'PA-G-P-2020-11-03', 'race_slug':...</td>\n",
       "      <td>NaN</td>\n",
       "    </tr>\n",
       "    <tr>\n",
       "      <th>party_control</th>\n",
       "      <td>[{'race_type': 'house', 'state_id': '', 'neede...</td>\n",
       "      <td>NaN</td>\n",
       "    </tr>\n",
       "    <tr>\n",
       "      <th>liveUpdates</th>\n",
       "      <td>[{'id': 'NY-G-H-22-2020-11-03-win-republican',...</td>\n",
       "      <td>NaN</td>\n",
       "    </tr>\n",
       "    <tr>\n",
       "      <th>version</th>\n",
       "      <td>NaN</td>\n",
       "      <td>25656</td>\n",
       "    </tr>\n",
       "    <tr>\n",
       "      <th>track</th>\n",
       "      <td>NaN</td>\n",
       "      <td>2020-11-03</td>\n",
       "    </tr>\n",
       "    <tr>\n",
       "      <th>timestamp</th>\n",
       "      <td>NaN</td>\n",
       "      <td>2021-04-25T00:31:45.031Z</td>\n",
       "    </tr>\n",
       "  </tbody>\n",
       "</table>\n",
       "</div>"
      ],
      "text/plain": [
       "                                                            data  \\\n",
       "races          [{'race_id': 'PA-G-P-2020-11-03', 'race_slug':...   \n",
       "party_control  [{'race_type': 'house', 'state_id': '', 'neede...   \n",
       "liveUpdates    [{'id': 'NY-G-H-22-2020-11-03-win-republican',...   \n",
       "version                                                      NaN   \n",
       "track                                                        NaN   \n",
       "timestamp                                                    NaN   \n",
       "\n",
       "                                   meta  \n",
       "races                               NaN  \n",
       "party_control                       NaN  \n",
       "liveUpdates                         NaN  \n",
       "version                           25656  \n",
       "track                        2020-11-03  \n",
       "timestamp      2021-04-25T00:31:45.031Z  "
      ]
     },
     "execution_count": 28,
     "metadata": {},
     "output_type": "execute_result"
    }
   ],
   "source": [
    "pd.DataFrame.from_records(text)"
   ]
  },
  {
   "cell_type": "code",
   "execution_count": 35,
   "id": "eaa42874",
   "metadata": {},
   "outputs": [
    {
     "data": {
      "text/html": [
       "<div>\n",
       "<style scoped>\n",
       "    .dataframe tbody tr th:only-of-type {\n",
       "        vertical-align: middle;\n",
       "    }\n",
       "\n",
       "    .dataframe tbody tr th {\n",
       "        vertical-align: top;\n",
       "    }\n",
       "\n",
       "    .dataframe thead th {\n",
       "        text-align: right;\n",
       "    }\n",
       "</style>\n",
       "<table border=\"1\" class=\"dataframe\">\n",
       "  <thead>\n",
       "    <tr style=\"text-align: right;\">\n",
       "      <th></th>\n",
       "      <th>race_id</th>\n",
       "      <th>race_slug</th>\n",
       "      <th>url</th>\n",
       "      <th>state_page_url</th>\n",
       "      <th>ap_polls_page</th>\n",
       "      <th>edison_exit_polls_page</th>\n",
       "      <th>race_type</th>\n",
       "      <th>election_type</th>\n",
       "      <th>election_date</th>\n",
       "      <th>runoff</th>\n",
       "      <th>...</th>\n",
       "      <th>expectations_text</th>\n",
       "      <th>expectations_text_short</th>\n",
       "      <th>absentee_ballot_deadline</th>\n",
       "      <th>absentee_postmark_deadline</th>\n",
       "      <th>update_sentences</th>\n",
       "      <th>race_diff</th>\n",
       "      <th>winnerCalledTimestamp</th>\n",
       "      <th>timeseries</th>\n",
       "      <th>nyt_race_description</th>\n",
       "      <th>nyt_key_race</th>\n",
       "    </tr>\n",
       "  </thead>\n",
       "  <tbody>\n",
       "    <tr>\n",
       "      <th>0</th>\n",
       "      <td>PA-G-P-2020-11-03</td>\n",
       "      <td>pa-president-general-2020-11-03</td>\n",
       "      <td>https://www.nytimes.com/interactive/2020/11/03...</td>\n",
       "      <td>https://www.nytimes.com/interactive/2020/11/03...</td>\n",
       "      <td>https://www.nytimes.com/interactive/2020/11/03...</td>\n",
       "      <td>https://www.nytimes.com/interactive/2020/11/03...</td>\n",
       "      <td>president</td>\n",
       "      <td>general</td>\n",
       "      <td>2020-11-03</td>\n",
       "      <td>False</td>\n",
       "      <td>...</td>\n",
       "      <td></td>\n",
       "      <td></td>\n",
       "      <td>3</td>\n",
       "      <td>0</td>\n",
       "      <td>{'top_level': {'sentence': 'Joseph R. Biden Jr...</td>\n",
       "      <td>{'race_slug': 'pa-president-general-2020-11-03...</td>\n",
       "      <td>1.604767e+12</td>\n",
       "      <td>[{'vote_shares': {'trumpd': 0, 'bidenj': 0}, '...</td>\n",
       "      <td>NaN</td>\n",
       "      <td>NaN</td>\n",
       "    </tr>\n",
       "    <tr>\n",
       "      <th>1</th>\n",
       "      <td>PA-G-H-1-2020-11-03</td>\n",
       "      <td>pa-house-general-district-001-2020-11-03</td>\n",
       "      <td>https://www.nytimes.com/interactive/2020/11/03...</td>\n",
       "      <td>https://www.nytimes.com/interactive/2020/11/03...</td>\n",
       "      <td>https://www.nytimes.com/interactive/2020/11/03...</td>\n",
       "      <td>https://www.nytimes.com/interactive/2020/11/03...</td>\n",
       "      <td>house</td>\n",
       "      <td>general</td>\n",
       "      <td>2020-11-03</td>\n",
       "      <td>False</td>\n",
       "      <td>...</td>\n",
       "      <td></td>\n",
       "      <td></td>\n",
       "      <td>3</td>\n",
       "      <td>0</td>\n",
       "      <td>{'top_level': {'sentence': 'Brian Fitzpatrick,...</td>\n",
       "      <td>{'race_slug': 'pa-house-general-district-001-2...</td>\n",
       "      <td>1.604521e+12</td>\n",
       "      <td>[{'vote_shares': {'fitzpatrickb': 0, 'finelloc...</td>\n",
       "      <td>NaN</td>\n",
       "      <td>NaN</td>\n",
       "    </tr>\n",
       "  </tbody>\n",
       "</table>\n",
       "<p>2 rows × 82 columns</p>\n",
       "</div>"
      ],
      "text/plain": [
       "               race_id                                 race_slug  \\\n",
       "0    PA-G-P-2020-11-03           pa-president-general-2020-11-03   \n",
       "1  PA-G-H-1-2020-11-03  pa-house-general-district-001-2020-11-03   \n",
       "\n",
       "                                                 url  \\\n",
       "0  https://www.nytimes.com/interactive/2020/11/03...   \n",
       "1  https://www.nytimes.com/interactive/2020/11/03...   \n",
       "\n",
       "                                      state_page_url  \\\n",
       "0  https://www.nytimes.com/interactive/2020/11/03...   \n",
       "1  https://www.nytimes.com/interactive/2020/11/03...   \n",
       "\n",
       "                                       ap_polls_page  \\\n",
       "0  https://www.nytimes.com/interactive/2020/11/03...   \n",
       "1  https://www.nytimes.com/interactive/2020/11/03...   \n",
       "\n",
       "                              edison_exit_polls_page  race_type election_type  \\\n",
       "0  https://www.nytimes.com/interactive/2020/11/03...  president       general   \n",
       "1  https://www.nytimes.com/interactive/2020/11/03...      house       general   \n",
       "\n",
       "  election_date  runoff  ... expectations_text expectations_text_short  \\\n",
       "0    2020-11-03   False  ...                                             \n",
       "1    2020-11-03   False  ...                                             \n",
       "\n",
       "  absentee_ballot_deadline absentee_postmark_deadline  \\\n",
       "0                        3                          0   \n",
       "1                        3                          0   \n",
       "\n",
       "                                    update_sentences  \\\n",
       "0  {'top_level': {'sentence': 'Joseph R. Biden Jr...   \n",
       "1  {'top_level': {'sentence': 'Brian Fitzpatrick,...   \n",
       "\n",
       "                                           race_diff winnerCalledTimestamp  \\\n",
       "0  {'race_slug': 'pa-president-general-2020-11-03...          1.604767e+12   \n",
       "1  {'race_slug': 'pa-house-general-district-001-2...          1.604521e+12   \n",
       "\n",
       "                                          timeseries nyt_race_description  \\\n",
       "0  [{'vote_shares': {'trumpd': 0, 'bidenj': 0}, '...                  NaN   \n",
       "1  [{'vote_shares': {'fitzpatrickb': 0, 'finelloc...                  NaN   \n",
       "\n",
       "  nyt_key_race  \n",
       "0          NaN  \n",
       "1          NaN  \n",
       "\n",
       "[2 rows x 82 columns]"
      ]
     },
     "execution_count": 35,
     "metadata": {},
     "output_type": "execute_result"
    }
   ],
   "source": [
    "a = pd.DataFrame.from_records(text[\"data\"][\"races\"])\n",
    "a.head(2)"
   ]
  },
  {
   "cell_type": "code",
   "execution_count": 38,
   "id": "0ec41cc7",
   "metadata": {},
   "outputs": [
    {
     "data": {
      "text/plain": [
       "{'candidate_id': 'biden-1036',\n",
       " 'candidate_key': 'bidenj',\n",
       " 'first_name': 'Joseph R.',\n",
       " 'last_name': 'Biden',\n",
       " 'order': 4,\n",
       " 'name_display': 'Joseph R. Biden Jr.',\n",
       " 'party_id': 'democrat',\n",
       " 'incumbent': False,\n",
       " 'runoff': False,\n",
       " 'winner': True,\n",
       " 'votes': 3459923,\n",
       " 'percent': 50,\n",
       " 'percent_display': '50.0',\n",
       " 'electoral_votes': 20,\n",
       " 'absentee_votes': 996482,\n",
       " 'absentee_percent': 78.4,\n",
       " 'img_url': 'https://static01.nyt.com/elections-assets/2020/assets/images/candidates/bidenj.png',\n",
       " 'has_image': True,\n",
       " 'link': 'https://www.nytimes.com/interactive/2020/us/elections/joe-biden.html',\n",
       " 'pronoun': 'he'}"
      ]
     },
     "execution_count": 38,
     "metadata": {},
     "output_type": "execute_result"
    }
   ],
   "source": [
    "text[\"data\"][\"races\"][0][\"candidates\"][0]"
   ]
  },
  {
   "cell_type": "code",
   "execution_count": 40,
   "id": "2ce9cc6a",
   "metadata": {},
   "outputs": [
    {
     "data": {
      "text/plain": [
       "'bidenj'"
      ]
     },
     "execution_count": 40,
     "metadata": {},
     "output_type": "execute_result"
    }
   ],
   "source": [
    "text[\"data\"][\"races\"][0][\"candidates\"][0].get(\"candidate_key\")"
   ]
  },
  {
   "cell_type": "code",
   "execution_count": 42,
   "id": "9bd3901a",
   "metadata": {},
   "outputs": [
    {
     "name": "stdout",
     "output_type": "stream",
     "text": [
      "candidate_id\n",
      "candidate_key\n",
      "first_name\n",
      "last_name\n",
      "order\n",
      "name_display\n",
      "party_id\n",
      "incumbent\n",
      "runoff\n",
      "winner\n",
      "votes\n",
      "percent\n",
      "percent_display\n",
      "electoral_votes\n",
      "absentee_votes\n",
      "absentee_percent\n",
      "img_url\n",
      "has_image\n",
      "link\n",
      "pronoun\n"
     ]
    }
   ],
   "source": [
    "for k in text['data'][\"races\"][0][\"candidates\"][0].keys():\n",
    "    print(k)"
   ]
  },
  {
   "cell_type": "markdown",
   "id": "c5e6c836",
   "metadata": {},
   "source": [
    "### Save json file"
   ]
  },
  {
   "cell_type": "code",
   "execution_count": 43,
   "id": "8f05f561",
   "metadata": {},
   "outputs": [],
   "source": [
    "data = {\n",
    "    \"president\": {\n",
    "        \"name\": \"Zaphod Beeblebrox\",\n",
    "        \"species\": \"Betelgeusian\"\n",
    "    }\n",
    "}"
   ]
  },
  {
   "cell_type": "code",
   "execution_count": 44,
   "id": "4457bcba",
   "metadata": {},
   "outputs": [],
   "source": [
    "# Method 1\n",
    "with open(\"test.json\", \"w\") as f:\n",
    "    json.dump(data, f)"
   ]
  },
  {
   "cell_type": "code",
   "execution_count": 49,
   "id": "018b1d7b",
   "metadata": {},
   "outputs": [
    {
     "data": {
      "text/plain": [
       "'{\"president\": {\"name\": \"Zaphod Beeblebrox\", \"species\": \"Betelgeusian\"}}'"
      ]
     },
     "execution_count": 49,
     "metadata": {},
     "output_type": "execute_result"
    }
   ],
   "source": [
    "test2 = json.dumps(data)\n",
    "test2"
   ]
  },
  {
   "cell_type": "markdown",
   "id": "db6fe88a",
   "metadata": {},
   "source": [
    "### Compass interview"
   ]
  },
  {
   "cell_type": "code",
   "execution_count": 11,
   "id": "790ab152",
   "metadata": {},
   "outputs": [
    {
     "data": {
      "text/html": [
       "<div>\n",
       "<style scoped>\n",
       "    .dataframe tbody tr th:only-of-type {\n",
       "        vertical-align: middle;\n",
       "    }\n",
       "\n",
       "    .dataframe tbody tr th {\n",
       "        vertical-align: top;\n",
       "    }\n",
       "\n",
       "    .dataframe thead th {\n",
       "        text-align: right;\n",
       "    }\n",
       "</style>\n",
       "<table border=\"1\" class=\"dataframe\">\n",
       "  <thead>\n",
       "    <tr style=\"text-align: right;\">\n",
       "      <th></th>\n",
       "      <th>AC</th>\n",
       "      <th>AccessInstruction</th>\n",
       "      <th>ActualTax</th>\n",
       "      <th>Address</th>\n",
       "      <th>AddressInternet</th>\n",
       "      <th>Allow3rdPartyComments</th>\n",
       "      <th>AllowAutomatedValuations</th>\n",
       "      <th>AlsoListedAs</th>\n",
       "      <th>Area</th>\n",
       "      <th>AreaAmenities</th>\n",
       "      <th>...</th>\n",
       "      <th>HOATransferFee</th>\n",
       "      <th>EESFeatures</th>\n",
       "      <th>VideoTourLinkUnbranded</th>\n",
       "      <th>TaxBlock</th>\n",
       "      <th>TaxLot</th>\n",
       "      <th>VideoTourLinkBranded</th>\n",
       "      <th>OpenHouseUpcoming</th>\n",
       "      <th>RefusalHrs</th>\n",
       "      <th>DistancetoLightRail</th>\n",
       "      <th>DistancetoMetro</th>\n",
       "    </tr>\n",
       "  </thead>\n",
       "  <tbody>\n",
       "    <tr>\n",
       "      <th>0</th>\n",
       "      <td>Central Air,Seer Rated 13-15</td>\n",
       "      <td>None</td>\n",
       "      <td>478.28</td>\n",
       "      <td>2208  Lauren Dr</td>\n",
       "      <td>2208  Lauren Dr</td>\n",
       "      <td>0</td>\n",
       "      <td>0</td>\n",
       "      <td>4106333.0</td>\n",
       "      <td>LW</td>\n",
       "      <td>Common Grounds,Game Room,General Aircraft Airp...</td>\n",
       "      <td>...</td>\n",
       "      <td>NaN</td>\n",
       "      <td>NaN</td>\n",
       "      <td>NaN</td>\n",
       "      <td>NaN</td>\n",
       "      <td>NaN</td>\n",
       "      <td>NaN</td>\n",
       "      <td>NaN</td>\n",
       "      <td>NaN</td>\n",
       "      <td>NaN</td>\n",
       "      <td>NaN</td>\n",
       "    </tr>\n",
       "    <tr>\n",
       "      <th>1</th>\n",
       "      <td>No A/C</td>\n",
       "      <td>See Remarks</td>\n",
       "      <td>NaN</td>\n",
       "      <td>18933  Barlow St</td>\n",
       "      <td>18933  Barlow St</td>\n",
       "      <td>0</td>\n",
       "      <td>1</td>\n",
       "      <td>NaN</td>\n",
       "      <td>OT</td>\n",
       "      <td>NaN</td>\n",
       "      <td>...</td>\n",
       "      <td>NaN</td>\n",
       "      <td>NaN</td>\n",
       "      <td>NaN</td>\n",
       "      <td>NaN</td>\n",
       "      <td>NaN</td>\n",
       "      <td>NaN</td>\n",
       "      <td>NaN</td>\n",
       "      <td>NaN</td>\n",
       "      <td>NaN</td>\n",
       "      <td>NaN</td>\n",
       "    </tr>\n",
       "  </tbody>\n",
       "</table>\n",
       "<p>2 rows × 251 columns</p>\n",
       "</div>"
      ],
      "text/plain": [
       "                             AC AccessInstruction  ActualTax  \\\n",
       "0  Central Air,Seer Rated 13-15              None     478.28   \n",
       "1                        No A/C       See Remarks        NaN   \n",
       "\n",
       "              Address     AddressInternet  Allow3rdPartyComments  \\\n",
       "0   2208  Lauren Dr     2208  Lauren Dr                        0   \n",
       "1  18933  Barlow St    18933  Barlow St                        0   \n",
       "\n",
       "   AllowAutomatedValuations  AlsoListedAs Area  \\\n",
       "0                         0     4106333.0   LW   \n",
       "1                         1           NaN   OT   \n",
       "\n",
       "                                       AreaAmenities  ...  HOATransferFee  \\\n",
       "0  Common Grounds,Game Room,General Aircraft Airp...  ...             NaN   \n",
       "1                                                NaN  ...             NaN   \n",
       "\n",
       "  EESFeatures VideoTourLinkUnbranded TaxBlock  TaxLot  VideoTourLinkBranded  \\\n",
       "0         NaN                    NaN      NaN     NaN                   NaN   \n",
       "1         NaN                    NaN      NaN     NaN                   NaN   \n",
       "\n",
       "   OpenHouseUpcoming  RefusalHrs DistancetoLightRail  DistancetoMetro  \n",
       "0                NaN         NaN                 NaN              NaN  \n",
       "1                NaN         NaN                 NaN              NaN  \n",
       "\n",
       "[2 rows x 251 columns]"
      ]
     },
     "execution_count": 11,
     "metadata": {},
     "output_type": "execute_result"
    }
   ],
   "source": [
    "import pandas as pd\n",
    "df = pd.read_json(\"/Users/eve/Desktop/Datasets/Compass/Compass_Json.json\")\n",
    "df.head(2)"
   ]
  },
  {
   "cell_type": "code",
   "execution_count": 15,
   "id": "5d9c6865",
   "metadata": {},
   "outputs": [
    {
     "data": {
      "text/plain": [
       "100"
      ]
     },
     "execution_count": 15,
     "metadata": {},
     "output_type": "execute_result"
    }
   ],
   "source": [
    "len(df)"
   ]
  },
  {
   "cell_type": "code",
   "execution_count": 5,
   "id": "f76bda82",
   "metadata": {},
   "outputs": [],
   "source": [
    "import json\n",
    "with open(\"/Users/eve/Desktop/Datasets/Compass/Compass_Json.json\", 'r') as f:\n",
    "    text = json.load(f)"
   ]
  },
  {
   "cell_type": "code",
   "execution_count": 18,
   "id": "89fa2f69",
   "metadata": {},
   "outputs": [
    {
     "data": {
      "text/plain": [
       "100"
      ]
     },
     "execution_count": 18,
     "metadata": {},
     "output_type": "execute_result"
    }
   ],
   "source": [
    "len(text)"
   ]
  },
  {
   "cell_type": "markdown",
   "id": "80252b65",
   "metadata": {},
   "source": [
    "### Q2: Print total number of listings with \"BodyofWater\" field"
   ]
  },
  {
   "cell_type": "code",
   "execution_count": 3,
   "id": "eb09a79b",
   "metadata": {},
   "outputs": [
    {
     "data": {
      "text/plain": [
       "16"
      ]
     },
     "execution_count": 3,
     "metadata": {},
     "output_type": "execute_result"
    }
   ],
   "source": [
    "df[\"BodyofWater\"].notnull().sum()"
   ]
  },
  {
   "cell_type": "code",
   "execution_count": 21,
   "id": "f2e9fe31",
   "metadata": {},
   "outputs": [
    {
     "name": "stdout",
     "output_type": "stream",
     "text": [
      "16\n"
     ]
    }
   ],
   "source": [
    "num = 0\n",
    "for i in range(len(text)):\n",
    "    if \"BodyofWater\" in text[i]:\n",
    "        num += 1\n",
    "print(num)"
   ]
  },
  {
   "cell_type": "markdown",
   "id": "3db62e4e",
   "metadata": {},
   "source": [
    "### Q3: Print total number of listings with more than 3 \"BathsFull\""
   ]
  },
  {
   "cell_type": "code",
   "execution_count": 61,
   "id": "fc3da19d",
   "metadata": {},
   "outputs": [
    {
     "data": {
      "text/plain": [
       "28"
      ]
     },
     "execution_count": 61,
     "metadata": {},
     "output_type": "execute_result"
    }
   ],
   "source": [
    "len(df[df[\"BathsFull\"] > 3])"
   ]
  },
  {
   "cell_type": "code",
   "execution_count": 60,
   "id": "7e7088c9",
   "metadata": {},
   "outputs": [
    {
     "name": "stdout",
     "output_type": "stream",
     "text": [
      "28\n"
     ]
    }
   ],
   "source": [
    "num = 0\n",
    "for i in range(len(text)):\n",
    "    if int(text[i][\"BathsFull\"]) > 3:\n",
    "        num += 1\n",
    "print(num)"
   ]
  },
  {
   "cell_type": "markdown",
   "id": "48e02fa2",
   "metadata": {},
   "source": [
    "### Q4: Find the \"MLSNumber\" and \"ListPrice\" of the listing with the maximum \"ListPrice\""
   ]
  },
  {
   "cell_type": "code",
   "execution_count": 49,
   "id": "4668a163",
   "metadata": {},
   "outputs": [
    {
     "name": "stdout",
     "output_type": "stream",
     "text": [
      "7391562\n",
      "712911\n"
     ]
    }
   ],
   "source": [
    "# Wrong answer\n",
    "maximum = 0\n",
    "index = 0\n",
    "\n",
    "for ind, val in enumerate(df):\n",
    "    if int(df.iloc[i][\"ListPrice\"]) > maximum:\n",
    "        maximum = int(df.iloc[i][\"ListPrice\"])\n",
    "        index = ind\n",
    "print(df.iloc[index][\"MLSNumber\"])\n",
    "print(df.iloc[index][\"ListPrice\"])"
   ]
  },
  {
   "cell_type": "code",
   "execution_count": 52,
   "id": "6222162c",
   "metadata": {},
   "outputs": [
    {
     "data": {
      "text/plain": [
       "37500000"
      ]
     },
     "execution_count": 52,
     "metadata": {},
     "output_type": "execute_result"
    }
   ],
   "source": [
    "max(df[\"ListPrice\"])"
   ]
  },
  {
   "cell_type": "code",
   "execution_count": 53,
   "id": "eaaf708e",
   "metadata": {},
   "outputs": [
    {
     "data": {
      "text/plain": [
       "Int64Index([73], dtype='int64')"
      ]
     },
     "execution_count": 53,
     "metadata": {},
     "output_type": "execute_result"
    }
   ],
   "source": [
    "df[df[\"ListPrice\"] == max(df[\"ListPrice\"])].index"
   ]
  },
  {
   "cell_type": "code",
   "execution_count": 57,
   "id": "537f3a59",
   "metadata": {},
   "outputs": [
    {
     "data": {
      "text/html": [
       "<div>\n",
       "<style scoped>\n",
       "    .dataframe tbody tr th:only-of-type {\n",
       "        vertical-align: middle;\n",
       "    }\n",
       "\n",
       "    .dataframe tbody tr th {\n",
       "        vertical-align: top;\n",
       "    }\n",
       "\n",
       "    .dataframe thead th {\n",
       "        text-align: right;\n",
       "    }\n",
       "</style>\n",
       "<table border=\"1\" class=\"dataframe\">\n",
       "  <thead>\n",
       "    <tr style=\"text-align: right;\">\n",
       "      <th></th>\n",
       "      <th>MLSNumber</th>\n",
       "      <th>ListPrice</th>\n",
       "    </tr>\n",
       "  </thead>\n",
       "  <tbody>\n",
       "    <tr>\n",
       "      <th>73</th>\n",
       "      <td>5625677</td>\n",
       "      <td>37500000</td>\n",
       "    </tr>\n",
       "  </tbody>\n",
       "</table>\n",
       "</div>"
      ],
      "text/plain": [
       "    MLSNumber  ListPrice\n",
       "73    5625677   37500000"
      ]
     },
     "execution_count": 57,
     "metadata": {},
     "output_type": "execute_result"
    }
   ],
   "source": [
    "df[df[\"ListPrice\"] == max(df[\"ListPrice\"])][[\"MLSNumber\", \"ListPrice\"]]"
   ]
  },
  {
   "cell_type": "code",
   "execution_count": 48,
   "id": "dd8726d4",
   "metadata": {},
   "outputs": [
    {
     "name": "stdout",
     "output_type": "stream",
     "text": [
      "5625677\n",
      "37500000.00\n"
     ]
    }
   ],
   "source": [
    "# Correct answer\n",
    "maximum = 0\n",
    "index = 0\n",
    "\n",
    "for i in range(len(text)):\n",
    "    if float(text[i][\"ListPrice\"]) > maximum:\n",
    "        maximum = float(text[i][\"ListPrice\"])\n",
    "        index = i\n",
    "print(text[index][\"MLSNumber\"])\n",
    "print(text[index][\"ListPrice\"])"
   ]
  },
  {
   "cell_type": "markdown",
   "id": "27f7ef2c",
   "metadata": {},
   "source": [
    "### Q5: Print a list of the unique values in the \"Construction\" field"
   ]
  },
  {
   "cell_type": "code",
   "execution_count": 62,
   "id": "2e41661f",
   "metadata": {},
   "outputs": [
    {
     "data": {
      "text/plain": [
       "{'2 Side Masonry',\n",
       " '3 Side Masonry',\n",
       " '3 Side Masonry,Brick Veneer,Stone Veneer',\n",
       " '3 Side Masonry,HardiPlank Type',\n",
       " '3 Side Masonry,HardiPlank Type,Stucco',\n",
       " 'All Sides Masonry',\n",
       " 'All Sides Masonry,Brick Veneer',\n",
       " 'All Sides Masonry,Composition Shingle,Frame/Stone',\n",
       " 'All Sides Masonry,Frame/Stone,Stucco',\n",
       " 'All Sides Masonry,HardiPlank Type,Stone Veneer',\n",
       " 'All Sides Masonry,Log',\n",
       " 'All Sides Masonry,See Agent',\n",
       " 'All Sides Masonry,Stone Veneer',\n",
       " 'All Sides Masonry,Stone Veneer,Stucco',\n",
       " 'All Sides Masonry,Stucco',\n",
       " 'Alt Bldg System,See Agent',\n",
       " 'Aluminum Siding,Brick Veneer',\n",
       " 'Brick Veneer',\n",
       " 'Clapboard,Stone Veneer',\n",
       " 'Composition Shingle,Frame',\n",
       " 'Concrete Block',\n",
       " 'Frame',\n",
       " 'Frame,HardiPlank Type',\n",
       " 'Frame,Stone Veneer,Stucco',\n",
       " 'Frame/Stone',\n",
       " 'HardiPlank Type',\n",
       " 'HardiPlank Type,See Agent',\n",
       " 'See Agent',\n",
       " 'Stone Veneer',\n",
       " 'Stone Veneer,Stucco',\n",
       " 'Stucco',\n",
       " 'Vertical Siding',\n",
       " 'Wood Shingle'}"
      ]
     },
     "execution_count": 62,
     "metadata": {},
     "output_type": "execute_result"
    }
   ],
   "source": [
    "set(df[\"Construction\"])"
   ]
  },
  {
   "cell_type": "code",
   "execution_count": 74,
   "id": "c7e56a01",
   "metadata": {},
   "outputs": [
    {
     "name": "stdout",
     "output_type": "stream",
     "text": [
      "Concrete Block\n",
      "3 Side Masonry,HardiPlank Type,Stucco\n",
      "2 Side Masonry\n",
      "HardiPlank Type,See Agent\n",
      "Aluminum Siding,Brick Veneer\n",
      "Composition Shingle,Frame\n",
      "Frame/Stone\n",
      "All Sides Masonry,Log\n",
      "Vertical Siding\n",
      "All Sides Masonry,Frame/Stone,Stucco\n",
      "Clapboard,Stone Veneer\n",
      "All Sides Masonry,Composition Shingle,Frame/Stone\n",
      "Frame,Stone Veneer,Stucco\n",
      "All Sides Masonry,See Agent\n",
      "Stone Veneer\n",
      "Stucco\n",
      "All Sides Masonry,Brick Veneer\n",
      "3 Side Masonry,Brick Veneer,Stone Veneer\n",
      "18\n"
     ]
    }
   ],
   "source": [
    "# Wrong answer: but why?\n",
    "hashmap = {}\n",
    "for i in range(len(text)):\n",
    "    if text[i][\"Construction\"] not in hashmap:\n",
    "        hashmap[text[i][\"Construction\"]] = 1\n",
    "    else:\n",
    "        hashmap[text[i][\"Construction\"]] += 1\n",
    "\n",
    "count = 0\n",
    "for key, value in hashmap.items():\n",
    "    if value == 1:\n",
    "        count += 1\n",
    "        print(key)\n",
    "print(count)"
   ]
  },
  {
   "cell_type": "code",
   "execution_count": 70,
   "id": "e6ef7525",
   "metadata": {},
   "outputs": [
    {
     "data": {
      "text/plain": [
       "33"
      ]
     },
     "execution_count": 70,
     "metadata": {},
     "output_type": "execute_result"
    }
   ],
   "source": [
    "res = []\n",
    "for i in range(len(text)):\n",
    "    res.append(text[i][\"Construction\"])\n",
    "len(set(res))"
   ]
  },
  {
   "cell_type": "markdown",
   "id": "5877e077",
   "metadata": {},
   "source": [
    "### Q6: Write a function to combine and sanitize \"StreetNumber\", \"StreetName\", \"StreetSuffix\", \"StreetDirPrefix\" into a full address. Ensure that you validate each field"
   ]
  },
  {
   "cell_type": "code",
   "execution_count": 77,
   "id": "8b21ad58",
   "metadata": {},
   "outputs": [
    {
     "data": {
      "text/plain": [
       "'2208'"
      ]
     },
     "execution_count": 77,
     "metadata": {},
     "output_type": "execute_result"
    }
   ],
   "source": [
    "df[\"StreetNumber\"][0]"
   ]
  },
  {
   "cell_type": "code",
   "execution_count": 79,
   "id": "2102d281",
   "metadata": {},
   "outputs": [],
   "source": [
    "df[\"full address\"] = df[\"StreetNumber\"] + \" \" + df[\"StreetName\"] + \" \" + df[\"StreetSuffix\"] + \" \" + df[\"StreetDirPrefix\"]"
   ]
  },
  {
   "cell_type": "code",
   "execution_count": 83,
   "id": "02bf62e7",
   "metadata": {},
   "outputs": [
    {
     "data": {
      "text/plain": [
       "2            1349 Gray AVE N\n",
       "27    6900 Highway 290 HWY W\n",
       "32            1205 Mary ST W\n",
       "41         801 Bluff DRivE N\n",
       "75     215 Hauptstrasse ST N\n",
       "Name: full address, dtype: object"
      ]
     },
     "execution_count": 83,
     "metadata": {},
     "output_type": "execute_result"
    }
   ],
   "source": [
    "df[df[\"full address\"].notnull()][\"full address\"]"
   ]
  },
  {
   "cell_type": "code",
   "execution_count": 84,
   "id": "6447fdc4",
   "metadata": {},
   "outputs": [
    {
     "data": {
      "text/plain": [
       "['1349 Gray AVE N',\n",
       " '6900 Highway 290 HWY W',\n",
       " '1205 Mary ST W',\n",
       " '801 Bluff DRivE N',\n",
       " '215 Hauptstrasse ST N']"
      ]
     },
     "execution_count": 84,
     "metadata": {},
     "output_type": "execute_result"
    }
   ],
   "source": [
    "address = []\n",
    "for i in range(len(text)):\n",
    "    if \"StreetNumber\" in text[i] and \"StreetName\" in text[i] and \"StreetSuffix\" in text[i] and \"StreetDirPrefix\" in text[i]:\n",
    "        address.append(text[i][\"StreetNumber\"] + \" \" + text[i][\"StreetName\"] + \" \" + \n",
    "                      text[i][\"StreetSuffix\"] + \" \" + text[i][\"StreetDirPrefix\"])\n",
    "address"
   ]
  },
  {
   "cell_type": "code",
   "execution_count": null,
   "id": "3099889d",
   "metadata": {},
   "outputs": [],
   "source": []
  },
  {
   "cell_type": "markdown",
   "id": "968d4000",
   "metadata": {},
   "source": [
    "### Q7: Write a function to validate and sanitize agent names (ListAgentFullName and CoListAgentFullName)"
   ]
  },
  {
   "cell_type": "code",
   "execution_count": 92,
   "id": "81cc111b",
   "metadata": {},
   "outputs": [
    {
     "data": {
      "text/html": [
       "<div>\n",
       "<style scoped>\n",
       "    .dataframe tbody tr th:only-of-type {\n",
       "        vertical-align: middle;\n",
       "    }\n",
       "\n",
       "    .dataframe tbody tr th {\n",
       "        vertical-align: top;\n",
       "    }\n",
       "\n",
       "    .dataframe thead th {\n",
       "        text-align: right;\n",
       "    }\n",
       "</style>\n",
       "<table border=\"1\" class=\"dataframe\">\n",
       "  <thead>\n",
       "    <tr style=\"text-align: right;\">\n",
       "      <th></th>\n",
       "      <th>ListAgentFullName</th>\n",
       "      <th>CoListAgentFullName</th>\n",
       "    </tr>\n",
       "  </thead>\n",
       "  <tbody>\n",
       "    <tr>\n",
       "      <th>0</th>\n",
       "      <td>Jeanne Ann Klein</td>\n",
       "      <td>Charles O'Richter</td>\n",
       "    </tr>\n",
       "    <tr>\n",
       "      <th>1</th>\n",
       "      <td>Bailey Tipps</td>\n",
       "      <td>Emily McKnight</td>\n",
       "    </tr>\n",
       "    <tr>\n",
       "      <th>2</th>\n",
       "      <td>Bailey Tipps</td>\n",
       "      <td>Emily O\"Knight</td>\n",
       "    </tr>\n",
       "    <tr>\n",
       "      <th>3</th>\n",
       "      <td>Bailey Tipps</td>\n",
       "      <td>Emily Knight</td>\n",
       "    </tr>\n",
       "    <tr>\n",
       "      <th>4</th>\n",
       "      <td>Kelly Johnson</td>\n",
       "      <td>Danielle Realí</td>\n",
       "    </tr>\n",
       "    <tr>\n",
       "      <th>5</th>\n",
       "      <td>Kelly Johnson</td>\n",
       "      <td>Danielle Reali</td>\n",
       "    </tr>\n",
       "    <tr>\n",
       "      <th>6</th>\n",
       "      <td>Charlotte Lipscomb</td>\n",
       "      <td>Weston Lipscomb</td>\n",
       "    </tr>\n",
       "    <tr>\n",
       "      <th>7</th>\n",
       "      <td>Drew Tate</td>\n",
       "      <td>Pat Tate</td>\n",
       "    </tr>\n",
       "    <tr>\n",
       "      <th>8</th>\n",
       "      <td>Kelly Johnson</td>\n",
       "      <td>Danielle Reali</td>\n",
       "    </tr>\n",
       "    <tr>\n",
       "      <th>9</th>\n",
       "      <td>Georganna Zaba</td>\n",
       "      <td>Trudy Tassin</td>\n",
       "    </tr>\n",
       "    <tr>\n",
       "      <th>10</th>\n",
       "      <td>Craig House</td>\n",
       "      <td>Grant Gold</td>\n",
       "    </tr>\n",
       "    <tr>\n",
       "      <th>11</th>\n",
       "      <td>Michele Eilers</td>\n",
       "      <td>Tiffany Berry</td>\n",
       "    </tr>\n",
       "    <tr>\n",
       "      <th>12</th>\n",
       "      <td>Gary Dolch</td>\n",
       "      <td>Michelle Dolch</td>\n",
       "    </tr>\n",
       "    <tr>\n",
       "      <th>13</th>\n",
       "      <td>Georganna Zaba</td>\n",
       "      <td>Brigitte Nolen</td>\n",
       "    </tr>\n",
       "    <tr>\n",
       "      <th>14</th>\n",
       "      <td>Victor Aguilar</td>\n",
       "      <td>Karla Aguilar</td>\n",
       "    </tr>\n",
       "    <tr>\n",
       "      <th>15</th>\n",
       "      <td>Mary Hickey</td>\n",
       "      <td>Trudy Tassin</td>\n",
       "    </tr>\n",
       "  </tbody>\n",
       "</table>\n",
       "</div>"
      ],
      "text/plain": [
       "     ListAgentFullName CoListAgentFullName\n",
       "0     Jeanne Ann Klein   Charles O'Richter\n",
       "1         Bailey Tipps      Emily McKnight\n",
       "2         Bailey Tipps      Emily O\"Knight\n",
       "3         Bailey Tipps        Emily Knight\n",
       "4        Kelly Johnson      Danielle Realí\n",
       "5        Kelly Johnson      Danielle Reali\n",
       "6   Charlotte Lipscomb     Weston Lipscomb\n",
       "7            Drew Tate            Pat Tate\n",
       "8        Kelly Johnson      Danielle Reali\n",
       "9       Georganna Zaba        Trudy Tassin\n",
       "10         Craig House          Grant Gold\n",
       "11      Michele Eilers       Tiffany Berry\n",
       "12          Gary Dolch      Michelle Dolch\n",
       "13      Georganna Zaba      Brigitte Nolen\n",
       "14      Victor Aguilar       Karla Aguilar\n",
       "15         Mary Hickey        Trudy Tassin"
      ]
     },
     "execution_count": 92,
     "metadata": {},
     "output_type": "execute_result"
    }
   ],
   "source": [
    "df[[\"ListAgentFullName\", \"CoListAgentFullName\"]].dropna().reset_index(drop = True)"
   ]
  },
  {
   "cell_type": "code",
   "execution_count": 90,
   "id": "fc8da304",
   "metadata": {},
   "outputs": [
    {
     "data": {
      "text/html": [
       "<div>\n",
       "<style scoped>\n",
       "    .dataframe tbody tr th:only-of-type {\n",
       "        vertical-align: middle;\n",
       "    }\n",
       "\n",
       "    .dataframe tbody tr th {\n",
       "        vertical-align: top;\n",
       "    }\n",
       "\n",
       "    .dataframe thead th {\n",
       "        text-align: right;\n",
       "    }\n",
       "</style>\n",
       "<table border=\"1\" class=\"dataframe\">\n",
       "  <thead>\n",
       "    <tr style=\"text-align: right;\">\n",
       "      <th></th>\n",
       "      <th>ListAgentFullName</th>\n",
       "      <th>CoListAgentFullName</th>\n",
       "    </tr>\n",
       "  </thead>\n",
       "  <tbody>\n",
       "    <tr>\n",
       "      <th>0</th>\n",
       "      <td>Jeanne Ann Klein</td>\n",
       "      <td>Charles O'Richter</td>\n",
       "    </tr>\n",
       "    <tr>\n",
       "      <th>1</th>\n",
       "      <td>Bailey Tipps</td>\n",
       "      <td>Emily McKnight</td>\n",
       "    </tr>\n",
       "    <tr>\n",
       "      <th>2</th>\n",
       "      <td>Bailey Tipps</td>\n",
       "      <td>Emily O\"Knight</td>\n",
       "    </tr>\n",
       "    <tr>\n",
       "      <th>3</th>\n",
       "      <td>Bailey Tipps</td>\n",
       "      <td>Emily Knight</td>\n",
       "    </tr>\n",
       "    <tr>\n",
       "      <th>4</th>\n",
       "      <td>Kelly Johnson</td>\n",
       "      <td>Danielle Realí</td>\n",
       "    </tr>\n",
       "    <tr>\n",
       "      <th>5</th>\n",
       "      <td>Kelly Johnson</td>\n",
       "      <td>Danielle Reali</td>\n",
       "    </tr>\n",
       "    <tr>\n",
       "      <th>6</th>\n",
       "      <td>Charlotte Lipscomb</td>\n",
       "      <td>Weston Lipscomb</td>\n",
       "    </tr>\n",
       "    <tr>\n",
       "      <th>7</th>\n",
       "      <td>Drew Tate</td>\n",
       "      <td>Pat Tate</td>\n",
       "    </tr>\n",
       "    <tr>\n",
       "      <th>8</th>\n",
       "      <td>Kelly Johnson</td>\n",
       "      <td>Danielle Reali</td>\n",
       "    </tr>\n",
       "    <tr>\n",
       "      <th>9</th>\n",
       "      <td>Georganna Zaba</td>\n",
       "      <td>Trudy Tassin</td>\n",
       "    </tr>\n",
       "    <tr>\n",
       "      <th>10</th>\n",
       "      <td>Craig House</td>\n",
       "      <td>Grant Gold</td>\n",
       "    </tr>\n",
       "    <tr>\n",
       "      <th>11</th>\n",
       "      <td>Michele Eilers</td>\n",
       "      <td>Tiffany Berry</td>\n",
       "    </tr>\n",
       "    <tr>\n",
       "      <th>12</th>\n",
       "      <td>Gary Dolch</td>\n",
       "      <td>Michelle Dolch</td>\n",
       "    </tr>\n",
       "    <tr>\n",
       "      <th>13</th>\n",
       "      <td>Georganna Zaba</td>\n",
       "      <td>Brigitte Nolen</td>\n",
       "    </tr>\n",
       "    <tr>\n",
       "      <th>14</th>\n",
       "      <td>Victor Aguilar</td>\n",
       "      <td>Karla Aguilar</td>\n",
       "    </tr>\n",
       "    <tr>\n",
       "      <th>15</th>\n",
       "      <td>Mary Hickey</td>\n",
       "      <td>Trudy Tassin</td>\n",
       "    </tr>\n",
       "  </tbody>\n",
       "</table>\n",
       "</div>"
      ],
      "text/plain": [
       "     ListAgentFullName CoListAgentFullName\n",
       "0     Jeanne Ann Klein   Charles O'Richter\n",
       "1         Bailey Tipps      Emily McKnight\n",
       "2         Bailey Tipps      Emily O\"Knight\n",
       "3         Bailey Tipps        Emily Knight\n",
       "4        Kelly Johnson      Danielle Realí\n",
       "5        Kelly Johnson      Danielle Reali\n",
       "6   Charlotte Lipscomb     Weston Lipscomb\n",
       "7            Drew Tate            Pat Tate\n",
       "8        Kelly Johnson      Danielle Reali\n",
       "9       Georganna Zaba        Trudy Tassin\n",
       "10         Craig House          Grant Gold\n",
       "11      Michele Eilers       Tiffany Berry\n",
       "12          Gary Dolch      Michelle Dolch\n",
       "13      Georganna Zaba      Brigitte Nolen\n",
       "14      Victor Aguilar       Karla Aguilar\n",
       "15         Mary Hickey        Trudy Tassin"
      ]
     },
     "execution_count": 90,
     "metadata": {},
     "output_type": "execute_result"
    }
   ],
   "source": [
    "res = []\n",
    "for i in range(len(text)):\n",
    "    if \"ListAgentFullName\" in text[i] and \"CoListAgentFullName\" in text[i]:\n",
    "        res.append([text[i][\"ListAgentFullName\"], text[i][\"CoListAgentFullName\"]])\n",
    "pd.DataFrame(res, columns = [\"ListAgentFullName\", \"CoListAgentFullName\"])"
   ]
  },
  {
   "cell_type": "code",
   "execution_count": null,
   "id": "9f57747e",
   "metadata": {},
   "outputs": [],
   "source": []
  }
 ],
 "metadata": {
  "kernelspec": {
   "display_name": "Python 3",
   "language": "python",
   "name": "python3"
  },
  "language_info": {
   "codemirror_mode": {
    "name": "ipython",
    "version": 3
   },
   "file_extension": ".py",
   "mimetype": "text/x-python",
   "name": "python",
   "nbconvert_exporter": "python",
   "pygments_lexer": "ipython3",
   "version": "3.7.4"
  }
 },
 "nbformat": 4,
 "nbformat_minor": 5
}
