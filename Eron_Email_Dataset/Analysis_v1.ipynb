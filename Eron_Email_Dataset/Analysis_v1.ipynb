{
 "cells": [
  {
   "cell_type": "markdown",
   "metadata": {},
   "source": [
    "### Summary\n",
    "1. Task: Build a person of interest identifier\n",
    "2. 先整理:\n",
    "    * message 斷句 \"\\n\" --> 存成不同的 columns\n",
    "    * 特別看 subject 內容，找 frequency\n",
    "\n",
    "\n",
    "### Tips\n",
    "1. 先用少部分的 data 做測試，然後再擴展到整個 dataset. \n",
    "e.g. data = pd.read_csv(\"file path\", chunksize = 500), df = next(data)\n",
    "2. 學習到怎麼處理 text data\n",
    "    * 把一團 message 分成幾個 columns 儲存\n",
    "    * 再深度地把那些 columns 的資料分別清理出有用的資料\n",
    "    * 怎麼寫成一些 functions 去集體處理上述步驟?"
   ]
  },
  {
   "cell_type": "code",
   "execution_count": 65,
   "metadata": {},
   "outputs": [],
   "source": [
    "import pandas as pd\n",
    "import numpy as np\n",
    "import seaborn as sns\n",
    "import matplotlib.pyplot as plt"
   ]
  },
  {
   "cell_type": "code",
   "execution_count": 66,
   "metadata": {},
   "outputs": [
    {
     "data": {
      "text/html": [
       "<div>\n",
       "<style scoped>\n",
       "    .dataframe tbody tr th:only-of-type {\n",
       "        vertical-align: middle;\n",
       "    }\n",
       "\n",
       "    .dataframe tbody tr th {\n",
       "        vertical-align: top;\n",
       "    }\n",
       "\n",
       "    .dataframe thead th {\n",
       "        text-align: right;\n",
       "    }\n",
       "</style>\n",
       "<table border=\"1\" class=\"dataframe\">\n",
       "  <thead>\n",
       "    <tr style=\"text-align: right;\">\n",
       "      <th></th>\n",
       "      <th>file</th>\n",
       "      <th>message</th>\n",
       "    </tr>\n",
       "  </thead>\n",
       "  <tbody>\n",
       "    <tr>\n",
       "      <th>0</th>\n",
       "      <td>allen-p/_sent_mail/1.</td>\n",
       "      <td>Message-ID: &lt;18782981.1075855378110.JavaMail.e...</td>\n",
       "    </tr>\n",
       "    <tr>\n",
       "      <th>1</th>\n",
       "      <td>allen-p/_sent_mail/10.</td>\n",
       "      <td>Message-ID: &lt;15464986.1075855378456.JavaMail.e...</td>\n",
       "    </tr>\n",
       "    <tr>\n",
       "      <th>2</th>\n",
       "      <td>allen-p/_sent_mail/100.</td>\n",
       "      <td>Message-ID: &lt;24216240.1075855687451.JavaMail.e...</td>\n",
       "    </tr>\n",
       "  </tbody>\n",
       "</table>\n",
       "</div>"
      ],
      "text/plain": [
       "                      file                                            message\n",
       "0    allen-p/_sent_mail/1.  Message-ID: <18782981.1075855378110.JavaMail.e...\n",
       "1   allen-p/_sent_mail/10.  Message-ID: <15464986.1075855378456.JavaMail.e...\n",
       "2  allen-p/_sent_mail/100.  Message-ID: <24216240.1075855687451.JavaMail.e..."
      ]
     },
     "execution_count": 66,
     "metadata": {},
     "output_type": "execute_result"
    }
   ],
   "source": [
    "chunk = pd.read_csv(\"/Users/eve/Desktop/Datasets/Eron_Email_Dataset/emails.csv\", chunksize = 500)\n",
    "data = next(chunk)\n",
    "data.head(3)"
   ]
  },
  {
   "cell_type": "code",
   "execution_count": 67,
   "metadata": {},
   "outputs": [
    {
     "name": "stdout",
     "output_type": "stream",
     "text": [
      "<class 'pandas.core.frame.DataFrame'>\n",
      "RangeIndex: 500 entries, 0 to 499\n",
      "Data columns (total 2 columns):\n",
      "file       500 non-null object\n",
      "message    500 non-null object\n",
      "dtypes: object(2)\n",
      "memory usage: 7.9+ KB\n"
     ]
    }
   ],
   "source": [
    "data.info()"
   ]
  },
  {
   "cell_type": "code",
   "execution_count": 68,
   "metadata": {},
   "outputs": [
    {
     "data": {
      "text/plain": [
       "'allen-p/_sent_mail/1.'"
      ]
     },
     "execution_count": 68,
     "metadata": {},
     "output_type": "execute_result"
    }
   ],
   "source": [
    "data.iloc[0][\"file\"]"
   ]
  },
  {
   "cell_type": "code",
   "execution_count": 69,
   "metadata": {},
   "outputs": [
    {
     "data": {
      "text/plain": [
       "\"Message-ID: <18782981.1075855378110.JavaMail.evans@thyme>\\nDate: Mon, 14 May 2001 16:39:00 -0700 (PDT)\\nFrom: phillip.allen@enron.com\\nTo: tim.belden@enron.com\\nSubject: \\nMime-Version: 1.0\\nContent-Type: text/plain; charset=us-ascii\\nContent-Transfer-Encoding: 7bit\\nX-From: Phillip K Allen\\nX-To: Tim Belden <Tim Belden/Enron@EnronXGate>\\nX-cc: \\nX-bcc: \\nX-Folder: \\\\Phillip_Allen_Jan2002_1\\\\Allen, Phillip K.\\\\'Sent Mail\\nX-Origin: Allen-P\\nX-FileName: pallen (Non-Privileged).pst\\n\\nHere is our forecast\\n\\n \""
      ]
     },
     "execution_count": 69,
     "metadata": {},
     "output_type": "execute_result"
    }
   ],
   "source": [
    "test = data.iloc[0]['message']\n",
    "test"
   ]
  },
  {
   "cell_type": "code",
   "execution_count": 70,
   "metadata": {},
   "outputs": [
    {
     "data": {
      "text/plain": [
       "['Message-ID: <18782981.1075855378110.JavaMail.evans@thyme>',\n",
       " 'Date: Mon, 14 May 2001 16:39:00 -0700 (PDT)',\n",
       " 'From: phillip.allen@enron.com',\n",
       " 'To: tim.belden@enron.com',\n",
       " 'Subject: ',\n",
       " 'Mime-Version: 1.0',\n",
       " 'Content-Type: text/plain; charset=us-ascii',\n",
       " 'Content-Transfer-Encoding: 7bit',\n",
       " 'X-From: Phillip K Allen',\n",
       " 'X-To: Tim Belden <Tim Belden/Enron@EnronXGate>',\n",
       " 'X-cc: ',\n",
       " 'X-bcc: ',\n",
       " \"X-Folder: \\\\Phillip_Allen_Jan2002_1\\\\Allen, Phillip K.\\\\'Sent Mail\",\n",
       " 'X-Origin: Allen-P',\n",
       " 'X-FileName: pallen (Non-Privileged).pst',\n",
       " '',\n",
       " 'Here is our forecast',\n",
       " '',\n",
       " ' ']"
      ]
     },
     "execution_count": 70,
     "metadata": {},
     "output_type": "execute_result"
    }
   ],
   "source": [
    "test.split(\"\\n\")"
   ]
  },
  {
   "cell_type": "markdown",
   "metadata": {},
   "source": [
    "### 取出 message 內容\n",
    "Q1: 怎麼只取出 message content?"
   ]
  },
  {
   "cell_type": "markdown",
   "metadata": {},
   "source": [
    "#### My method"
   ]
  },
  {
   "cell_type": "code",
   "execution_count": 71,
   "metadata": {},
   "outputs": [],
   "source": [
    "empty_list = []\n",
    "for i in range(len(data)):\n",
    "    empty_list.append(data.iloc[i][\"message\"].split(\"\\n\"))"
   ]
  },
  {
   "cell_type": "code",
   "execution_count": 72,
   "metadata": {},
   "outputs": [
    {
     "data": {
      "text/html": [
       "<div>\n",
       "<style scoped>\n",
       "    .dataframe tbody tr th:only-of-type {\n",
       "        vertical-align: middle;\n",
       "    }\n",
       "\n",
       "    .dataframe tbody tr th {\n",
       "        vertical-align: top;\n",
       "    }\n",
       "\n",
       "    .dataframe thead th {\n",
       "        text-align: right;\n",
       "    }\n",
       "</style>\n",
       "<table border=\"1\" class=\"dataframe\">\n",
       "  <thead>\n",
       "    <tr style=\"text-align: right;\">\n",
       "      <th></th>\n",
       "      <th>0</th>\n",
       "      <th>1</th>\n",
       "      <th>2</th>\n",
       "      <th>3</th>\n",
       "      <th>4</th>\n",
       "      <th>5</th>\n",
       "      <th>6</th>\n",
       "      <th>7</th>\n",
       "      <th>8</th>\n",
       "      <th>9</th>\n",
       "      <th>...</th>\n",
       "      <th>265</th>\n",
       "      <th>266</th>\n",
       "      <th>267</th>\n",
       "      <th>268</th>\n",
       "      <th>269</th>\n",
       "      <th>270</th>\n",
       "      <th>271</th>\n",
       "      <th>272</th>\n",
       "      <th>273</th>\n",
       "      <th>274</th>\n",
       "    </tr>\n",
       "  </thead>\n",
       "  <tbody>\n",
       "    <tr>\n",
       "      <th>0</th>\n",
       "      <td>Message-ID: &lt;18782981.1075855378110.JavaMail.e...</td>\n",
       "      <td>Date: Mon, 14 May 2001 16:39:00 -0700 (PDT)</td>\n",
       "      <td>From: phillip.allen@enron.com</td>\n",
       "      <td>To: tim.belden@enron.com</td>\n",
       "      <td>Subject:</td>\n",
       "      <td>Mime-Version: 1.0</td>\n",
       "      <td>Content-Type: text/plain; charset=us-ascii</td>\n",
       "      <td>Content-Transfer-Encoding: 7bit</td>\n",
       "      <td>X-From: Phillip K Allen</td>\n",
       "      <td>X-To: Tim Belden &lt;Tim Belden/Enron@EnronXGate&gt;</td>\n",
       "      <td>...</td>\n",
       "      <td>None</td>\n",
       "      <td>None</td>\n",
       "      <td>None</td>\n",
       "      <td>None</td>\n",
       "      <td>None</td>\n",
       "      <td>None</td>\n",
       "      <td>None</td>\n",
       "      <td>None</td>\n",
       "      <td>None</td>\n",
       "      <td>None</td>\n",
       "    </tr>\n",
       "    <tr>\n",
       "      <th>1</th>\n",
       "      <td>Message-ID: &lt;15464986.1075855378456.JavaMail.e...</td>\n",
       "      <td>Date: Fri, 4 May 2001 13:51:00 -0700 (PDT)</td>\n",
       "      <td>From: phillip.allen@enron.com</td>\n",
       "      <td>To: john.lavorato@enron.com</td>\n",
       "      <td>Subject: Re:</td>\n",
       "      <td>Mime-Version: 1.0</td>\n",
       "      <td>Content-Type: text/plain; charset=us-ascii</td>\n",
       "      <td>Content-Transfer-Encoding: 7bit</td>\n",
       "      <td>X-From: Phillip K Allen</td>\n",
       "      <td>X-To: John J Lavorato &lt;John J Lavorato/ENRON@e...</td>\n",
       "      <td>...</td>\n",
       "      <td>None</td>\n",
       "      <td>None</td>\n",
       "      <td>None</td>\n",
       "      <td>None</td>\n",
       "      <td>None</td>\n",
       "      <td>None</td>\n",
       "      <td>None</td>\n",
       "      <td>None</td>\n",
       "      <td>None</td>\n",
       "      <td>None</td>\n",
       "    </tr>\n",
       "    <tr>\n",
       "      <th>2</th>\n",
       "      <td>Message-ID: &lt;24216240.1075855687451.JavaMail.e...</td>\n",
       "      <td>Date: Wed, 18 Oct 2000 03:00:00 -0700 (PDT)</td>\n",
       "      <td>From: phillip.allen@enron.com</td>\n",
       "      <td>To: leah.arsdall@enron.com</td>\n",
       "      <td>Subject: Re: test</td>\n",
       "      <td>Mime-Version: 1.0</td>\n",
       "      <td>Content-Type: text/plain; charset=us-ascii</td>\n",
       "      <td>Content-Transfer-Encoding: 7bit</td>\n",
       "      <td>X-From: Phillip K Allen</td>\n",
       "      <td>X-To: Leah Van Arsdall</td>\n",
       "      <td>...</td>\n",
       "      <td>None</td>\n",
       "      <td>None</td>\n",
       "      <td>None</td>\n",
       "      <td>None</td>\n",
       "      <td>None</td>\n",
       "      <td>None</td>\n",
       "      <td>None</td>\n",
       "      <td>None</td>\n",
       "      <td>None</td>\n",
       "      <td>None</td>\n",
       "    </tr>\n",
       "  </tbody>\n",
       "</table>\n",
       "<p>3 rows × 275 columns</p>\n",
       "</div>"
      ],
      "text/plain": [
       "                                                 0    \\\n",
       "0  Message-ID: <18782981.1075855378110.JavaMail.e...   \n",
       "1  Message-ID: <15464986.1075855378456.JavaMail.e...   \n",
       "2  Message-ID: <24216240.1075855687451.JavaMail.e...   \n",
       "\n",
       "                                           1                              2    \\\n",
       "0  Date: Mon, 14 May 2001 16:39:00 -0700 (PDT)  From: phillip.allen@enron.com   \n",
       "1   Date: Fri, 4 May 2001 13:51:00 -0700 (PDT)  From: phillip.allen@enron.com   \n",
       "2  Date: Wed, 18 Oct 2000 03:00:00 -0700 (PDT)  From: phillip.allen@enron.com   \n",
       "\n",
       "                           3                  4                  5    \\\n",
       "0     To: tim.belden@enron.com          Subject:   Mime-Version: 1.0   \n",
       "1  To: john.lavorato@enron.com       Subject: Re:  Mime-Version: 1.0   \n",
       "2   To: leah.arsdall@enron.com  Subject: Re: test  Mime-Version: 1.0   \n",
       "\n",
       "                                          6    \\\n",
       "0  Content-Type: text/plain; charset=us-ascii   \n",
       "1  Content-Type: text/plain; charset=us-ascii   \n",
       "2  Content-Type: text/plain; charset=us-ascii   \n",
       "\n",
       "                               7                        8    \\\n",
       "0  Content-Transfer-Encoding: 7bit  X-From: Phillip K Allen   \n",
       "1  Content-Transfer-Encoding: 7bit  X-From: Phillip K Allen   \n",
       "2  Content-Transfer-Encoding: 7bit  X-From: Phillip K Allen   \n",
       "\n",
       "                                                 9    ...    265   266   267  \\\n",
       "0     X-To: Tim Belden <Tim Belden/Enron@EnronXGate>  ...   None  None  None   \n",
       "1  X-To: John J Lavorato <John J Lavorato/ENRON@e...  ...   None  None  None   \n",
       "2                             X-To: Leah Van Arsdall  ...   None  None  None   \n",
       "\n",
       "    268   269   270   271   272   273   274  \n",
       "0  None  None  None  None  None  None  None  \n",
       "1  None  None  None  None  None  None  None  \n",
       "2  None  None  None  None  None  None  None  \n",
       "\n",
       "[3 rows x 275 columns]"
      ]
     },
     "execution_count": 72,
     "metadata": {},
     "output_type": "execute_result"
    }
   ],
   "source": [
    "message = pd.DataFrame(empty_list)\n",
    "message.head(3)"
   ]
  },
  {
   "cell_type": "markdown",
   "metadata": {},
   "source": [
    "#### Other's method\n",
    "https://www.kaggle.com/jamestollefson/enron-network-analysis\n",
    "1. 先單獨取出 message column，然後用 split(\"\\n\") 把資料取出來\n",
    "2. 因為觀察到「信件主體大多出現在第十五個 row」，我們只保留第十五row「之後的內容」，存在另個 column 之中 = content\n",
    "3. 分別取出 date, senders, recipients, subject，其中 senders & recipients 因為有一個以上的可能，需要分別處理"
   ]
  },
  {
   "cell_type": "code",
   "execution_count": 73,
   "metadata": {},
   "outputs": [
    {
     "data": {
      "text/html": [
       "<div>\n",
       "<style scoped>\n",
       "    .dataframe tbody tr th:only-of-type {\n",
       "        vertical-align: middle;\n",
       "    }\n",
       "\n",
       "    .dataframe tbody tr th {\n",
       "        vertical-align: top;\n",
       "    }\n",
       "\n",
       "    .dataframe thead th {\n",
       "        text-align: right;\n",
       "    }\n",
       "</style>\n",
       "<table border=\"1\" class=\"dataframe\">\n",
       "  <thead>\n",
       "    <tr style=\"text-align: right;\">\n",
       "      <th></th>\n",
       "      <th>file</th>\n",
       "      <th>message</th>\n",
       "    </tr>\n",
       "  </thead>\n",
       "  <tbody>\n",
       "    <tr>\n",
       "      <th>0</th>\n",
       "      <td>allen-p/_sent_mail/1.</td>\n",
       "      <td>Message-ID: &lt;18782981.1075855378110.JavaMail.e...</td>\n",
       "    </tr>\n",
       "    <tr>\n",
       "      <th>1</th>\n",
       "      <td>allen-p/_sent_mail/10.</td>\n",
       "      <td>Message-ID: &lt;15464986.1075855378456.JavaMail.e...</td>\n",
       "    </tr>\n",
       "  </tbody>\n",
       "</table>\n",
       "</div>"
      ],
      "text/plain": [
       "                     file                                            message\n",
       "0   allen-p/_sent_mail/1.  Message-ID: <18782981.1075855378110.JavaMail.e...\n",
       "1  allen-p/_sent_mail/10.  Message-ID: <15464986.1075855378456.JavaMail.e..."
      ]
     },
     "execution_count": 73,
     "metadata": {},
     "output_type": "execute_result"
    }
   ],
   "source": [
    "test = pd.read_csv(\"/Users/eve/Desktop/Datasets/Eron_Email_Dataset/emails.csv\", chunksize = 500)\n",
    "data = next(test)\n",
    "data.head(2)"
   ]
  },
  {
   "cell_type": "code",
   "execution_count": 74,
   "metadata": {},
   "outputs": [],
   "source": [
    "# 把沒有涵蓋'Message-ID: ', 'Date: ', 'From: ', 'To: ', 'Subject: '的 message 給刪掉\n",
    "def standard_format(df, Series, string, slicer):\n",
    "    \"\"\"Drops rows containing messages without some specified value in the expected locations. \n",
    "    Returns original dataframe without these values. Don't forget to reindex after doing this!!!\"\"\"\n",
    "    rows = []\n",
    "    for row, message in enumerate(Series):\n",
    "        message_words = message.split('\\n')\n",
    "        if string not in message_words[slicer]:\n",
    "            rows.append(row)\n",
    "    df = df.drop(df.index[rows])\n",
    "    return df"
   ]
  },
  {
   "cell_type": "code",
   "execution_count": 75,
   "metadata": {},
   "outputs": [
    {
     "name": "stdout",
     "output_type": "stream",
     "text": [
      "Got rid of 11 useless emails! That's 2.2% of the total number of messages in this dataset.\n"
     ]
    }
   ],
   "source": [
    "x = len(data.index)\n",
    "headers = ['Message-ID: ', 'Date: ', 'From: ', 'To: ', 'Subject: ']\n",
    "for i, v in enumerate(headers):\n",
    "    data = standard_format(data, data.message, v, i)\n",
    "data = data.reset_index()\n",
    "print(\"Got rid of {} useless emails! That's {}% of the total number of messages in this dataset.\".format(x - len(data.index), np.round(((x - len(data.index)) / x) * 100, decimals=2)))"
   ]
  },
  {
   "cell_type": "code",
   "execution_count": 76,
   "metadata": {},
   "outputs": [
    {
     "data": {
      "text/html": [
       "<div>\n",
       "<style scoped>\n",
       "    .dataframe tbody tr th:only-of-type {\n",
       "        vertical-align: middle;\n",
       "    }\n",
       "\n",
       "    .dataframe tbody tr th {\n",
       "        vertical-align: top;\n",
       "    }\n",
       "\n",
       "    .dataframe thead th {\n",
       "        text-align: right;\n",
       "    }\n",
       "</style>\n",
       "<table border=\"1\" class=\"dataframe\">\n",
       "  <thead>\n",
       "    <tr style=\"text-align: right;\">\n",
       "      <th></th>\n",
       "      <th>index</th>\n",
       "      <th>file</th>\n",
       "      <th>message</th>\n",
       "    </tr>\n",
       "  </thead>\n",
       "  <tbody>\n",
       "    <tr>\n",
       "      <th>0</th>\n",
       "      <td>0</td>\n",
       "      <td>allen-p/_sent_mail/1.</td>\n",
       "      <td>Message-ID: &lt;18782981.1075855378110.JavaMail.e...</td>\n",
       "    </tr>\n",
       "    <tr>\n",
       "      <th>1</th>\n",
       "      <td>1</td>\n",
       "      <td>allen-p/_sent_mail/10.</td>\n",
       "      <td>Message-ID: &lt;15464986.1075855378456.JavaMail.e...</td>\n",
       "    </tr>\n",
       "  </tbody>\n",
       "</table>\n",
       "</div>"
      ],
      "text/plain": [
       "   index                    file  \\\n",
       "0      0   allen-p/_sent_mail/1.   \n",
       "1      1  allen-p/_sent_mail/10.   \n",
       "\n",
       "                                             message  \n",
       "0  Message-ID: <18782981.1075855378110.JavaMail.e...  \n",
       "1  Message-ID: <15464986.1075855378456.JavaMail.e...  "
      ]
     },
     "execution_count": 76,
     "metadata": {},
     "output_type": "execute_result"
    }
   ],
   "source": [
    "data.head(2)"
   ]
  },
  {
   "cell_type": "code",
   "execution_count": 77,
   "metadata": {},
   "outputs": [
    {
     "data": {
      "text/html": [
       "<div>\n",
       "<style scoped>\n",
       "    .dataframe tbody tr th:only-of-type {\n",
       "        vertical-align: middle;\n",
       "    }\n",
       "\n",
       "    .dataframe tbody tr th {\n",
       "        vertical-align: top;\n",
       "    }\n",
       "\n",
       "    .dataframe thead th {\n",
       "        text-align: right;\n",
       "    }\n",
       "</style>\n",
       "<table border=\"1\" class=\"dataframe\">\n",
       "  <thead>\n",
       "    <tr style=\"text-align: right;\">\n",
       "      <th></th>\n",
       "      <th>index</th>\n",
       "      <th>file</th>\n",
       "      <th>message</th>\n",
       "      <th>text</th>\n",
       "    </tr>\n",
       "  </thead>\n",
       "  <tbody>\n",
       "    <tr>\n",
       "      <th>0</th>\n",
       "      <td>0</td>\n",
       "      <td>allen-p/_sent_mail/1.</td>\n",
       "      <td>Message-ID: &lt;18782981.1075855378110.JavaMail.e...</td>\n",
       "      <td>[, Here is our forecast, ,  ]</td>\n",
       "    </tr>\n",
       "    <tr>\n",
       "      <th>1</th>\n",
       "      <td>1</td>\n",
       "      <td>allen-p/_sent_mail/10.</td>\n",
       "      <td>Message-ID: &lt;15464986.1075855378456.JavaMail.e...</td>\n",
       "      <td>[, Traveling to have a business meeting takes ...</td>\n",
       "    </tr>\n",
       "    <tr>\n",
       "      <th>2</th>\n",
       "      <td>2</td>\n",
       "      <td>allen-p/_sent_mail/100.</td>\n",
       "      <td>Message-ID: &lt;24216240.1075855687451.JavaMail.e...</td>\n",
       "      <td>[, test successful.  way to go!!!]</td>\n",
       "    </tr>\n",
       "  </tbody>\n",
       "</table>\n",
       "</div>"
      ],
      "text/plain": [
       "   index                     file  \\\n",
       "0      0    allen-p/_sent_mail/1.   \n",
       "1      1   allen-p/_sent_mail/10.   \n",
       "2      2  allen-p/_sent_mail/100.   \n",
       "\n",
       "                                             message  \\\n",
       "0  Message-ID: <18782981.1075855378110.JavaMail.e...   \n",
       "1  Message-ID: <15464986.1075855378456.JavaMail.e...   \n",
       "2  Message-ID: <24216240.1075855687451.JavaMail.e...   \n",
       "\n",
       "                                                text  \n",
       "0                      [, Here is our forecast, ,  ]  \n",
       "1  [, Traveling to have a business meeting takes ...  \n",
       "2                 [, test successful.  way to go!!!]  "
      ]
     },
     "execution_count": 77,
     "metadata": {},
     "output_type": "execute_result"
    }
   ],
   "source": [
    "def get_text(Series, row_num_slicer):\n",
    "    \"\"\"returns a Series with text sliced from a list split from each message. Row_num_slicer\n",
    "    tells function where to slice split text to find only the body of the message.\"\"\"\n",
    "    result = pd.Series(index=Series.index)\n",
    "    for row, message in enumerate(Series):\n",
    "        message_words = message.split('\\n')\n",
    "        del message_words[:row_num_slicer]\n",
    "        result.iloc[row] = message_words\n",
    "    return result\n",
    "\n",
    "data['text'] = get_text(data.message, 15)\n",
    "data.head(3)"
   ]
  },
  {
   "cell_type": "code",
   "execution_count": 78,
   "metadata": {},
   "outputs": [
    {
     "data": {
      "text/html": [
       "<div>\n",
       "<style scoped>\n",
       "    .dataframe tbody tr th:only-of-type {\n",
       "        vertical-align: middle;\n",
       "    }\n",
       "\n",
       "    .dataframe tbody tr th {\n",
       "        vertical-align: top;\n",
       "    }\n",
       "\n",
       "    .dataframe thead th {\n",
       "        text-align: right;\n",
       "    }\n",
       "</style>\n",
       "<table border=\"1\" class=\"dataframe\">\n",
       "  <thead>\n",
       "    <tr style=\"text-align: right;\">\n",
       "      <th></th>\n",
       "      <th>index</th>\n",
       "      <th>file</th>\n",
       "      <th>message</th>\n",
       "      <th>text</th>\n",
       "      <th>date</th>\n",
       "    </tr>\n",
       "  </thead>\n",
       "  <tbody>\n",
       "    <tr>\n",
       "      <th>0</th>\n",
       "      <td>0</td>\n",
       "      <td>allen-p/_sent_mail/1.</td>\n",
       "      <td>Message-ID: &lt;18782981.1075855378110.JavaMail.e...</td>\n",
       "      <td>[, Here is our forecast, ,  ]</td>\n",
       "      <td>Date: Mon, 14 May 2001 16:39:00 -0700 (PDT)</td>\n",
       "    </tr>\n",
       "    <tr>\n",
       "      <th>1</th>\n",
       "      <td>1</td>\n",
       "      <td>allen-p/_sent_mail/10.</td>\n",
       "      <td>Message-ID: &lt;15464986.1075855378456.JavaMail.e...</td>\n",
       "      <td>[, Traveling to have a business meeting takes ...</td>\n",
       "      <td>Date: Fri, 4 May 2001 13:51:00 -0700 (PDT)</td>\n",
       "    </tr>\n",
       "  </tbody>\n",
       "</table>\n",
       "</div>"
      ],
      "text/plain": [
       "   index                    file  \\\n",
       "0      0   allen-p/_sent_mail/1.   \n",
       "1      1  allen-p/_sent_mail/10.   \n",
       "\n",
       "                                             message  \\\n",
       "0  Message-ID: <18782981.1075855378110.JavaMail.e...   \n",
       "1  Message-ID: <15464986.1075855378456.JavaMail.e...   \n",
       "\n",
       "                                                text  \\\n",
       "0                      [, Here is our forecast, ,  ]   \n",
       "1  [, Traveling to have a business meeting takes ...   \n",
       "\n",
       "                                          date  \n",
       "0  Date: Mon, 14 May 2001 16:39:00 -0700 (PDT)  \n",
       "1   Date: Fri, 4 May 2001 13:51:00 -0700 (PDT)  "
      ]
     },
     "execution_count": 78,
     "metadata": {},
     "output_type": "execute_result"
    }
   ],
   "source": [
    "def get_row(Series, row_num):\n",
    "    \"\"\"returns a single row split out from each message. Row_num is the index of the specific\n",
    "    row that you want the function to return.\"\"\"\n",
    "    result = pd.Series(index=Series.index)\n",
    "    for row, message in enumerate(Series):\n",
    "        message_words = message.split('\\n')\n",
    "        message_words = message_words[row_num]\n",
    "        result.iloc[row] = message_words\n",
    "    return result\n",
    "\n",
    "data['date'] = get_row(data.message, 1)\n",
    "data.head(2)"
   ]
  },
  {
   "cell_type": "code",
   "execution_count": 79,
   "metadata": {},
   "outputs": [
    {
     "data": {
      "text/html": [
       "<div>\n",
       "<style scoped>\n",
       "    .dataframe tbody tr th:only-of-type {\n",
       "        vertical-align: middle;\n",
       "    }\n",
       "\n",
       "    .dataframe tbody tr th {\n",
       "        vertical-align: top;\n",
       "    }\n",
       "\n",
       "    .dataframe thead th {\n",
       "        text-align: right;\n",
       "    }\n",
       "</style>\n",
       "<table border=\"1\" class=\"dataframe\">\n",
       "  <thead>\n",
       "    <tr style=\"text-align: right;\">\n",
       "      <th></th>\n",
       "      <th>index</th>\n",
       "      <th>file</th>\n",
       "      <th>message</th>\n",
       "      <th>text</th>\n",
       "      <th>date</th>\n",
       "      <th>senders</th>\n",
       "      <th>recipients</th>\n",
       "      <th>subject</th>\n",
       "    </tr>\n",
       "  </thead>\n",
       "  <tbody>\n",
       "    <tr>\n",
       "      <th>0</th>\n",
       "      <td>0</td>\n",
       "      <td>allen-p/_sent_mail/1.</td>\n",
       "      <td>Message-ID: &lt;18782981.1075855378110.JavaMail.e...</td>\n",
       "      <td>[, Here is our forecast, ,  ]</td>\n",
       "      <td>Date: Mon, 14 May 2001 16:39:00 -0700 (PDT)</td>\n",
       "      <td>From: phillip.allen@enron.com</td>\n",
       "      <td>To: tim.belden@enron.com</td>\n",
       "      <td>Subject:</td>\n",
       "    </tr>\n",
       "    <tr>\n",
       "      <th>1</th>\n",
       "      <td>1</td>\n",
       "      <td>allen-p/_sent_mail/10.</td>\n",
       "      <td>Message-ID: &lt;15464986.1075855378456.JavaMail.e...</td>\n",
       "      <td>[, Traveling to have a business meeting takes ...</td>\n",
       "      <td>Date: Fri, 4 May 2001 13:51:00 -0700 (PDT)</td>\n",
       "      <td>From: phillip.allen@enron.com</td>\n",
       "      <td>To: john.lavorato@enron.com</td>\n",
       "      <td>Subject: Re:</td>\n",
       "    </tr>\n",
       "  </tbody>\n",
       "</table>\n",
       "</div>"
      ],
      "text/plain": [
       "   index                    file  \\\n",
       "0      0   allen-p/_sent_mail/1.   \n",
       "1      1  allen-p/_sent_mail/10.   \n",
       "\n",
       "                                             message  \\\n",
       "0  Message-ID: <18782981.1075855378110.JavaMail.e...   \n",
       "1  Message-ID: <15464986.1075855378456.JavaMail.e...   \n",
       "\n",
       "                                                text  \\\n",
       "0                      [, Here is our forecast, ,  ]   \n",
       "1  [, Traveling to have a business meeting takes ...   \n",
       "\n",
       "                                          date                        senders  \\\n",
       "0  Date: Mon, 14 May 2001 16:39:00 -0700 (PDT)  From: phillip.allen@enron.com   \n",
       "1   Date: Fri, 4 May 2001 13:51:00 -0700 (PDT)  From: phillip.allen@enron.com   \n",
       "\n",
       "                    recipients       subject  \n",
       "0     To: tim.belden@enron.com     Subject:   \n",
       "1  To: john.lavorato@enron.com  Subject: Re:  "
      ]
     },
     "execution_count": 79,
     "metadata": {},
     "output_type": "execute_result"
    }
   ],
   "source": [
    "data['senders'] = get_row(data.message, 2)\n",
    "data['recipients'] = get_row(data.message, 3)\n",
    "data['subject'] = get_row(data.message, 4)\n",
    "\n",
    "data.head(2)"
   ]
  },
  {
   "cell_type": "code",
   "execution_count": 80,
   "metadata": {},
   "outputs": [
    {
     "data": {
      "text/html": [
       "<div>\n",
       "<style scoped>\n",
       "    .dataframe tbody tr th:only-of-type {\n",
       "        vertical-align: middle;\n",
       "    }\n",
       "\n",
       "    .dataframe tbody tr th {\n",
       "        vertical-align: top;\n",
       "    }\n",
       "\n",
       "    .dataframe thead th {\n",
       "        text-align: right;\n",
       "    }\n",
       "</style>\n",
       "<table border=\"1\" class=\"dataframe\">\n",
       "  <thead>\n",
       "    <tr style=\"text-align: right;\">\n",
       "      <th></th>\n",
       "      <th>index</th>\n",
       "      <th>file</th>\n",
       "      <th>message</th>\n",
       "      <th>text</th>\n",
       "      <th>date</th>\n",
       "      <th>senders</th>\n",
       "      <th>recipients</th>\n",
       "      <th>subject</th>\n",
       "    </tr>\n",
       "  </thead>\n",
       "  <tbody>\n",
       "    <tr>\n",
       "      <th>0</th>\n",
       "      <td>0</td>\n",
       "      <td>allen-p/_sent_mail/1.</td>\n",
       "      <td>Message-ID: &lt;18782981.1075855378110.JavaMail.e...</td>\n",
       "      <td>[, Here is our forecast, ,  ]</td>\n",
       "      <td>2001-05-14 23:39:00</td>\n",
       "      <td>From: phillip.allen@enron.com</td>\n",
       "      <td>To: tim.belden@enron.com</td>\n",
       "      <td>Subject:</td>\n",
       "    </tr>\n",
       "    <tr>\n",
       "      <th>1</th>\n",
       "      <td>1</td>\n",
       "      <td>allen-p/_sent_mail/10.</td>\n",
       "      <td>Message-ID: &lt;15464986.1075855378456.JavaMail.e...</td>\n",
       "      <td>[, Traveling to have a business meeting takes ...</td>\n",
       "      <td>2001-05-04 20:51:00</td>\n",
       "      <td>From: phillip.allen@enron.com</td>\n",
       "      <td>To: john.lavorato@enron.com</td>\n",
       "      <td>Subject: Re:</td>\n",
       "    </tr>\n",
       "  </tbody>\n",
       "</table>\n",
       "</div>"
      ],
      "text/plain": [
       "   index                    file  \\\n",
       "0      0   allen-p/_sent_mail/1.   \n",
       "1      1  allen-p/_sent_mail/10.   \n",
       "\n",
       "                                             message  \\\n",
       "0  Message-ID: <18782981.1075855378110.JavaMail.e...   \n",
       "1  Message-ID: <15464986.1075855378456.JavaMail.e...   \n",
       "\n",
       "                                                text                date  \\\n",
       "0                      [, Here is our forecast, ,  ] 2001-05-14 23:39:00   \n",
       "1  [, Traveling to have a business meeting takes ... 2001-05-04 20:51:00   \n",
       "\n",
       "                         senders                   recipients       subject  \n",
       "0  From: phillip.allen@enron.com     To: tim.belden@enron.com     Subject:   \n",
       "1  From: phillip.allen@enron.com  To: john.lavorato@enron.com  Subject: Re:  "
      ]
     },
     "execution_count": 80,
     "metadata": {},
     "output_type": "execute_result"
    }
   ],
   "source": [
    "data.date = data.date.str.replace('Date: ', '')\n",
    "data.date = pd.to_datetime(data.date)\n",
    "\n",
    "data.head(2)"
   ]
  },
  {
   "cell_type": "code",
   "execution_count": 81,
   "metadata": {},
   "outputs": [
    {
     "data": {
      "text/html": [
       "<div>\n",
       "<style scoped>\n",
       "    .dataframe tbody tr th:only-of-type {\n",
       "        vertical-align: middle;\n",
       "    }\n",
       "\n",
       "    .dataframe tbody tr th {\n",
       "        vertical-align: top;\n",
       "    }\n",
       "\n",
       "    .dataframe thead th {\n",
       "        text-align: right;\n",
       "    }\n",
       "</style>\n",
       "<table border=\"1\" class=\"dataframe\">\n",
       "  <thead>\n",
       "    <tr style=\"text-align: right;\">\n",
       "      <th></th>\n",
       "      <th>index</th>\n",
       "      <th>file</th>\n",
       "      <th>message</th>\n",
       "      <th>text</th>\n",
       "      <th>date</th>\n",
       "      <th>senders</th>\n",
       "      <th>recipients</th>\n",
       "      <th>subject</th>\n",
       "    </tr>\n",
       "  </thead>\n",
       "  <tbody>\n",
       "    <tr>\n",
       "      <th>0</th>\n",
       "      <td>0</td>\n",
       "      <td>allen-p/_sent_mail/1.</td>\n",
       "      <td>Message-ID: &lt;18782981.1075855378110.JavaMail.e...</td>\n",
       "      <td>[, Here is our forecast, ,  ]</td>\n",
       "      <td>2001-05-14 23:39:00</td>\n",
       "      <td>From: phillip.allen@enron.com</td>\n",
       "      <td>To: tim.belden@enron.com</td>\n",
       "      <td></td>\n",
       "    </tr>\n",
       "    <tr>\n",
       "      <th>1</th>\n",
       "      <td>1</td>\n",
       "      <td>allen-p/_sent_mail/10.</td>\n",
       "      <td>Message-ID: &lt;15464986.1075855378456.JavaMail.e...</td>\n",
       "      <td>[, Traveling to have a business meeting takes ...</td>\n",
       "      <td>2001-05-04 20:51:00</td>\n",
       "      <td>From: phillip.allen@enron.com</td>\n",
       "      <td>To: john.lavorato@enron.com</td>\n",
       "      <td>Re:</td>\n",
       "    </tr>\n",
       "  </tbody>\n",
       "</table>\n",
       "</div>"
      ],
      "text/plain": [
       "   index                    file  \\\n",
       "0      0   allen-p/_sent_mail/1.   \n",
       "1      1  allen-p/_sent_mail/10.   \n",
       "\n",
       "                                             message  \\\n",
       "0  Message-ID: <18782981.1075855378110.JavaMail.e...   \n",
       "1  Message-ID: <15464986.1075855378456.JavaMail.e...   \n",
       "\n",
       "                                                text                date  \\\n",
       "0                      [, Here is our forecast, ,  ] 2001-05-14 23:39:00   \n",
       "1  [, Traveling to have a business meeting takes ... 2001-05-04 20:51:00   \n",
       "\n",
       "                         senders                   recipients subject  \n",
       "0  From: phillip.allen@enron.com     To: tim.belden@enron.com          \n",
       "1  From: phillip.allen@enron.com  To: john.lavorato@enron.com     Re:  "
      ]
     },
     "execution_count": 81,
     "metadata": {},
     "output_type": "execute_result"
    }
   ],
   "source": [
    "data.subject = data.subject.str.replace('Subject: ', '')\n",
    "\n",
    "data.head(2)"
   ]
  },
  {
   "cell_type": "code",
   "execution_count": 82,
   "metadata": {},
   "outputs": [
    {
     "data": {
      "text/html": [
       "<div>\n",
       "<style scoped>\n",
       "    .dataframe tbody tr th:only-of-type {\n",
       "        vertical-align: middle;\n",
       "    }\n",
       "\n",
       "    .dataframe tbody tr th {\n",
       "        vertical-align: top;\n",
       "    }\n",
       "\n",
       "    .dataframe thead th {\n",
       "        text-align: right;\n",
       "    }\n",
       "</style>\n",
       "<table border=\"1\" class=\"dataframe\">\n",
       "  <thead>\n",
       "    <tr style=\"text-align: right;\">\n",
       "      <th></th>\n",
       "      <th>index</th>\n",
       "      <th>file</th>\n",
       "      <th>message</th>\n",
       "      <th>text</th>\n",
       "      <th>date</th>\n",
       "      <th>senders</th>\n",
       "      <th>recipients</th>\n",
       "      <th>subject</th>\n",
       "      <th>recipient1</th>\n",
       "      <th>recipient2</th>\n",
       "      <th>recipient3</th>\n",
       "      <th>sender</th>\n",
       "    </tr>\n",
       "  </thead>\n",
       "  <tbody>\n",
       "    <tr>\n",
       "      <th>0</th>\n",
       "      <td>0</td>\n",
       "      <td>allen-p/_sent_mail/1.</td>\n",
       "      <td>Message-ID: &lt;18782981.1075855378110.JavaMail.e...</td>\n",
       "      <td>[, Here is our forecast, ,  ]</td>\n",
       "      <td>2001-05-14 23:39:00</td>\n",
       "      <td>From: phillip.allen@enron.com</td>\n",
       "      <td>To: tim.belden@enron.com</td>\n",
       "      <td></td>\n",
       "      <td>tim.belden@enron.com</td>\n",
       "      <td>NaN</td>\n",
       "      <td>NaN</td>\n",
       "      <td>phillip.allen@enron.com</td>\n",
       "    </tr>\n",
       "    <tr>\n",
       "      <th>1</th>\n",
       "      <td>1</td>\n",
       "      <td>allen-p/_sent_mail/10.</td>\n",
       "      <td>Message-ID: &lt;15464986.1075855378456.JavaMail.e...</td>\n",
       "      <td>[, Traveling to have a business meeting takes ...</td>\n",
       "      <td>2001-05-04 20:51:00</td>\n",
       "      <td>From: phillip.allen@enron.com</td>\n",
       "      <td>To: john.lavorato@enron.com</td>\n",
       "      <td>Re:</td>\n",
       "      <td>john.lavorato@enron.com</td>\n",
       "      <td>NaN</td>\n",
       "      <td>NaN</td>\n",
       "      <td>phillip.allen@enron.com</td>\n",
       "    </tr>\n",
       "  </tbody>\n",
       "</table>\n",
       "</div>"
      ],
      "text/plain": [
       "   index                    file  \\\n",
       "0      0   allen-p/_sent_mail/1.   \n",
       "1      1  allen-p/_sent_mail/10.   \n",
       "\n",
       "                                             message  \\\n",
       "0  Message-ID: <18782981.1075855378110.JavaMail.e...   \n",
       "1  Message-ID: <15464986.1075855378456.JavaMail.e...   \n",
       "\n",
       "                                                text                date  \\\n",
       "0                      [, Here is our forecast, ,  ] 2001-05-14 23:39:00   \n",
       "1  [, Traveling to have a business meeting takes ... 2001-05-04 20:51:00   \n",
       "\n",
       "                         senders                   recipients subject  \\\n",
       "0  From: phillip.allen@enron.com     To: tim.belden@enron.com           \n",
       "1  From: phillip.allen@enron.com  To: john.lavorato@enron.com     Re:   \n",
       "\n",
       "                recipient1 recipient2  recipient3                   sender  \n",
       "0     tim.belden@enron.com        NaN         NaN  phillip.allen@enron.com  \n",
       "1  john.lavorato@enron.com        NaN         NaN  phillip.allen@enron.com  "
      ]
     },
     "execution_count": 82,
     "metadata": {},
     "output_type": "execute_result"
    }
   ],
   "source": [
    "import re\n",
    "\n",
    "def get_address(df, Series, num_cols=1):\n",
    "    \"\"\"returns a specified email address from each row in a Series\"\"\"\n",
    "    address = re.compile('[\\w\\.-]+@[\\w\\.-]+\\.\\w+')\n",
    "    addresses = []\n",
    "    result1 = pd.Series(index=df.index)\n",
    "    result2 = pd.Series(index=df.index)\n",
    "    result3 = pd.Series(index=df.index)\n",
    "    for i in range(len(df)):\n",
    "        for message in Series:\n",
    "            correspondents = re.findall(address, message)\n",
    "            addresses.append(correspondents)\n",
    "            result1[i] = addresses[i][0]\n",
    "        if num_cols >= 2:\n",
    "            if len(addresses[i]) >= 3:\n",
    "                result2[i] = addresses[i][1]\n",
    "                if num_cols == 3:\n",
    "                    if len(addresses[i]) >= 4:\n",
    "                        result3[i] = addresses[i][2]\n",
    "    return result1, result2, result3\n",
    "\n",
    "data['recipient1'], data['recipient2'], data['recipient3'] = get_address(data, data.recipients, num_cols=3)\n",
    "data['sender'], x, y = get_address(data, data.senders)\n",
    "\n",
    "data.head(2)"
   ]
  },
  {
   "cell_type": "code",
   "execution_count": 83,
   "metadata": {},
   "outputs": [
    {
     "data": {
      "text/html": [
       "<div>\n",
       "<style scoped>\n",
       "    .dataframe tbody tr th:only-of-type {\n",
       "        vertical-align: middle;\n",
       "    }\n",
       "\n",
       "    .dataframe tbody tr th {\n",
       "        vertical-align: top;\n",
       "    }\n",
       "\n",
       "    .dataframe thead th {\n",
       "        text-align: right;\n",
       "    }\n",
       "</style>\n",
       "<table border=\"1\" class=\"dataframe\">\n",
       "  <thead>\n",
       "    <tr style=\"text-align: right;\">\n",
       "      <th></th>\n",
       "      <th>date</th>\n",
       "      <th>sender</th>\n",
       "      <th>recipient1</th>\n",
       "      <th>recipient2</th>\n",
       "      <th>recipient3</th>\n",
       "      <th>subject</th>\n",
       "      <th>text</th>\n",
       "    </tr>\n",
       "  </thead>\n",
       "  <tbody>\n",
       "    <tr>\n",
       "      <th>0</th>\n",
       "      <td>2001-05-14 23:39:00</td>\n",
       "      <td>phillip.allen@enron.com</td>\n",
       "      <td>tim.belden@enron.com</td>\n",
       "      <td>NaN</td>\n",
       "      <td>NaN</td>\n",
       "      <td></td>\n",
       "      <td>[, Here is our forecast, ,  ]</td>\n",
       "    </tr>\n",
       "    <tr>\n",
       "      <th>1</th>\n",
       "      <td>2001-05-04 20:51:00</td>\n",
       "      <td>phillip.allen@enron.com</td>\n",
       "      <td>john.lavorato@enron.com</td>\n",
       "      <td>NaN</td>\n",
       "      <td>NaN</td>\n",
       "      <td>Re:</td>\n",
       "      <td>[, Traveling to have a business meeting takes ...</td>\n",
       "    </tr>\n",
       "  </tbody>\n",
       "</table>\n",
       "</div>"
      ],
      "text/plain": [
       "                 date                   sender               recipient1  \\\n",
       "0 2001-05-14 23:39:00  phillip.allen@enron.com     tim.belden@enron.com   \n",
       "1 2001-05-04 20:51:00  phillip.allen@enron.com  john.lavorato@enron.com   \n",
       "\n",
       "  recipient2  recipient3 subject  \\\n",
       "0        NaN         NaN           \n",
       "1        NaN         NaN     Re:   \n",
       "\n",
       "                                                text  \n",
       "0                      [, Here is our forecast, ,  ]  \n",
       "1  [, Traveling to have a business meeting takes ...  "
      ]
     },
     "execution_count": 83,
     "metadata": {},
     "output_type": "execute_result"
    }
   ],
   "source": [
    "del data['recipients']\n",
    "del data['senders']\n",
    "del data['file']\n",
    "del data['message']\n",
    "\n",
    "data = data[['date', 'sender', 'recipient1', 'recipient2', 'recipient3', 'subject', 'text']]\n",
    "data.head(2)"
   ]
  },
  {
   "cell_type": "markdown",
   "metadata": {},
   "source": [
    "### 自己實作別人的清理資料步驟\n",
    "1. 先單獨取出 message column，然後用 split(\"\\n\") 把資料取出來\n",
    "2. 因為觀察到「信件主體大多出現在第十五個 row」，我們只保留第十五row「之後的內容」，存在另個 column 之中 = content\n",
    "3. 分別取出 date, senders, recipients, subject，其中 senders & recipients 因為有一個以上的可能，需要分別處理"
   ]
  },
  {
   "cell_type": "code",
   "execution_count": 84,
   "metadata": {},
   "outputs": [],
   "source": [
    "import pandas as pd\n",
    "import numpy as np\n",
    "import matplotlib.pyplot as plt"
   ]
  },
  {
   "cell_type": "code",
   "execution_count": 85,
   "metadata": {},
   "outputs": [
    {
     "data": {
      "text/html": [
       "<div>\n",
       "<style scoped>\n",
       "    .dataframe tbody tr th:only-of-type {\n",
       "        vertical-align: middle;\n",
       "    }\n",
       "\n",
       "    .dataframe tbody tr th {\n",
       "        vertical-align: top;\n",
       "    }\n",
       "\n",
       "    .dataframe thead th {\n",
       "        text-align: right;\n",
       "    }\n",
       "</style>\n",
       "<table border=\"1\" class=\"dataframe\">\n",
       "  <thead>\n",
       "    <tr style=\"text-align: right;\">\n",
       "      <th></th>\n",
       "      <th>file</th>\n",
       "      <th>message</th>\n",
       "    </tr>\n",
       "  </thead>\n",
       "  <tbody>\n",
       "    <tr>\n",
       "      <th>0</th>\n",
       "      <td>allen-p/_sent_mail/1.</td>\n",
       "      <td>Message-ID: &lt;18782981.1075855378110.JavaMail.e...</td>\n",
       "    </tr>\n",
       "    <tr>\n",
       "      <th>1</th>\n",
       "      <td>allen-p/_sent_mail/10.</td>\n",
       "      <td>Message-ID: &lt;15464986.1075855378456.JavaMail.e...</td>\n",
       "    </tr>\n",
       "  </tbody>\n",
       "</table>\n",
       "</div>"
      ],
      "text/plain": [
       "                     file                                            message\n",
       "0   allen-p/_sent_mail/1.  Message-ID: <18782981.1075855378110.JavaMail.e...\n",
       "1  allen-p/_sent_mail/10.  Message-ID: <15464986.1075855378456.JavaMail.e..."
      ]
     },
     "execution_count": 85,
     "metadata": {},
     "output_type": "execute_result"
    }
   ],
   "source": [
    "chunk = pd.read_csv(\"/Users/eve/Desktop/Datasets/Eron_Email_Dataset/emails.csv\", chunksize = 500)\n",
    "df = next(chunk)\n",
    "df.head(2)"
   ]
  },
  {
   "cell_type": "code",
   "execution_count": 86,
   "metadata": {},
   "outputs": [
    {
     "data": {
      "text/plain": [
       "['Message-ID: <18782981.1075855378110.JavaMail.evans@thyme>',\n",
       " 'Date: Mon, 14 May 2001 16:39:00 -0700 (PDT)',\n",
       " 'From: phillip.allen@enron.com',\n",
       " 'To: tim.belden@enron.com',\n",
       " 'Subject: ',\n",
       " 'Mime-Version: 1.0',\n",
       " 'Content-Type: text/plain; charset=us-ascii',\n",
       " 'Content-Transfer-Encoding: 7bit',\n",
       " 'X-From: Phillip K Allen',\n",
       " 'X-To: Tim Belden <Tim Belden/Enron@EnronXGate>',\n",
       " 'X-cc: ',\n",
       " 'X-bcc: ',\n",
       " \"X-Folder: \\\\Phillip_Allen_Jan2002_1\\\\Allen, Phillip K.\\\\'Sent Mail\",\n",
       " 'X-Origin: Allen-P',\n",
       " 'X-FileName: pallen (Non-Privileged).pst',\n",
       " '',\n",
       " 'Here is our forecast',\n",
       " '',\n",
       " ' ']"
      ]
     },
     "execution_count": 86,
     "metadata": {},
     "output_type": "execute_result"
    }
   ],
   "source": [
    "df[\"message\"][0].split(\"\\n\")"
   ]
  },
  {
   "cell_type": "code",
   "execution_count": 87,
   "metadata": {},
   "outputs": [],
   "source": [
    "# df = | Date | Sender | Recipient 1 | Recipient 2 | Recipient 3 | Subject | Content | \n",
    "def flatten_message1(data, row_index):\n",
    "    result = []\n",
    "    for i in range(len(data[\"message\"])):\n",
    "        result.append(data[\"message\"][i].split(\"\\n\")[row_index])\n",
    "    return result"
   ]
  },
  {
   "cell_type": "code",
   "execution_count": 88,
   "metadata": {},
   "outputs": [],
   "source": [
    "def flatten_message2(data, row_index):\n",
    "    return data.split(\"\\n\")[row_index]"
   ]
  },
  {
   "cell_type": "code",
   "execution_count": 89,
   "metadata": {},
   "outputs": [
    {
     "data": {
      "text/html": [
       "<div>\n",
       "<style scoped>\n",
       "    .dataframe tbody tr th:only-of-type {\n",
       "        vertical-align: middle;\n",
       "    }\n",
       "\n",
       "    .dataframe tbody tr th {\n",
       "        vertical-align: top;\n",
       "    }\n",
       "\n",
       "    .dataframe thead th {\n",
       "        text-align: right;\n",
       "    }\n",
       "</style>\n",
       "<table border=\"1\" class=\"dataframe\">\n",
       "  <thead>\n",
       "    <tr style=\"text-align: right;\">\n",
       "      <th></th>\n",
       "      <th>file</th>\n",
       "      <th>message</th>\n",
       "      <th>Date</th>\n",
       "    </tr>\n",
       "  </thead>\n",
       "  <tbody>\n",
       "    <tr>\n",
       "      <th>0</th>\n",
       "      <td>allen-p/_sent_mail/1.</td>\n",
       "      <td>Message-ID: &lt;18782981.1075855378110.JavaMail.e...</td>\n",
       "      <td>Date: Mon, 14 May 2001 16:39:00 -0700 (PDT)</td>\n",
       "    </tr>\n",
       "    <tr>\n",
       "      <th>1</th>\n",
       "      <td>allen-p/_sent_mail/10.</td>\n",
       "      <td>Message-ID: &lt;15464986.1075855378456.JavaMail.e...</td>\n",
       "      <td>Date: Fri, 4 May 2001 13:51:00 -0700 (PDT)</td>\n",
       "    </tr>\n",
       "  </tbody>\n",
       "</table>\n",
       "</div>"
      ],
      "text/plain": [
       "                     file                                            message  \\\n",
       "0   allen-p/_sent_mail/1.  Message-ID: <18782981.1075855378110.JavaMail.e...   \n",
       "1  allen-p/_sent_mail/10.  Message-ID: <15464986.1075855378456.JavaMail.e...   \n",
       "\n",
       "                                          Date  \n",
       "0  Date: Mon, 14 May 2001 16:39:00 -0700 (PDT)  \n",
       "1   Date: Fri, 4 May 2001 13:51:00 -0700 (PDT)  "
      ]
     },
     "execution_count": 89,
     "metadata": {},
     "output_type": "execute_result"
    }
   ],
   "source": [
    "# e.g. Date\n",
    "# Method 1 - use apply\n",
    "# df[\"Date\"] = df[\"message\"].apply(lambda x : x.split(\"\\n\")[1])\n",
    "\n",
    "# Method 2 - use self-defined function\n",
    "# d = flatten_message1(df, 1)\n",
    "# df[\"Date\"] = d\n",
    "\n",
    "# Method 3 - self-defined function & apply\n",
    "df[\"Date\"] = df[\"message\"].apply(lambda x : flatten_message2(x, 1))\n",
    "df.head(2)"
   ]
  },
  {
   "cell_type": "code",
   "execution_count": 90,
   "metadata": {},
   "outputs": [
    {
     "data": {
      "text/html": [
       "<div>\n",
       "<style scoped>\n",
       "    .dataframe tbody tr th:only-of-type {\n",
       "        vertical-align: middle;\n",
       "    }\n",
       "\n",
       "    .dataframe tbody tr th {\n",
       "        vertical-align: top;\n",
       "    }\n",
       "\n",
       "    .dataframe thead th {\n",
       "        text-align: right;\n",
       "    }\n",
       "</style>\n",
       "<table border=\"1\" class=\"dataframe\">\n",
       "  <thead>\n",
       "    <tr style=\"text-align: right;\">\n",
       "      <th></th>\n",
       "      <th>file</th>\n",
       "      <th>message</th>\n",
       "      <th>Date</th>\n",
       "      <th>Sender</th>\n",
       "      <th>Recipients</th>\n",
       "      <th>Subject</th>\n",
       "      <th>Content</th>\n",
       "    </tr>\n",
       "  </thead>\n",
       "  <tbody>\n",
       "    <tr>\n",
       "      <th>0</th>\n",
       "      <td>allen-p/_sent_mail/1.</td>\n",
       "      <td>Message-ID: &lt;18782981.1075855378110.JavaMail.e...</td>\n",
       "      <td>Date: Mon, 14 May 2001 16:39:00 -0700 (PDT)</td>\n",
       "      <td>From: phillip.allen@enron.com</td>\n",
       "      <td>To: tim.belden@enron.com</td>\n",
       "      <td>Subject:</td>\n",
       "      <td>[, Here is our forecast, ,  ]</td>\n",
       "    </tr>\n",
       "    <tr>\n",
       "      <th>1</th>\n",
       "      <td>allen-p/_sent_mail/10.</td>\n",
       "      <td>Message-ID: &lt;15464986.1075855378456.JavaMail.e...</td>\n",
       "      <td>Date: Fri, 4 May 2001 13:51:00 -0700 (PDT)</td>\n",
       "      <td>From: phillip.allen@enron.com</td>\n",
       "      <td>To: john.lavorato@enron.com</td>\n",
       "      <td>Subject: Re:</td>\n",
       "      <td>[, Traveling to have a business meeting takes ...</td>\n",
       "    </tr>\n",
       "  </tbody>\n",
       "</table>\n",
       "</div>"
      ],
      "text/plain": [
       "                     file                                            message  \\\n",
       "0   allen-p/_sent_mail/1.  Message-ID: <18782981.1075855378110.JavaMail.e...   \n",
       "1  allen-p/_sent_mail/10.  Message-ID: <15464986.1075855378456.JavaMail.e...   \n",
       "\n",
       "                                          Date                         Sender  \\\n",
       "0  Date: Mon, 14 May 2001 16:39:00 -0700 (PDT)  From: phillip.allen@enron.com   \n",
       "1   Date: Fri, 4 May 2001 13:51:00 -0700 (PDT)  From: phillip.allen@enron.com   \n",
       "\n",
       "                    Recipients       Subject  \\\n",
       "0     To: tim.belden@enron.com     Subject:    \n",
       "1  To: john.lavorato@enron.com  Subject: Re:   \n",
       "\n",
       "                                             Content  \n",
       "0                      [, Here is our forecast, ,  ]  \n",
       "1  [, Traveling to have a business meeting takes ...  "
      ]
     },
     "execution_count": 90,
     "metadata": {},
     "output_type": "execute_result"
    }
   ],
   "source": [
    "df[\"Sender\"] = df[\"message\"].apply(lambda x : flatten_message2(x, 2))\n",
    "df[\"Recipients\"] = df[\"message\"].apply(lambda x : flatten_message2(x, 3))\n",
    "df[\"Subject\"] = df[\"message\"].apply(lambda x : flatten_message2(x, 4))\n",
    "df[\"Content\"] = df[\"message\"].apply(lambda x : x.split(\"\\n\")[15:])\n",
    "df.head(2)"
   ]
  },
  {
   "cell_type": "code",
   "execution_count": 91,
   "metadata": {},
   "outputs": [
    {
     "data": {
      "text/html": [
       "<div>\n",
       "<style scoped>\n",
       "    .dataframe tbody tr th:only-of-type {\n",
       "        vertical-align: middle;\n",
       "    }\n",
       "\n",
       "    .dataframe tbody tr th {\n",
       "        vertical-align: top;\n",
       "    }\n",
       "\n",
       "    .dataframe thead th {\n",
       "        text-align: right;\n",
       "    }\n",
       "</style>\n",
       "<table border=\"1\" class=\"dataframe\">\n",
       "  <thead>\n",
       "    <tr style=\"text-align: right;\">\n",
       "      <th></th>\n",
       "      <th>file</th>\n",
       "      <th>message</th>\n",
       "      <th>Date</th>\n",
       "      <th>Sender</th>\n",
       "      <th>Recipients</th>\n",
       "      <th>Subject</th>\n",
       "      <th>Content</th>\n",
       "    </tr>\n",
       "  </thead>\n",
       "  <tbody>\n",
       "    <tr>\n",
       "      <th>0</th>\n",
       "      <td>allen-p/_sent_mail/1.</td>\n",
       "      <td>Message-ID: &lt;18782981.1075855378110.JavaMail.e...</td>\n",
       "      <td>2001-05-14 23:39:00</td>\n",
       "      <td>phillip.allen@enron.com</td>\n",
       "      <td>To: tim.belden@enron.com</td>\n",
       "      <td></td>\n",
       "      <td>[, Here is our forecast, ,  ]</td>\n",
       "    </tr>\n",
       "    <tr>\n",
       "      <th>1</th>\n",
       "      <td>allen-p/_sent_mail/10.</td>\n",
       "      <td>Message-ID: &lt;15464986.1075855378456.JavaMail.e...</td>\n",
       "      <td>2001-05-04 20:51:00</td>\n",
       "      <td>phillip.allen@enron.com</td>\n",
       "      <td>To: john.lavorato@enron.com</td>\n",
       "      <td>Re:</td>\n",
       "      <td>[, Traveling to have a business meeting takes ...</td>\n",
       "    </tr>\n",
       "  </tbody>\n",
       "</table>\n",
       "</div>"
      ],
      "text/plain": [
       "                     file                                            message  \\\n",
       "0   allen-p/_sent_mail/1.  Message-ID: <18782981.1075855378110.JavaMail.e...   \n",
       "1  allen-p/_sent_mail/10.  Message-ID: <15464986.1075855378456.JavaMail.e...   \n",
       "\n",
       "                 Date                   Sender                   Recipients  \\\n",
       "0 2001-05-14 23:39:00  phillip.allen@enron.com     To: tim.belden@enron.com   \n",
       "1 2001-05-04 20:51:00  phillip.allen@enron.com  To: john.lavorato@enron.com   \n",
       "\n",
       "  Subject                                            Content  \n",
       "0                              [, Here is our forecast, ,  ]  \n",
       "1     Re:  [, Traveling to have a business meeting takes ...  "
      ]
     },
     "execution_count": 91,
     "metadata": {},
     "output_type": "execute_result"
    }
   ],
   "source": [
    "df[\"Date\"] = df[\"Date\"].str.replace(\"Date: \", \"\")\n",
    "df[\"Date\"] = pd.to_datetime(df[\"Date\"])\n",
    "\n",
    "df[\"Subject\"] = df[\"Subject\"].str.replace(\"Subject: \", \"\")\n",
    "\n",
    "# 通常只會有一位 Sender\n",
    "df[\"Sender\"] = df[\"Sender\"].str.replace(\"From: \", \"\")\n",
    "df.head(2)"
   ]
  },
  {
   "cell_type": "markdown",
   "metadata": {},
   "source": [
    "### 清理 Recipients (Regular Expression)\n",
    "通常會有一位以上的 Recipients"
   ]
  },
  {
   "cell_type": "code",
   "execution_count": 92,
   "metadata": {},
   "outputs": [
    {
     "data": {
      "text/plain": [
       "'phillip.allen@enron.com'"
      ]
     },
     "execution_count": 92,
     "metadata": {},
     "output_type": "execute_result"
    }
   ],
   "source": [
    "# 練習 RE\n",
    "import re\n",
    "# a = re.compile('[\\w\\.-]+@[\\w\\.-]+\\.\\w+')\n",
    "a = re.compile('[\\w\\.]+@[\\w\\.]+\\.\\w+')\n",
    "text = df[\"Sender\"][0]\n",
    "text"
   ]
  },
  {
   "cell_type": "code",
   "execution_count": 93,
   "metadata": {},
   "outputs": [
    {
     "data": {
      "text/plain": [
       "['phillip.allen@enron.com']"
      ]
     },
     "execution_count": 93,
     "metadata": {},
     "output_type": "execute_result"
    }
   ],
   "source": [
    "re.findall(a, text)"
   ]
  },
  {
   "cell_type": "code",
   "execution_count": 94,
   "metadata": {},
   "outputs": [
    {
     "data": {
      "text/html": [
       "<div>\n",
       "<style scoped>\n",
       "    .dataframe tbody tr th:only-of-type {\n",
       "        vertical-align: middle;\n",
       "    }\n",
       "\n",
       "    .dataframe tbody tr th {\n",
       "        vertical-align: top;\n",
       "    }\n",
       "\n",
       "    .dataframe thead th {\n",
       "        text-align: right;\n",
       "    }\n",
       "</style>\n",
       "<table border=\"1\" class=\"dataframe\">\n",
       "  <thead>\n",
       "    <tr style=\"text-align: right;\">\n",
       "      <th></th>\n",
       "      <th>file</th>\n",
       "      <th>message</th>\n",
       "      <th>Date</th>\n",
       "      <th>Sender</th>\n",
       "      <th>Recipients</th>\n",
       "      <th>Subject</th>\n",
       "      <th>Content</th>\n",
       "    </tr>\n",
       "  </thead>\n",
       "  <tbody>\n",
       "    <tr>\n",
       "      <th>0</th>\n",
       "      <td>allen-p/_sent_mail/1.</td>\n",
       "      <td>Message-ID: &lt;18782981.1075855378110.JavaMail.e...</td>\n",
       "      <td>2001-05-14 23:39:00</td>\n",
       "      <td>phillip.allen@enron.com</td>\n",
       "      <td>tim.belden@enron.com</td>\n",
       "      <td></td>\n",
       "      <td>[, Here is our forecast, ,  ]</td>\n",
       "    </tr>\n",
       "    <tr>\n",
       "      <th>1</th>\n",
       "      <td>allen-p/_sent_mail/10.</td>\n",
       "      <td>Message-ID: &lt;15464986.1075855378456.JavaMail.e...</td>\n",
       "      <td>2001-05-04 20:51:00</td>\n",
       "      <td>phillip.allen@enron.com</td>\n",
       "      <td>john.lavorato@enron.com</td>\n",
       "      <td>Re:</td>\n",
       "      <td>[, Traveling to have a business meeting takes ...</td>\n",
       "    </tr>\n",
       "  </tbody>\n",
       "</table>\n",
       "</div>"
      ],
      "text/plain": [
       "                     file                                            message  \\\n",
       "0   allen-p/_sent_mail/1.  Message-ID: <18782981.1075855378110.JavaMail.e...   \n",
       "1  allen-p/_sent_mail/10.  Message-ID: <15464986.1075855378456.JavaMail.e...   \n",
       "\n",
       "                 Date                   Sender               Recipients  \\\n",
       "0 2001-05-14 23:39:00  phillip.allen@enron.com     tim.belden@enron.com   \n",
       "1 2001-05-04 20:51:00  phillip.allen@enron.com  john.lavorato@enron.com   \n",
       "\n",
       "  Subject                                            Content  \n",
       "0                              [, Here is our forecast, ,  ]  \n",
       "1     Re:  [, Traveling to have a business meeting takes ...  "
      ]
     },
     "execution_count": 94,
     "metadata": {},
     "output_type": "execute_result"
    }
   ],
   "source": [
    "# 額外清理 Recipients \n",
    "df[\"Recipients\"] = df[\"Recipients\"].str.replace(\"To: \", \"\")\n",
    "df.head(2)"
   ]
  },
  {
   "cell_type": "code",
   "execution_count": 95,
   "metadata": {},
   "outputs": [
    {
     "data": {
      "text/plain": [
       "['david.l.johnson@enron.com', 'john.shafer@enron.com']"
      ]
     },
     "execution_count": 95,
     "metadata": {},
     "output_type": "execute_result"
    }
   ],
   "source": [
    "# 如果有一個以上的 Recipients\n",
    "test = df[\"Recipients\"][6]\n",
    "rule = re.compile('[\\w\\.+]+@[\\w\\.]+\\.\\w+')\n",
    "re.findall(rule, test)"
   ]
  },
  {
   "cell_type": "code",
   "execution_count": 96,
   "metadata": {},
   "outputs": [],
   "source": [
    "# Brutal Force - 直接用 split\n",
    "recipients = df[\"Recipients\"]\n",
    "\n",
    "rec1 = []\n",
    "rec2 = []\n",
    "rec3 = []\n",
    "for i in range(len(recipients)):\n",
    "    tmp = recipients[i].split(\",\")\n",
    "    if len(tmp) == 1:\n",
    "        rec1.append(tmp[0])\n",
    "        rec2.append(None)\n",
    "        rec3.append(None)\n",
    "    elif len(tmp) == 2:\n",
    "        rec1.append(tmp[0])\n",
    "        rec2.append(tmp[1])\n",
    "        rec3.append(None)\n",
    "    else:\n",
    "        rec1.append(tmp[0])\n",
    "        rec2.append(tmp[1])\n",
    "        rec3.append((tmp[2:]))"
   ]
  },
  {
   "cell_type": "code",
   "execution_count": 97,
   "metadata": {},
   "outputs": [
    {
     "data": {
      "text/html": [
       "<div>\n",
       "<style scoped>\n",
       "    .dataframe tbody tr th:only-of-type {\n",
       "        vertical-align: middle;\n",
       "    }\n",
       "\n",
       "    .dataframe tbody tr th {\n",
       "        vertical-align: top;\n",
       "    }\n",
       "\n",
       "    .dataframe thead th {\n",
       "        text-align: right;\n",
       "    }\n",
       "</style>\n",
       "<table border=\"1\" class=\"dataframe\">\n",
       "  <thead>\n",
       "    <tr style=\"text-align: right;\">\n",
       "      <th></th>\n",
       "      <th>file</th>\n",
       "      <th>message</th>\n",
       "      <th>Date</th>\n",
       "      <th>Sender</th>\n",
       "      <th>Recipients</th>\n",
       "      <th>Subject</th>\n",
       "      <th>Content</th>\n",
       "      <th>Recipient1</th>\n",
       "      <th>Recipient2</th>\n",
       "      <th>Recipient3</th>\n",
       "    </tr>\n",
       "  </thead>\n",
       "  <tbody>\n",
       "    <tr>\n",
       "      <th>0</th>\n",
       "      <td>allen-p/_sent_mail/1.</td>\n",
       "      <td>Message-ID: &lt;18782981.1075855378110.JavaMail.e...</td>\n",
       "      <td>2001-05-14 23:39:00</td>\n",
       "      <td>phillip.allen@enron.com</td>\n",
       "      <td>tim.belden@enron.com</td>\n",
       "      <td></td>\n",
       "      <td>[, Here is our forecast, ,  ]</td>\n",
       "      <td>tim.belden@enron.com</td>\n",
       "      <td>None</td>\n",
       "      <td>None</td>\n",
       "    </tr>\n",
       "    <tr>\n",
       "      <th>1</th>\n",
       "      <td>allen-p/_sent_mail/10.</td>\n",
       "      <td>Message-ID: &lt;15464986.1075855378456.JavaMail.e...</td>\n",
       "      <td>2001-05-04 20:51:00</td>\n",
       "      <td>phillip.allen@enron.com</td>\n",
       "      <td>john.lavorato@enron.com</td>\n",
       "      <td>Re:</td>\n",
       "      <td>[, Traveling to have a business meeting takes ...</td>\n",
       "      <td>john.lavorato@enron.com</td>\n",
       "      <td>None</td>\n",
       "      <td>None</td>\n",
       "    </tr>\n",
       "  </tbody>\n",
       "</table>\n",
       "</div>"
      ],
      "text/plain": [
       "                     file                                            message  \\\n",
       "0   allen-p/_sent_mail/1.  Message-ID: <18782981.1075855378110.JavaMail.e...   \n",
       "1  allen-p/_sent_mail/10.  Message-ID: <15464986.1075855378456.JavaMail.e...   \n",
       "\n",
       "                 Date                   Sender               Recipients  \\\n",
       "0 2001-05-14 23:39:00  phillip.allen@enron.com     tim.belden@enron.com   \n",
       "1 2001-05-04 20:51:00  phillip.allen@enron.com  john.lavorato@enron.com   \n",
       "\n",
       "  Subject                                            Content  \\\n",
       "0                              [, Here is our forecast, ,  ]   \n",
       "1     Re:  [, Traveling to have a business meeting takes ...   \n",
       "\n",
       "                Recipient1 Recipient2 Recipient3  \n",
       "0     tim.belden@enron.com       None       None  \n",
       "1  john.lavorato@enron.com       None       None  "
      ]
     },
     "execution_count": 97,
     "metadata": {},
     "output_type": "execute_result"
    }
   ],
   "source": [
    "df[\"Recipient1\"] = rec1\n",
    "df[\"Recipient2\"] = rec2\n",
    "df[\"Recipient3\"] = rec3\n",
    "df.head(2)"
   ]
  },
  {
   "cell_type": "code",
   "execution_count": 99,
   "metadata": {},
   "outputs": [
    {
     "ename": "SyntaxError",
     "evalue": "invalid syntax (<ipython-input-99-cd78c5adeb12>, line 3)",
     "output_type": "error",
     "traceback": [
      "\u001b[0;36m  File \u001b[0;32m\"<ipython-input-99-cd78c5adeb12>\"\u001b[0;36m, line \u001b[0;32m3\u001b[0m\n\u001b[0;31m    df[\"Rec2\"] = df[\"Recipients\"].apply(lambda x : x.split(\",\")[1] if len(x.split(\",\")) > 1)\u001b[0m\n\u001b[0m                                                                                           ^\u001b[0m\n\u001b[0;31mSyntaxError\u001b[0m\u001b[0;31m:\u001b[0m invalid syntax\n"
     ]
    }
   ],
   "source": [
    "# 改進 Brute Force 解法\n",
    "df[\"Rec1\"] = df[\"Recipients\"].apply(lambda x : x.split(\",\")[0])\n",
    "df[\"Rec2\"] = df[\"Recipients\"].apply(lambda x : x.split(\",\")[1] if len(x.split(\",\")) > 1)\n",
    "# df[\"Rec3\"] = df[\"Recipients\"].apply(lambda x : x.split(\",\")[2:])\n",
    "df\n"
   ]
  },
  {
   "cell_type": "code",
   "execution_count": null,
   "metadata": {},
   "outputs": [],
   "source": []
  }
 ],
 "metadata": {
  "kernelspec": {
   "display_name": "Python 3",
   "language": "python",
   "name": "python3"
  },
  "language_info": {
   "codemirror_mode": {
    "name": "ipython",
    "version": 3
   },
   "file_extension": ".py",
   "mimetype": "text/x-python",
   "name": "python",
   "nbconvert_exporter": "python",
   "pygments_lexer": "ipython3",
   "version": "3.7.4"
  }
 },
 "nbformat": 4,
 "nbformat_minor": 2
}
