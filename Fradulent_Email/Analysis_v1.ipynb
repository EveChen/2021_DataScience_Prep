{
 "cells": [
  {
   "cell_type": "markdown",
   "metadata": {},
   "source": [
    "### Summary\n",
    "1. 每一封都是 fraudulent email"
   ]
  },
  {
   "cell_type": "code",
   "execution_count": 17,
   "metadata": {},
   "outputs": [],
   "source": [
    "import pandas as pd\n",
    "import numpy as np\n",
    "import seaborn as sns"
   ]
  },
  {
   "cell_type": "markdown",
   "metadata": {},
   "source": [
    "### Inspiration\n",
    "1. This dataset contains fraudulent e-mails sent over a period of years. Has the language used in fraudulent E-mails changed over time?\n",
    "2. Are there any words or phrases that are particularly common in this type of e-mail? (You might compare it with the Enron email corpus, linked below)"
   ]
  },
  {
   "cell_type": "markdown",
   "metadata": {},
   "source": [
    "### Open File"
   ]
  },
  {
   "cell_type": "code",
   "execution_count": 14,
   "metadata": {},
   "outputs": [],
   "source": [
    "# 不能單純地用 read_csv 去打開 file\n",
    "# # df = pd.read_csv(\"fradulent_emails.txt\", sep = \"\\t\", error_bad_lines = False)\n",
    "# # df = pd.read_csv(\"fradulent_emails.txt\", delimiter = \"\\t\")\n",
    "# df = pd.read_csv(\"fradulent_emails.txt\", sep = \" \", header = None)\n",
    "# df.head(3)"
   ]
  },
  {
   "cell_type": "markdown",
   "metadata": {},
   "source": [
    "思路: 找 Files 的規律，flatten 每一則 email\n",
    "1. start from \"From r {time}\"\n",
    "2. 按照 columns flatten: Return-Path, X-Sieve, etc --> 不需要，因為我們在意的是內文\n",
    "3. 擷取出內文\n",
    "    * Status {} 之後通常會是內文\n",
    "    * 要怎麼去除掉其他部分，如 #2 的那些 columns?\n",
    "4. 研究每封 email 裡的用字    "
   ]
  },
  {
   "cell_type": "code",
   "execution_count": null,
   "metadata": {},
   "outputs": [],
   "source": []
  }
 ],
 "metadata": {
  "kernelspec": {
   "display_name": "Python 3",
   "language": "python",
   "name": "python3"
  },
  "language_info": {
   "codemirror_mode": {
    "name": "ipython",
    "version": 3
   },
   "file_extension": ".py",
   "mimetype": "text/x-python",
   "name": "python",
   "nbconvert_exporter": "python",
   "pygments_lexer": "ipython3",
   "version": "3.7.1"
  }
 },
 "nbformat": 4,
 "nbformat_minor": 2
}
