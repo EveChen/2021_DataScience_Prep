{
 "cells": [
  {
   "cell_type": "markdown",
   "metadata": {},
   "source": [
    "### 練習 Data Scientist 一般會考的 coding 題型\n",
    "來源: https://www.1point3acres.com/bbs/thread-711860-1-1.html\n",
    "\n",
    "<學習>\n",
    "1. 練習使用 hashmap[value] = hashmap.get(value, 0) + 1\n",
    "2. 練習使用 if __name__ == \"__main__\": asset helper() == ___ 去測試 (參考 Q2)"
   ]
  },
  {
   "cell_type": "code",
   "execution_count": 1,
   "metadata": {},
   "outputs": [],
   "source": [
    "import pandas as pd\n",
    "import numpy as np\n",
    "import matplotlib.pyplot as plt\n",
    "import seaborn as sns"
   ]
  },
  {
   "cell_type": "markdown",
   "metadata": {},
   "source": [
    "### Q1. Weighted Sampling (simulation)\n",
    "\n",
    "You are given n numbers as well as probabilities p_0, p_1, ... , p_{n - 1}, which sum up to 1, how would you generate one of the n numbers according to the specified probabilities?\n",
    "\n",
    "For example, if the numbers are 3, 5, 7, 11, and the probabilities are 9/18, 6/18, 2/18, 1/18, then 100000 calls to your program, 3 should appear roughly 500000 times,\n",
    "5 should appear roughly 333333 times, 7 should appear roughly 111111 times, and 11 should appear roughly 55555 times.m"
   ]
  },
  {
   "cell_type": "markdown",
   "metadata": {},
   "source": [
    "##### My idea"
   ]
  },
  {
   "cell_type": "code",
   "execution_count": 2,
   "metadata": {},
   "outputs": [],
   "source": [
    "# input = [n] and [p], output = {key = n, value = times}\n",
    "def helper(num, prob):\n",
    "    res = {}\n",
    "    for i in range(len(num)):\n",
    "        if num[i] not in res:\n",
    "            res[num[i]] = prob[i]\n",
    "            \n",
    "    return res"
   ]
  },
  {
   "cell_type": "code",
   "execution_count": 3,
   "metadata": {},
   "outputs": [
    {
     "data": {
      "text/plain": [
       "{3: 0.5, 5: 0.3333333333333333, 7: 0.1111111111111111, 11: 0.05555555555555555}"
      ]
     },
     "execution_count": 3,
     "metadata": {},
     "output_type": "execute_result"
    }
   ],
   "source": [
    "num = [3, 5, 7, 11]\n",
    "prob = [9/18, 6/18, 2/18, 1/18]\n",
    "helper(num, prob)"
   ]
  },
  {
   "cell_type": "code",
   "execution_count": 4,
   "metadata": {},
   "outputs": [
    {
     "data": {
      "text/plain": [
       "26"
      ]
     },
     "execution_count": 4,
     "metadata": {},
     "output_type": "execute_result"
    }
   ],
   "source": [
    "for _ in range(1000000):\n",
    "    res = sum(helper(num, prob))\n",
    "res"
   ]
  },
  {
   "cell_type": "markdown",
   "metadata": {},
   "source": [
    "##### 網友解法"
   ]
  },
  {
   "cell_type": "code",
   "execution_count": 36,
   "metadata": {},
   "outputs": [],
   "source": [
    "import itertools, bisect, random\n",
    "\n",
    "def weighted_sample(values, probs):\n",
    "    cumulative_probs = [0.0] + list(itertools.accumulate(probs))\n",
    "    interval_idx = bisect.bisect(cumulative_probs, random.random()) - 1\n",
    "#     print(\"random = {}, interval_idx = {}\".format(random.random(), interval_idx))\n",
    "    return values[interval_idx]"
   ]
  },
  {
   "cell_type": "code",
   "execution_count": 37,
   "metadata": {},
   "outputs": [
    {
     "data": {
      "text/plain": [
       "3"
      ]
     },
     "execution_count": 37,
     "metadata": {},
     "output_type": "execute_result"
    }
   ],
   "source": [
    "weighted_sample(num, prob) # values[interval_idx] --> result = {3:1}"
   ]
  },
  {
   "cell_type": "code",
   "execution_count": 13,
   "metadata": {},
   "outputs": [
    {
     "name": "stdout",
     "output_type": "stream",
     "text": [
      "value = 5, result = {5: 1}, result[value] = 1\n",
      "value = 3, result = {5: 1, 3: 1}, result[value] = 1\n",
      "value = 3, result = {5: 1, 3: 2}, result[value] = 2\n",
      "value = 11, result = {5: 1, 3: 2, 11: 1}, result[value] = 1\n",
      "value = 3, result = {5: 1, 3: 3, 11: 1}, result[value] = 3\n"
     ]
    }
   ],
   "source": [
    "num = [3, 5, 7, 11]\n",
    "prob = [9/18, 6/18, 2/18, 1/18]\n",
    "\n",
    "result = {}\n",
    "\n",
    "for _ in range(5):\n",
    "    value = weighted_sample(num, prob)\n",
    "    result[value] = result.get(value, 0) + 1\n",
    "    print(\"value = {}, result = {}, result[value] = {}\".format(value, result, result[value]))"
   ]
  },
  {
   "cell_type": "code",
   "execution_count": 42,
   "metadata": {},
   "outputs": [
    {
     "name": "stdout",
     "output_type": "stream",
     "text": [
      "{5: 332981, 3: 500192, 7: 111180, 11: 55647}\n"
     ]
    }
   ],
   "source": [
    "result = {}\n",
    "\n",
    "for _ in range(1000000):\n",
    "    value = weighted_sample(num, prob)\n",
    "    result[value] = result.get(value, 0) + 1\n",
    "print(result)"
   ]
  },
  {
   "cell_type": "markdown",
   "metadata": {},
   "source": [
    "### Q2. String Compression\n",
    "\n",
    "Implement a method to perform basic string compression using the counts of repeated characters. For example, the string aabcccccddd would become a2b1c5d3. If the \"compressed\" string would not become smaller than the original string, your method should return the original string.\n",
    "\n",
    "You can assume the string has only lowercase letters. (a-z)\n"
   ]
  },
  {
   "cell_type": "markdown",
   "metadata": {},
   "source": [
    "##### My idea"
   ]
  },
  {
   "cell_type": "code",
   "execution_count": 46,
   "metadata": {},
   "outputs": [],
   "source": [
    "test = 'aabcccccddd'"
   ]
  },
  {
   "cell_type": "code",
   "execution_count": 52,
   "metadata": {},
   "outputs": [
    {
     "data": {
      "text/plain": [
       "'a2b1c5d3'"
      ]
     },
     "execution_count": 52,
     "metadata": {},
     "output_type": "execute_result"
    }
   ],
   "source": [
    "# input = string, manipulation = {key = alphabet : value = freq}, output = string\n",
    "hashmap = {}\n",
    "res = ''\n",
    "\n",
    "for i in range(len(test)):\n",
    "    hashmap[test[i]] = hashmap.get(test[i], 0) + 1\n",
    "\n",
    "for key, value in hashmap.items():\n",
    "    res += str(key)\n",
    "    res += str(value)\n",
    "res"
   ]
  },
  {
   "cell_type": "code",
   "execution_count": 56,
   "metadata": {},
   "outputs": [],
   "source": [
    "# write a function\n",
    "def helper(strings):\n",
    "    hashmap = {}\n",
    "    res = ''\n",
    "    \n",
    "    for i in range(len(strings)):\n",
    "        hashmap[strings[i]] = hashmap.get(strings[i], 0) + 1\n",
    "        \n",
    "    for key, value in hashmap.items():\n",
    "        res += str(key)\n",
    "        res += str(value)\n",
    "        \n",
    "    if len(strings) < len(res):\n",
    "        return strings\n",
    "    return res\n",
    "    "
   ]
  },
  {
   "cell_type": "code",
   "execution_count": 57,
   "metadata": {},
   "outputs": [
    {
     "data": {
      "text/plain": [
       "'a2b1c5d3'"
      ]
     },
     "execution_count": 57,
     "metadata": {},
     "output_type": "execute_result"
    }
   ],
   "source": [
    "helper(test)"
   ]
  },
  {
   "cell_type": "code",
   "execution_count": 58,
   "metadata": {},
   "outputs": [
    {
     "data": {
      "text/plain": [
       "'abcde'"
      ]
     },
     "execution_count": 58,
     "metadata": {},
     "output_type": "execute_result"
    }
   ],
   "source": [
    "test2 = 'abcde'\n",
    "helper(test2)"
   ]
  },
  {
   "cell_type": "code",
   "execution_count": 62,
   "metadata": {},
   "outputs": [],
   "source": [
    "# function 加上 if __name__ == \"__main__\"\n",
    "def helper(strings):\n",
    "    hashmap = {}\n",
    "    res = ''\n",
    "    \n",
    "    for i in range(len(strings)):\n",
    "        hashmap[strings[i]] = hashmap.get(strings[i], 0) + 1\n",
    "        \n",
    "    for key, value in hashmap.items():\n",
    "        res += str(key)\n",
    "        res += str(value)\n",
    "        \n",
    "    if len(strings) < len(res):\n",
    "        return strings\n",
    "    return res\n",
    "\n",
    "if __name__ == \"__main__\":\n",
    "    assert helper(\"aabcccccdd\") == \"a2b1c5d2\"\n",
    "    assert helper(\"abcde\") == \"abcde\""
   ]
  },
  {
   "cell_type": "markdown",
   "metadata": {},
   "source": [
    "### Q3: Rotate matrix\n",
    "\n",
    "You are given an n x n 2D matrix representing an image, rotate the image by 90 degrees (clockwise and anticlockwise).\n",
    "\n",
    "You have to rotate the image in-place."
   ]
  },
  {
   "cell_type": "markdown",
   "metadata": {},
   "source": [
    "##### answer"
   ]
  },
  {
   "cell_type": "code",
   "execution_count": 8,
   "metadata": {},
   "outputs": [],
   "source": [
    "def rotate_matrix(matrix):\n",
    "    n = len(matrix)\n",
    "    #1. 對角線\n",
    "    for i in range(n):\n",
    "        for j in range(i):\n",
    "            matrix[i][j], matrix[j][i] = matrix[j][i], matrix[i][j]\n",
    "            \n",
    "    #2. 平行線\n",
    "    for i in range(n):\n",
    "        for j in range(n // 2):\n",
    "            matrix[i][j], matrix[i][n - 1 - j] = matrix[i][n - 1 - j], matrix[i][j]\n",
    "            \n",
    "# if __name__ == \"__main__\":\n",
    "#     assert rotate_matrix([[1, 2, 3],\n",
    "#                           [4, 5, 6],\n",
    "#                           [7, 8, 9]]) ==  [[7, 4, 1],\n",
    "#                                          [8, 5, 2],\n",
    "#                                          [9, 6, 3]]\n",
    "    "
   ]
  },
  {
   "cell_type": "code",
   "execution_count": null,
   "metadata": {},
   "outputs": [],
   "source": []
  }
 ],
 "metadata": {
  "kernelspec": {
   "display_name": "Python 3",
   "language": "python",
   "name": "python3"
  },
  "language_info": {
   "codemirror_mode": {
    "name": "ipython",
    "version": 3
   },
   "file_extension": ".py",
   "mimetype": "text/x-python",
   "name": "python",
   "nbconvert_exporter": "python",
   "pygments_lexer": "ipython3",
   "version": "3.7.4"
  }
 },
 "nbformat": 4,
 "nbformat_minor": 2
}
