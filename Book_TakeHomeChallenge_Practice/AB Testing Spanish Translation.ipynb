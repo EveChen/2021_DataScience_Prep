{
 "cells": [
  {
   "cell_type": "markdown",
   "metadata": {},
   "source": [
    "### Summary\n",
    "From Lecture: https://product-data-science.datamasked.com/courses/621233/lectures/11105795\n",
    "\n",
    "### Steps\n",
    "1. 了解題意: 確定hypothesis指的是什麼? 原先發現「母國說西班牙語的 conversion 優於非西班牙語國家的 conversion」\n",
    "    * 所以做了 A/B testing，在「非西班牙的國家」用localized的語言 v.s. 「在非西班牙國家」用西班牙語\n",
    "    * 發現negative: 「在非西班牙國家」用西班牙語的 conversion > 在「非西班牙的國家」用localized的語言的 conversion\n",
    "    * null = 等於 在「非西班牙的國家」用localized的語言的 conversion > 「在非西班牙國家」用西班牙語的 conversion (negative 代表拒絕 null hypothesis)\n",
    "2. 確認問題:\n",
    "    * Q1: Confirm that test is actually negative. I.e., the old version of the site with just one translation across Spain and LatAm performs better\n",
    "    * A1: 先看西班牙是否 conversion 高於其他國家? 確認做 t-test 的前提假設、再做一次 t-test 看是不是真的 negative?\n",
    "    * Q2: Explain why that might be happening. Are the localized translations really worse?\n",
    "    * A2: 做 EDA 去找一些 insights\n",
    "    * Q3: If you identified what was wrong, design an algorithm that would return FALSE if the same problem is happening in the future and TRUE if everything is good and results can be trusted.\n",
    "3. 實作 A1\n",
    "    * 先了解 data，看 data distribution, 是否是 imbalanced data, 是否能用 t-test 去做\n",
    "    * 真正 apply t-test 去比對 Q1 結果\n",
    "4. 實作 A2 - 做 EDA\n",
    "\n",
    "### Questions\n",
    "1. 到底要用哪種 t-test? null hypothesis 是什麼?\n"
   ]
  },
  {
   "cell_type": "code",
<<<<<<< HEAD
<<<<<<< HEAD
   "execution_count": 1,
=======
   "execution_count": 32,
>>>>>>> parent of 191ba38 (Find possible root cause)
=======
   "execution_count": 149,
>>>>>>> parent of 7e09e62... Finish Spanish Translation A/B Testing
   "metadata": {},
   "outputs": [],
   "source": [
    "import pandas as pd\n",
    "import numpy as np\n",
    "import seaborn as sns\n",
    "import matplotlib.pyplot as plt"
   ]
  },
  {
   "cell_type": "markdown",
   "metadata": {},
   "source": [
    "### Question 1"
   ]
  },
  {
   "cell_type": "code",
<<<<<<< HEAD
<<<<<<< HEAD
   "execution_count": 2,
=======
   "execution_count": 33,
>>>>>>> parent of 191ba38 (Find possible root cause)
=======
   "execution_count": 150,
>>>>>>> parent of 7e09e62... Finish Spanish Translation A/B Testing
   "metadata": {},
   "outputs": [
    {
     "data": {
      "text/html": [
       "<div>\n",
       "<style scoped>\n",
       "    .dataframe tbody tr th:only-of-type {\n",
       "        vertical-align: middle;\n",
       "    }\n",
       "\n",
       "    .dataframe tbody tr th {\n",
       "        vertical-align: top;\n",
       "    }\n",
       "\n",
       "    .dataframe thead th {\n",
       "        text-align: right;\n",
       "    }\n",
       "</style>\n",
       "<table border=\"1\" class=\"dataframe\">\n",
       "  <thead>\n",
       "    <tr style=\"text-align: right;\">\n",
       "      <th></th>\n",
       "      <th>user_id</th>\n",
       "      <th>date</th>\n",
       "      <th>source</th>\n",
       "      <th>device</th>\n",
       "      <th>browser_language</th>\n",
       "      <th>ads_channel</th>\n",
       "      <th>browser</th>\n",
       "      <th>conversion</th>\n",
       "      <th>test</th>\n",
       "    </tr>\n",
       "  </thead>\n",
       "  <tbody>\n",
       "    <tr>\n",
       "      <th>0</th>\n",
       "      <td>315281</td>\n",
       "      <td>2015-12-03</td>\n",
       "      <td>Direct</td>\n",
       "      <td>Web</td>\n",
       "      <td>ES</td>\n",
       "      <td>NaN</td>\n",
       "      <td>IE</td>\n",
       "      <td>1</td>\n",
       "      <td>0</td>\n",
       "    </tr>\n",
       "    <tr>\n",
       "      <th>1</th>\n",
       "      <td>497851</td>\n",
       "      <td>2015-12-04</td>\n",
       "      <td>Ads</td>\n",
       "      <td>Web</td>\n",
       "      <td>ES</td>\n",
       "      <td>Google</td>\n",
       "      <td>IE</td>\n",
       "      <td>0</td>\n",
       "      <td>1</td>\n",
       "    </tr>\n",
       "  </tbody>\n",
       "</table>\n",
       "</div>"
      ],
      "text/plain": [
       "   user_id        date  source device browser_language ads_channel browser  \\\n",
       "0   315281  2015-12-03  Direct    Web               ES         NaN      IE   \n",
       "1   497851  2015-12-04     Ads    Web               ES      Google      IE   \n",
       "\n",
       "   conversion  test  \n",
       "0           1     0  \n",
       "1           0     1  "
      ]
     },
<<<<<<< HEAD
<<<<<<< HEAD
     "execution_count": 2,
=======
     "execution_count": 33,
>>>>>>> parent of 191ba38 (Find possible root cause)
=======
     "execution_count": 150,
>>>>>>> parent of 7e09e62... Finish Spanish Translation A/B Testing
     "metadata": {},
     "output_type": "execute_result"
    }
   ],
   "source": [
    "# Read in data\n",
    "test = pd.read_csv(\"/Users/eve/Desktop/Datasets/Translation_Test/test_table.csv\")\n",
    "test.head(2)"
   ]
  },
  {
   "cell_type": "code",
<<<<<<< HEAD
<<<<<<< HEAD
   "execution_count": 3,
=======
   "execution_count": 34,
>>>>>>> parent of 191ba38 (Find possible root cause)
=======
   "execution_count": 151,
>>>>>>> parent of 7e09e62... Finish Spanish Translation A/B Testing
   "metadata": {},
   "outputs": [
    {
     "data": {
      "text/html": [
       "<div>\n",
       "<style scoped>\n",
       "    .dataframe tbody tr th:only-of-type {\n",
       "        vertical-align: middle;\n",
       "    }\n",
       "\n",
       "    .dataframe tbody tr th {\n",
       "        vertical-align: top;\n",
       "    }\n",
       "\n",
       "    .dataframe thead th {\n",
       "        text-align: right;\n",
       "    }\n",
       "</style>\n",
       "<table border=\"1\" class=\"dataframe\">\n",
       "  <thead>\n",
       "    <tr style=\"text-align: right;\">\n",
       "      <th></th>\n",
       "      <th>user_id</th>\n",
       "      <th>sex</th>\n",
       "      <th>age</th>\n",
       "      <th>country</th>\n",
       "    </tr>\n",
       "  </thead>\n",
       "  <tbody>\n",
       "    <tr>\n",
       "      <th>0</th>\n",
       "      <td>765821</td>\n",
       "      <td>M</td>\n",
       "      <td>20</td>\n",
       "      <td>Mexico</td>\n",
       "    </tr>\n",
       "    <tr>\n",
       "      <th>1</th>\n",
       "      <td>343561</td>\n",
       "      <td>F</td>\n",
       "      <td>27</td>\n",
       "      <td>Nicaragua</td>\n",
       "    </tr>\n",
       "  </tbody>\n",
       "</table>\n",
       "</div>"
      ],
      "text/plain": [
       "   user_id sex  age    country\n",
       "0   765821   M   20     Mexico\n",
       "1   343561   F   27  Nicaragua"
      ]
     },
<<<<<<< HEAD
<<<<<<< HEAD
     "execution_count": 3,
=======
     "execution_count": 34,
>>>>>>> parent of 191ba38 (Find possible root cause)
=======
     "execution_count": 151,
>>>>>>> parent of 7e09e62... Finish Spanish Translation A/B Testing
     "metadata": {},
     "output_type": "execute_result"
    }
   ],
   "source": [
    "user = pd.read_csv(\"/Users/eve/Desktop/Datasets/Translation_Test/user_table.csv\")\n",
    "user.head(2)"
   ]
  },
  {
   "cell_type": "code",
<<<<<<< HEAD
<<<<<<< HEAD
   "execution_count": 4,
=======
   "execution_count": 35,
>>>>>>> parent of 191ba38 (Find possible root cause)
=======
   "execution_count": 152,
>>>>>>> parent of 7e09e62... Finish Spanish Translation A/B Testing
   "metadata": {},
   "outputs": [
    {
     "name": "stdout",
     "output_type": "stream",
     "text": [
      "Length of test table: 453321, Length of user table: 452867\n"
     ]
    }
   ],
   "source": [
    "print(\"Length of test table: {}, Length of user table: {}\".format(len(test), len(user)))"
   ]
  },
  {
   "cell_type": "code",
<<<<<<< HEAD
<<<<<<< HEAD
   "execution_count": 5,
=======
   "execution_count": 45,
>>>>>>> parent of 191ba38 (Find possible root cause)
=======
   "execution_count": 153,
>>>>>>> parent of 7e09e62... Finish Spanish Translation A/B Testing
   "metadata": {},
   "outputs": [
    {
     "name": "stdout",
     "output_type": "stream",
     "text": [
      "Length of merged data: 452867\n"
     ]
    },
    {
     "data": {
      "text/html": [
       "<div>\n",
       "<style scoped>\n",
       "    .dataframe tbody tr th:only-of-type {\n",
       "        vertical-align: middle;\n",
       "    }\n",
       "\n",
       "    .dataframe tbody tr th {\n",
       "        vertical-align: top;\n",
       "    }\n",
       "\n",
       "    .dataframe thead th {\n",
       "        text-align: right;\n",
       "    }\n",
       "</style>\n",
       "<table border=\"1\" class=\"dataframe\">\n",
       "  <thead>\n",
       "    <tr style=\"text-align: right;\">\n",
       "      <th></th>\n",
       "      <th>user_id</th>\n",
       "      <th>date</th>\n",
       "      <th>source</th>\n",
       "      <th>device</th>\n",
       "      <th>browser_language</th>\n",
       "      <th>ads_channel</th>\n",
       "      <th>browser</th>\n",
       "      <th>conversion</th>\n",
       "      <th>test</th>\n",
       "      <th>sex</th>\n",
       "      <th>age</th>\n",
       "      <th>country</th>\n",
       "    </tr>\n",
       "  </thead>\n",
       "  <tbody>\n",
       "    <tr>\n",
       "      <th>0</th>\n",
       "      <td>315281</td>\n",
       "      <td>2015-12-03</td>\n",
       "      <td>Direct</td>\n",
       "      <td>Web</td>\n",
       "      <td>ES</td>\n",
       "      <td>NaN</td>\n",
       "      <td>IE</td>\n",
       "      <td>1</td>\n",
       "      <td>0</td>\n",
       "      <td>M</td>\n",
       "      <td>32</td>\n",
       "      <td>Spain</td>\n",
       "    </tr>\n",
       "    <tr>\n",
       "      <th>1</th>\n",
       "      <td>497851</td>\n",
       "      <td>2015-12-04</td>\n",
       "      <td>Ads</td>\n",
       "      <td>Web</td>\n",
       "      <td>ES</td>\n",
       "      <td>Google</td>\n",
       "      <td>IE</td>\n",
       "      <td>0</td>\n",
       "      <td>1</td>\n",
       "      <td>M</td>\n",
       "      <td>21</td>\n",
       "      <td>Mexico</td>\n",
       "    </tr>\n",
       "  </tbody>\n",
       "</table>\n",
       "</div>"
      ],
      "text/plain": [
       "   user_id        date  source device browser_language ads_channel browser  \\\n",
       "0   315281  2015-12-03  Direct    Web               ES         NaN      IE   \n",
       "1   497851  2015-12-04     Ads    Web               ES      Google      IE   \n",
       "\n",
       "   conversion  test sex  age country  \n",
       "0           1     0   M   32   Spain  \n",
       "1           0     1   M   21  Mexico  "
      ]
     },
<<<<<<< HEAD
<<<<<<< HEAD
     "execution_count": 5,
=======
     "execution_count": 45,
>>>>>>> parent of 191ba38 (Find possible root cause)
=======
     "execution_count": 153,
>>>>>>> parent of 7e09e62... Finish Spanish Translation A/B Testing
     "metadata": {},
     "output_type": "execute_result"
    }
   ],
   "source": [
    "# Merge two tables\n",
    "df = test.merge(user, on = 'user_id')\n",
    "print(\"Length of merged data: {}\".format(len(df)))\n",
    "df.head(2)"
   ]
  },
  {
   "cell_type": "code",
<<<<<<< HEAD
<<<<<<< HEAD
   "execution_count": 6,
=======
   "execution_count": 46,
>>>>>>> parent of 191ba38 (Find possible root cause)
=======
   "execution_count": 154,
>>>>>>> parent of 7e09e62... Finish Spanish Translation A/B Testing
   "metadata": {},
   "outputs": [
    {
     "data": {
<<<<<<< HEAD
      "text/html": [
       "<div>\n",
       "<style scoped>\n",
       "    .dataframe tbody tr th:only-of-type {\n",
       "        vertical-align: middle;\n",
       "    }\n",
       "\n",
       "    .dataframe tbody tr th {\n",
       "        vertical-align: top;\n",
       "    }\n",
       "\n",
       "    .dataframe thead th {\n",
       "        text-align: right;\n",
       "    }\n",
       "</style>\n",
       "<table border=\"1\" class=\"dataframe\">\n",
       "  <thead>\n",
       "    <tr style=\"text-align: right;\">\n",
       "      <th></th>\n",
       "      <th>country</th>\n",
       "      <th>count</th>\n",
       "      <th>mean</th>\n",
       "    </tr>\n",
       "  </thead>\n",
       "  <tbody>\n",
       "    <tr>\n",
       "      <th>14</th>\n",
       "      <td>Spain</td>\n",
       "      <td>51782</td>\n",
       "      <td>0.079719</td>\n",
       "    </tr>\n",
       "    <tr>\n",
       "      <th>6</th>\n",
       "      <td>El Salvador</td>\n",
       "      <td>4108</td>\n",
       "      <td>0.053554</td>\n",
       "    </tr>\n",
       "    <tr>\n",
       "      <th>10</th>\n",
       "      <td>Nicaragua</td>\n",
       "      <td>3419</td>\n",
       "      <td>0.052647</td>\n",
       "    </tr>\n",
       "    <tr>\n",
       "      <th>4</th>\n",
       "      <td>Costa Rica</td>\n",
       "      <td>2660</td>\n",
       "      <td>0.052256</td>\n",
       "    </tr>\n",
       "    <tr>\n",
       "      <th>3</th>\n",
       "      <td>Colombia</td>\n",
       "      <td>27088</td>\n",
       "      <td>0.052089</td>\n",
       "    </tr>\n",
       "    <tr>\n",
       "      <th>8</th>\n",
       "      <td>Honduras</td>\n",
       "      <td>4361</td>\n",
       "      <td>0.050906</td>\n",
       "    </tr>\n",
       "    <tr>\n",
       "      <th>7</th>\n",
       "      <td>Guatemala</td>\n",
       "      <td>7622</td>\n",
       "      <td>0.050643</td>\n",
       "    </tr>\n",
       "    <tr>\n",
       "      <th>16</th>\n",
       "      <td>Venezuela</td>\n",
       "      <td>16149</td>\n",
       "      <td>0.050344</td>\n",
       "    </tr>\n",
       "    <tr>\n",
       "      <th>13</th>\n",
       "      <td>Peru</td>\n",
       "      <td>16869</td>\n",
       "      <td>0.049914</td>\n",
       "    </tr>\n",
       "    <tr>\n",
       "      <th>9</th>\n",
       "      <td>Mexico</td>\n",
       "      <td>64209</td>\n",
       "      <td>0.049495</td>\n",
       "    </tr>\n",
       "    <tr>\n",
       "      <th>1</th>\n",
       "      <td>Bolivia</td>\n",
       "      <td>5550</td>\n",
       "      <td>0.049369</td>\n",
       "    </tr>\n",
       "    <tr>\n",
       "      <th>5</th>\n",
       "      <td>Ecuador</td>\n",
       "      <td>8036</td>\n",
       "      <td>0.049154</td>\n",
       "    </tr>\n",
       "    <tr>\n",
       "      <th>12</th>\n",
       "      <td>Paraguay</td>\n",
       "      <td>3650</td>\n",
       "      <td>0.048493</td>\n",
       "    </tr>\n",
       "    <tr>\n",
       "      <th>2</th>\n",
       "      <td>Chile</td>\n",
       "      <td>9853</td>\n",
       "      <td>0.048107</td>\n",
       "    </tr>\n",
       "    <tr>\n",
       "      <th>11</th>\n",
       "      <td>Panama</td>\n",
       "      <td>1966</td>\n",
       "      <td>0.046796</td>\n",
       "    </tr>\n",
       "    <tr>\n",
       "      <th>0</th>\n",
       "      <td>Argentina</td>\n",
       "      <td>9356</td>\n",
       "      <td>0.015071</td>\n",
       "    </tr>\n",
       "    <tr>\n",
       "      <th>15</th>\n",
       "      <td>Uruguay</td>\n",
       "      <td>415</td>\n",
       "      <td>0.012048</td>\n",
       "    </tr>\n",
       "  </tbody>\n",
       "</table>\n",
       "</div>"
      ],
      "text/plain": [
       "        country  count      mean\n",
       "14        Spain  51782  0.079719\n",
       "6   El Salvador   4108  0.053554\n",
       "10    Nicaragua   3419  0.052647\n",
       "4    Costa Rica   2660  0.052256\n",
       "3      Colombia  27088  0.052089\n",
       "8      Honduras   4361  0.050906\n",
       "7     Guatemala   7622  0.050643\n",
       "16    Venezuela  16149  0.050344\n",
       "13         Peru  16869  0.049914\n",
       "9        Mexico  64209  0.049495\n",
       "1       Bolivia   5550  0.049369\n",
       "5       Ecuador   8036  0.049154\n",
       "12     Paraguay   3650  0.048493\n",
       "2         Chile   9853  0.048107\n",
       "11       Panama   1966  0.046796\n",
       "0     Argentina   9356  0.015071\n",
       "15      Uruguay    415  0.012048"
      ]
     },
<<<<<<< HEAD
     "execution_count": 6,
=======
      "text/plain": [
       "401085"
      ]
     },
     "execution_count": 46,
>>>>>>> parent of 191ba38 (Find possible root cause)
=======
     "execution_count": 154,
>>>>>>> parent of 7e09e62... Finish Spanish Translation A/B Testing
     "metadata": {},
     "output_type": "execute_result"
    }
   ],
   "source": [
    "# 為了要重現 t-test，去掉 Spain，因為 Spain 並沒有變化 (i.e. in treatment group)\n",
    "df = df[df[\"country\"] != 'Spain']\n",
    "len(df)"
   ]
  },
  {
   "cell_type": "code",
<<<<<<< HEAD
<<<<<<< HEAD
   "execution_count": 7,
=======
   "execution_count": 48,
>>>>>>> parent of 191ba38 (Find possible root cause)
=======
   "execution_count": 155,
>>>>>>> parent of 7e09e62... Finish Spanish Translation A/B Testing
   "metadata": {},
   "outputs": [
    {
     "data": {
      "text/html": [
       "<div>\n",
       "<style scoped>\n",
       "    .dataframe tbody tr th:only-of-type {\n",
       "        vertical-align: middle;\n",
       "    }\n",
       "\n",
       "    .dataframe tbody tr th {\n",
       "        vertical-align: top;\n",
       "    }\n",
       "\n",
       "    .dataframe thead th {\n",
       "        text-align: right;\n",
       "    }\n",
       "</style>\n",
       "<table border=\"1\" class=\"dataframe\">\n",
       "  <thead>\n",
       "    <tr style=\"text-align: right;\">\n",
       "      <th></th>\n",
       "      <th>test</th>\n",
       "      <th>sample_variance</th>\n",
       "      <th>count</th>\n",
       "    </tr>\n",
       "  </thead>\n",
       "  <tbody>\n",
       "    <tr>\n",
       "      <th>0</th>\n",
       "      <td>0</td>\n",
       "      <td>0.214383</td>\n",
       "      <td>185311</td>\n",
       "    </tr>\n",
       "    <tr>\n",
       "      <th>1</th>\n",
       "      <td>1</td>\n",
       "      <td>0.203781</td>\n",
       "      <td>215774</td>\n",
       "    </tr>\n",
       "  </tbody>\n",
       "</table>\n",
       "</div>"
      ],
      "text/plain": [
       "   test  sample_variance   count\n",
       "0     0         0.214383  185311\n",
       "1     1         0.203781  215774"
      ]
     },
<<<<<<< HEAD
<<<<<<< HEAD
     "execution_count": 7,
=======
     "execution_count": 48,
>>>>>>> parent of 191ba38 (Find possible root cause)
=======
     "execution_count": 155,
>>>>>>> parent of 7e09e62... Finish Spanish Translation A/B Testing
     "metadata": {},
     "output_type": "execute_result"
    }
   ],
   "source": [
    "# Work on re-do t-test\n",
    "# 1. check t-test assumption - sample size & sample std\n",
    "# sample size 差不多 --> 可用 t-test\n",
    "# 注意這裡 sample variance 不同，記得在做 t-test 時用 equal_var = False\n",
    "def sample_variance(x):\n",
    "    return np.std(x, ddof = 1)\n",
    "\n",
<<<<<<< HEAD
    "data.groupby([\"test\"])[\"conversion\"].agg({\"count\", sample_variance}).reset_index()\n",
    "\n",
    "# # Different way\n",
    "# df.groupby([\"test\"]).agg(np.std, ddof = 1)\n",
    "\n",
    "# # or\n",
    "# np.sqrt(pd.Series(df[df[\"test\"] == 0][\"conversion\"]).var(ddof = 1))\n",
    "# np.sqrt(pd.Series(df[df[\"test\"] == 1][\"conversion\"]).var(ddof = 1))"
   ]
  },
  {
   "cell_type": "code",
   "execution_count": 156,
   "metadata": {},
   "outputs": [
    {
     "name": "stdout",
     "output_type": "stream",
     "text": [
      "Critical value = -7.353895203080277, P-value = 1.9289178577799033e-13\n"
     ]
    }
   ],
   "source": [
    "# 確認用 t-test unequal variance \n",
    "from scipy import stats\n",
    "t, p = stats.ttest_ind(data[data[\"test\"] == 1][\"conversion\"],\n",
    "                      data[data[\"test\"] == 0][\"conversion\"],\n",
    "                      equal_var= False)\n",
    "print(\"Critical value = {}, P-value = {}\".format(t, p))"
   ]
  },
  {
   "cell_type": "markdown",
   "metadata": {},
   "source": [
    "### Deep Dive Root Causes"
=======
    "df.groupby([\"test\"])[\"conversion\"].agg({\"count\", sample_variance}).reset_index()"
>>>>>>> parent of 191ba38 (Find possible root cause)
   ]
  },
  {
   "cell_type": "code",
<<<<<<< HEAD
<<<<<<< HEAD
   "execution_count": 9,
=======
   "execution_count": 49,
>>>>>>> parent of 191ba38 (Find possible root cause)
=======
   "execution_count": 157,
>>>>>>> parent of 7e09e62... Finish Spanish Translation A/B Testing
   "metadata": {},
   "outputs": [
    {
     "data": {
      "text/html": [
       "<div>\n",
       "<style scoped>\n",
       "    .dataframe tbody tr th:only-of-type {\n",
       "        vertical-align: middle;\n",
       "    }\n",
       "\n",
       "    .dataframe tbody tr th {\n",
       "        vertical-align: top;\n",
       "    }\n",
       "\n",
       "    .dataframe thead th {\n",
       "        text-align: right;\n",
       "    }\n",
       "</style>\n",
       "<table border=\"1\" class=\"dataframe\">\n",
       "  <thead>\n",
       "    <tr style=\"text-align: right;\">\n",
       "      <th></th>\n",
       "      <th>user_id</th>\n",
       "      <th>date</th>\n",
       "      <th>source</th>\n",
       "      <th>device</th>\n",
       "      <th>browser_language</th>\n",
       "      <th>ads_channel</th>\n",
       "      <th>browser</th>\n",
       "      <th>conversion</th>\n",
       "      <th>sex</th>\n",
       "      <th>age</th>\n",
       "      <th>country</th>\n",
       "    </tr>\n",
       "    <tr>\n",
       "      <th>test</th>\n",
<<<<<<< HEAD
<<<<<<< HEAD
       "      <th>mean</th>\n",
       "      <th>count</th>\n",
=======
       "      <th></th>\n",
       "      <th></th>\n",
       "      <th></th>\n",
       "      <th></th>\n",
       "      <th></th>\n",
       "      <th></th>\n",
       "      <th></th>\n",
       "      <th></th>\n",
       "      <th></th>\n",
       "      <th></th>\n",
       "      <th></th>\n",
>>>>>>> parent of 191ba38 (Find possible root cause)
=======
       "      <th>count</th>\n",
       "      <th>mean</th>\n",
>>>>>>> parent of 7e09e62... Finish Spanish Translation A/B Testing
       "    </tr>\n",
       "  </thead>\n",
       "  <tbody>\n",
       "    <tr>\n",
       "      <th>0</th>\n",
<<<<<<< HEAD
       "      <td>0</td>\n",
       "      <td>185311</td>\n",
       "      <td>0.048292</td>\n",
       "    </tr>\n",
       "    <tr>\n",
       "      <th>1</th>\n",
       "      <td>1</td>\n",
       "      <td>215774</td>\n",
<<<<<<< HEAD
=======
       "      <td>288943.965717</td>\n",
       "      <td>NaN</td>\n",
       "      <td>NaN</td>\n",
       "      <td>NaN</td>\n",
       "      <td>NaN</td>\n",
       "      <td>NaN</td>\n",
       "      <td>NaN</td>\n",
       "      <td>0.214383</td>\n",
       "      <td>NaN</td>\n",
       "      <td>6.788499</td>\n",
       "      <td>NaN</td>\n",
       "    </tr>\n",
       "    <tr>\n",
       "      <th>1</th>\n",
       "      <td>288529.156089</td>\n",
       "      <td>NaN</td>\n",
       "      <td>NaN</td>\n",
       "      <td>NaN</td>\n",
       "      <td>NaN</td>\n",
       "      <td>NaN</td>\n",
       "      <td>NaN</td>\n",
       "      <td>0.203781</td>\n",
       "      <td>NaN</td>\n",
       "      <td>6.762929</td>\n",
       "      <td>NaN</td>\n",
>>>>>>> parent of 191ba38 (Find possible root cause)
=======
       "      <td>0.043411</td>\n",
>>>>>>> parent of 7e09e62... Finish Spanish Translation A/B Testing
       "    </tr>\n",
       "  </tbody>\n",
       "</table>\n",
       "</div>"
      ],
      "text/plain": [
<<<<<<< HEAD
<<<<<<< HEAD
       "   test      mean   count\n",
       "0     0  0.048292  185311\n",
       "1     1  0.043411  215774"
      ]
     },
     "execution_count": 9,
=======
       "            user_id  date  source  device  browser_language  ads_channel  \\\n",
       "test                                                                       \n",
       "0     288943.965717   NaN     NaN     NaN               NaN          NaN   \n",
       "1     288529.156089   NaN     NaN     NaN               NaN          NaN   \n",
       "\n",
       "      browser  conversion  sex       age  country  \n",
       "test                                               \n",
       "0         NaN    0.214383  NaN  6.788499      NaN  \n",
       "1         NaN    0.203781  NaN  6.762929      NaN  "
      ]
     },
     "execution_count": 49,
>>>>>>> parent of 191ba38 (Find possible root cause)
=======
       "   test   count      mean\n",
       "0     0  185311  0.048292\n",
       "1     1  215774  0.043411"
      ]
     },
     "execution_count": 157,
>>>>>>> parent of 7e09e62... Finish Spanish Translation A/B Testing
     "metadata": {},
     "output_type": "execute_result"
    }
   ],
   "source": [
    "# Different way\n",
    "df.groupby([\"test\"]).agg(np.std, ddof = 1)"
   ]
  },
  {
   "cell_type": "code",
   "execution_count": 50,
   "metadata": {},
   "outputs": [
    {
     "data": {
      "text/plain": [
       "0.2143826987826136"
      ]
     },
     "execution_count": 50,
     "metadata": {},
     "output_type": "execute_result"
    }
   ],
   "source": [
    "# another way\n",
    "np.sqrt(pd.Series(df[df[\"test\"] == 0][\"conversion\"]).var(ddof = 1))"
   ]
  },
  {
   "cell_type": "code",
<<<<<<< HEAD
<<<<<<< HEAD
   "execution_count": 10,
=======
   "execution_count": 51,
>>>>>>> parent of 191ba38 (Find possible root cause)
=======
   "execution_count": 158,
>>>>>>> parent of 7e09e62... Finish Spanish Translation A/B Testing
   "metadata": {},
   "outputs": [
    {
     "data": {
      "text/plain": [
       "0.20378131704133629"
      ]
     },
<<<<<<< HEAD
<<<<<<< HEAD
     "execution_count": 10,
=======
     "execution_count": 51,
>>>>>>> parent of 191ba38 (Find possible root cause)
=======
     "execution_count": 158,
>>>>>>> parent of 7e09e62... Finish Spanish Translation A/B Testing
     "metadata": {},
     "output_type": "execute_result"
    }
   ],
   "source": [
    "np.sqrt(pd.Series(df[df[\"test\"] == 1][\"conversion\"]).var(ddof = 1))"
   ]
  },
  {
   "cell_type": "code",
<<<<<<< HEAD
<<<<<<< HEAD
   "execution_count": 11,
=======
   "execution_count": 159,
>>>>>>> parent of 7e09e62... Finish Spanish Translation A/B Testing
   "metadata": {},
   "outputs": [
    {
     "data": {
      "text/html": [
       "<div>\n",
       "<style scoped>\n",
       "    .dataframe tbody tr th:only-of-type {\n",
       "        vertical-align: middle;\n",
       "    }\n",
       "\n",
       "    .dataframe tbody tr th {\n",
       "        vertical-align: top;\n",
       "    }\n",
       "\n",
       "    .dataframe thead th {\n",
       "        text-align: right;\n",
       "    }\n",
       "</style>\n",
       "<table border=\"1\" class=\"dataframe\">\n",
       "  <thead>\n",
       "    <tr style=\"text-align: right;\">\n",
       "      <th></th>\n",
       "      <th>date</th>\n",
       "      <th>control</th>\n",
       "      <th>treatment</th>\n",
       "    </tr>\n",
       "  </thead>\n",
       "  <tbody>\n",
       "    <tr>\n",
       "      <th>0</th>\n",
       "      <td>2015-11-30</td>\n",
       "      <td>28982</td>\n",
       "      <td>33844</td>\n",
       "    </tr>\n",
       "    <tr>\n",
       "      <th>1</th>\n",
       "      <td>2015-12-01</td>\n",
       "      <td>28995</td>\n",
       "      <td>33840</td>\n",
       "    </tr>\n",
       "    <tr>\n",
       "      <th>2</th>\n",
       "      <td>2015-12-02</td>\n",
       "      <td>28903</td>\n",
       "      <td>33517</td>\n",
       "    </tr>\n",
       "    <tr>\n",
       "      <th>3</th>\n",
       "      <td>2015-12-03</td>\n",
       "      <td>40727</td>\n",
       "      <td>47383</td>\n",
       "    </tr>\n",
       "    <tr>\n",
       "      <th>4</th>\n",
       "      <td>2015-12-04</td>\n",
       "      <td>57704</td>\n",
       "      <td>67190</td>\n",
       "    </tr>\n",
       "  </tbody>\n",
       "</table>\n",
       "</div>"
      ],
      "text/plain": [
       "        date  control  treatment\n",
       "0 2015-11-30    28982      33844\n",
       "1 2015-12-01    28995      33840\n",
       "2 2015-12-02    28903      33517\n",
       "3 2015-12-03    40727      47383\n",
       "4 2015-12-04    57704      67190"
      ]
     },
     "execution_count": 159,
     "metadata": {},
     "output_type": "execute_result"
    }
   ],
   "source": [
    "# 因為上面的表沒有分出 test == 0 or test == 1，所以另外做個圖\n",
    "control = bydate[bydate[\"test\"]==0].rename(columns = {0:\"control\"}).drop(\"test\", axis = 1)\n",
    "treatment = bydate[bydate[\"test\"]==1].rename(columns = {0:\"treatment\"}).drop(\"test\", axis = 1)\n",
    "new = control.merge(treatment, on = \"date\")\n",
    "new"
   ]
  },
  {
   "cell_type": "code",
   "execution_count": 160,
   "metadata": {},
   "outputs": [
    {
     "data": {
      "text/html": [
       "<div>\n",
       "<style scoped>\n",
       "    .dataframe tbody tr th:only-of-type {\n",
       "        vertical-align: middle;\n",
       "    }\n",
       "\n",
       "    .dataframe tbody tr th {\n",
       "        vertical-align: top;\n",
       "    }\n",
       "\n",
       "    .dataframe thead th {\n",
       "        text-align: right;\n",
       "    }\n",
       "</style>\n",
       "<table border=\"1\" class=\"dataframe\">\n",
       "  <thead>\n",
       "    <tr style=\"text-align: right;\">\n",
       "      <th></th>\n",
       "      <th>control</th>\n",
       "      <th>treatment</th>\n",
       "    </tr>\n",
       "    <tr>\n",
       "      <th>date</th>\n",
       "      <th></th>\n",
       "      <th></th>\n",
       "    </tr>\n",
       "  </thead>\n",
       "  <tbody>\n",
       "    <tr>\n",
       "      <th>2015-11-30</th>\n",
       "      <td>28982</td>\n",
       "      <td>33844</td>\n",
       "    </tr>\n",
       "    <tr>\n",
       "      <th>2015-12-01</th>\n",
       "      <td>28995</td>\n",
       "      <td>33840</td>\n",
       "    </tr>\n",
       "    <tr>\n",
       "      <th>2015-12-02</th>\n",
       "      <td>28903</td>\n",
       "      <td>33517</td>\n",
       "    </tr>\n",
       "    <tr>\n",
       "      <th>2015-12-03</th>\n",
       "      <td>40727</td>\n",
       "      <td>47383</td>\n",
       "    </tr>\n",
       "    <tr>\n",
       "      <th>2015-12-04</th>\n",
       "      <td>57704</td>\n",
       "      <td>67190</td>\n",
       "    </tr>\n",
       "  </tbody>\n",
       "</table>\n",
       "</div>"
      ],
      "text/plain": [
       "            control  treatment\n",
       "date                          \n",
       "2015-11-30    28982      33844\n",
       "2015-12-01    28995      33840\n",
       "2015-12-02    28903      33517\n",
       "2015-12-03    40727      47383\n",
       "2015-12-04    57704      67190"
      ]
     },
     "execution_count": 160,
     "metadata": {},
     "output_type": "execute_result"
    }
   ],
   "source": [
    "new.set_index(\"date\", inplace = True)\n",
    "new"
   ]
  },
  {
   "cell_type": "code",
   "execution_count": 161,
   "metadata": {},
   "outputs": [
    {
     "data": {
      "text/plain": [
       "Text(0, 0.5, 'Number of counts')"
      ]
     },
     "execution_count": 161,
     "metadata": {},
     "output_type": "execute_result"
    },
    {
     "data": {
      "image/png": "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\n",
      "text/plain": [
       "<Figure size 792x360 with 1 Axes>"
      ]
     },
     "metadata": {},
     "output_type": "display_data"
    }
   ],
   "source": [
    "new[[\"control\", \"treatment\"]].plot(marker = \".\", alpha = 0.5, figsize = (11, 5)).set_ylabel(\"Number of counts\")"
   ]
  },
  {
   "cell_type": "code",
   "execution_count": 162,
   "metadata": {
    "scrolled": true
   },
   "outputs": [
    {
     "data": {
      "image/png": "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\n",
      "text/plain": [
       "<Figure size 792x648 with 2 Axes>"
      ]
     },
     "metadata": {},
     "output_type": "display_data"
    }
   ],
   "source": [
    "# 顯示兩個 subplots\n",
    "axes = new[[\"control\", \"treatment\"]].plot(marker = '.', alpha = 0.5, figsize = (11, 9), subplots = True)\n",
    "for ax in axes:\n",
    "    ax.set_ylabel(\"Number of counts\")"
   ]
  },
  {
   "cell_type": "markdown",
   "metadata": {},
   "source": [
    "#### 用 conversion rate by date 角度來看"
   ]
  },
  {
   "cell_type": "code",
   "execution_count": 164,
   "metadata": {},
   "outputs": [
    {
     "name": "stderr",
     "output_type": "stream",
     "text": [
      "/Users/eve/anaconda3/lib/python3.7/site-packages/ipykernel_launcher.py:1: FutureWarning: using a dict on a Series for aggregation\n",
      "is deprecated and will be removed in a future version\n",
      "  \"\"\"Entry point for launching an IPython kernel.\n"
     ]
    },
    {
     "data": {
      "text/html": [
       "<div>\n",
       "<style scoped>\n",
       "    .dataframe tbody tr th:only-of-type {\n",
       "        vertical-align: middle;\n",
       "    }\n",
       "\n",
       "    .dataframe tbody tr th {\n",
       "        vertical-align: top;\n",
       "    }\n",
       "\n",
       "    .dataframe thead th {\n",
       "        text-align: right;\n",
       "    }\n",
       "</style>\n",
       "<table border=\"1\" class=\"dataframe\">\n",
       "  <thead>\n",
       "    <tr style=\"text-align: right;\">\n",
       "      <th></th>\n",
       "      <th>test_vs_control</th>\n",
       "    </tr>\n",
       "    <tr>\n",
       "      <th>date</th>\n",
       "      <th></th>\n",
       "    </tr>\n",
       "  </thead>\n",
       "  <tbody>\n",
       "    <tr>\n",
       "      <th>2015-11-30</th>\n",
       "      <td>0.856918</td>\n",
       "    </tr>\n",
       "    <tr>\n",
       "      <th>2015-12-01</th>\n",
       "      <td>0.894524</td>\n",
       "    </tr>\n",
       "    <tr>\n",
       "      <th>2015-12-02</th>\n",
       "      <td>0.912195</td>\n",
       "    </tr>\n",
       "    <tr>\n",
       "      <th>2015-12-03</th>\n",
       "      <td>0.891235</td>\n",
       "    </tr>\n",
       "    <tr>\n",
       "      <th>2015-12-04</th>\n",
       "      <td>0.922985</td>\n",
       "    </tr>\n",
       "  </tbody>\n",
       "</table>\n",
       "</div>"
      ],
      "text/plain": [
       "            test_vs_control\n",
       "date                       \n",
       "2015-11-30         0.856918\n",
       "2015-12-01         0.894524\n",
       "2015-12-02         0.912195\n",
       "2015-12-03         0.891235\n",
       "2015-12-04         0.922985"
      ]
     },
     "execution_count": 164,
     "metadata": {},
     "output_type": "execute_result"
    }
   ],
   "source": [
    "data.groupby([\"date\"])[\"conversion\"].agg({\"test_vs_control\": lambda x : x[data[\"test\"] == 1].mean() / x[data[\"test\"] == 0].mean()})"
   ]
  },
  {
   "cell_type": "code",
   "execution_count": 165,
   "metadata": {},
   "outputs": [
    {
     "name": "stderr",
=======
   "execution_count": 52,
   "metadata": {},
   "outputs": [
    {
     "name": "stdout",
>>>>>>> parent of 191ba38 (Find possible root cause)
     "output_type": "stream",
     "text": [
      "Critical value = -7.353895203080277, P-value = 1.9289178577799033e-13\n"
     ]
<<<<<<< HEAD
    },
    {
     "data": {
      "text/plain": [
       "Text(0, 0.5, 'Test v.s. Control Ratio')"
      ]
     },
     "execution_count": 165,
     "metadata": {},
     "output_type": "execute_result"
    },
    {
     "data": {
      "image/png": "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\n",
      "text/plain": [
       "<Figure size 792x288 with 1 Axes>"
      ]
     },
     "metadata": {},
     "output_type": "display_data"
=======
>>>>>>> parent of 191ba38 (Find possible root cause)
    }
   ],
   "source": [
    "# 用 package 去算 t-test\n",
    "from scipy import stats\n",
    "t, p = stats.ttest_ind(df[df[\"test\"] == 1][\"conversion\"], \n",
    "                       df[df[\"test\"] == 0][\"conversion\"],\n",
    "                      equal_var=False)\n",
    "print(\"Critical value = {}, P-value = {}\".format(t, p))"
   ]
  },
  {
   "cell_type": "code",
<<<<<<< HEAD
<<<<<<< HEAD
   "execution_count": 17,
=======
   "execution_count": 166,
>>>>>>> parent of 7e09e62... Finish Spanish Translation A/B Testing
   "metadata": {},
   "outputs": [
    {
     "data": {
      "text/html": [
       "<div>\n",
       "<style scoped>\n",
       "    .dataframe tbody tr th:only-of-type {\n",
       "        vertical-align: middle;\n",
       "    }\n",
       "\n",
       "    .dataframe tbody tr th {\n",
       "        vertical-align: top;\n",
       "    }\n",
       "\n",
       "    .dataframe thead th {\n",
       "        text-align: right;\n",
       "    }\n",
       "</style>\n",
       "<table border=\"1\" class=\"dataframe\">\n",
       "  <thead>\n",
       "    <tr style=\"text-align: right;\">\n",
       "      <th></th>\n",
       "      <th>date</th>\n",
       "      <th>test</th>\n",
       "      <th>conversion</th>\n",
       "    </tr>\n",
       "  </thead>\n",
       "  <tbody>\n",
       "    <tr>\n",
       "      <th>0</th>\n",
       "      <td>2015-11-30</td>\n",
       "      <td>0</td>\n",
       "      <td>0.051204</td>\n",
       "    </tr>\n",
       "    <tr>\n",
       "      <th>1</th>\n",
       "      <td>2015-11-30</td>\n",
       "      <td>1</td>\n",
       "      <td>0.043878</td>\n",
       "    </tr>\n",
       "    <tr>\n",
       "      <th>2</th>\n",
       "      <td>2015-12-01</td>\n",
       "      <td>0</td>\n",
       "      <td>0.046249</td>\n",
       "    </tr>\n",
       "    <tr>\n",
       "      <th>3</th>\n",
       "      <td>2015-12-01</td>\n",
       "      <td>1</td>\n",
       "      <td>0.041371</td>\n",
       "    </tr>\n",
       "    <tr>\n",
       "      <th>4</th>\n",
       "      <td>2015-12-02</td>\n",
       "      <td>0</td>\n",
       "      <td>0.048472</td>\n",
       "    </tr>\n",
       "    <tr>\n",
       "      <th>5</th>\n",
       "      <td>2015-12-02</td>\n",
       "      <td>1</td>\n",
       "      <td>0.044216</td>\n",
       "    </tr>\n",
       "    <tr>\n",
       "      <th>6</th>\n",
       "      <td>2015-12-03</td>\n",
       "      <td>0</td>\n",
       "      <td>0.049255</td>\n",
       "    </tr>\n",
       "    <tr>\n",
       "      <th>7</th>\n",
       "      <td>2015-12-03</td>\n",
       "      <td>1</td>\n",
       "      <td>0.043898</td>\n",
       "    </tr>\n",
       "    <tr>\n",
       "      <th>8</th>\n",
       "      <td>2015-12-04</td>\n",
       "      <td>0</td>\n",
       "      <td>0.047085</td>\n",
       "    </tr>\n",
       "    <tr>\n",
       "      <th>9</th>\n",
       "      <td>2015-12-04</td>\n",
       "      <td>1</td>\n",
       "      <td>0.043459</td>\n",
       "    </tr>\n",
       "  </tbody>\n",
       "</table>\n",
       "</div>"
      ],
      "text/plain": [
       "        date  test  conversion\n",
       "0 2015-11-30     0    0.051204\n",
       "1 2015-11-30     1    0.043878\n",
       "2 2015-12-01     0    0.046249\n",
       "3 2015-12-01     1    0.041371\n",
       "4 2015-12-02     0    0.048472\n",
       "5 2015-12-02     1    0.044216\n",
       "6 2015-12-03     0    0.049255\n",
       "7 2015-12-03     1    0.043898\n",
       "8 2015-12-04     0    0.047085\n",
       "9 2015-12-04     1    0.043459"
      ]
     },
     "execution_count": 166,
     "metadata": {},
     "output_type": "execute_result"
    }
   ],
   "source": [
    "# 同上面的一行 groupby 解\n",
    "new = data.groupby([\"date\", \"test\"])[\"conversion\"].mean().reset_index()\n",
    "new"
   ]
  },
  {
   "cell_type": "code",
   "execution_count": 167,
   "metadata": {},
   "outputs": [
    {
     "data": {
      "text/html": [
       "<div>\n",
       "<style scoped>\n",
       "    .dataframe tbody tr th:only-of-type {\n",
       "        vertical-align: middle;\n",
       "    }\n",
       "\n",
       "    .dataframe tbody tr th {\n",
       "        vertical-align: top;\n",
       "    }\n",
       "\n",
       "    .dataframe thead th {\n",
       "        text-align: right;\n",
       "    }\n",
       "</style>\n",
       "<table border=\"1\" class=\"dataframe\">\n",
       "  <thead>\n",
       "    <tr style=\"text-align: right;\">\n",
       "      <th></th>\n",
       "      <th>date</th>\n",
       "      <th>conversion_control</th>\n",
       "      <th>conversion_treatment</th>\n",
       "      <th>ratio</th>\n",
       "    </tr>\n",
       "  </thead>\n",
       "  <tbody>\n",
       "    <tr>\n",
       "      <th>0</th>\n",
       "      <td>2015-11-30</td>\n",
       "      <td>0.051204</td>\n",
       "      <td>0.043878</td>\n",
       "      <td>0.86</td>\n",
       "    </tr>\n",
       "    <tr>\n",
       "      <th>1</th>\n",
       "      <td>2015-12-01</td>\n",
       "      <td>0.046249</td>\n",
       "      <td>0.041371</td>\n",
       "      <td>0.89</td>\n",
       "    </tr>\n",
       "    <tr>\n",
       "      <th>2</th>\n",
       "      <td>2015-12-02</td>\n",
       "      <td>0.048472</td>\n",
       "      <td>0.044216</td>\n",
       "      <td>0.91</td>\n",
       "    </tr>\n",
       "    <tr>\n",
       "      <th>3</th>\n",
       "      <td>2015-12-03</td>\n",
       "      <td>0.049255</td>\n",
       "      <td>0.043898</td>\n",
       "      <td>0.89</td>\n",
       "    </tr>\n",
       "    <tr>\n",
       "      <th>4</th>\n",
       "      <td>2015-12-04</td>\n",
       "      <td>0.047085</td>\n",
       "      <td>0.043459</td>\n",
       "      <td>0.92</td>\n",
       "    </tr>\n",
       "  </tbody>\n",
       "</table>\n",
       "</div>"
      ],
      "text/plain": [
       "        date  conversion_control  conversion_treatment  ratio\n",
       "0 2015-11-30            0.051204              0.043878   0.86\n",
       "1 2015-12-01            0.046249              0.041371   0.89\n",
       "2 2015-12-02            0.048472              0.044216   0.91\n",
       "3 2015-12-03            0.049255              0.043898   0.89\n",
       "4 2015-12-04            0.047085              0.043459   0.92"
      ]
     },
     "execution_count": 167,
     "metadata": {},
     "output_type": "execute_result"
    }
   ],
   "source": [
    "treatment = new[new[\"test\"] == 1].rename(columns = {\"conversion\" : \"conversion_treatment\"}).drop(\"test\", axis = 1)\n",
    "control = new[new[\"test\"] == 0].rename(columns = {\"conversion\" : \"conversion_control\"}).drop(\"test\", axis = 1)\n",
    "new2 = control.merge(treatment, on = \"date\")\n",
    "new2[\"ratio\"] = round(new2[\"conversion_treatment\"] / new2[\"conversion_control\"], 2)\n",
    "new2"
   ]
  },
  {
   "cell_type": "code",
   "execution_count": 168,
   "metadata": {},
   "outputs": [
    {
     "data": {
      "text/plain": [
       "Text(0, 0.5, 'Treatment v.s. Control Ratio')"
      ]
     },
     "execution_count": 168,
     "metadata": {},
     "output_type": "execute_result"
    },
    {
     "data": {
      "image/png": "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\n",
      "text/plain": [
       "<Figure size 792x288 with 1 Axes>"
      ]
     },
     "metadata": {},
     "output_type": "display_data"
    }
   ],
   "source": [
    "new2.set_index(\"date\", inplace = True)\n",
    "new2[\"ratio\"].plot().set_ylabel(\"Treatment v.s. Control Ratio\")"
   ]
  },
  {
   "cell_type": "markdown",
   "metadata": {},
   "source": [
    "### Possible Root Cause II - Sampling Bias\n",
    "1. 有些 variables 在 test/control 裡的數量不一致 (i.e. A/B Test Randomization)\n",
    "2. 注意，這裡跟 conversion 已經無關，我們在意的是「每個 variable 內 test/control 的 sample distribution 是否一致」"
   ]
  },
  {
   "cell_type": "code",
   "execution_count": 171,
   "metadata": {},
   "outputs": [
    {
     "data": {
      "text/html": [
       "<div>\n",
       "<style scoped>\n",
       "    .dataframe tbody tr th:only-of-type {\n",
       "        vertical-align: middle;\n",
       "    }\n",
       "\n",
       "    .dataframe tbody tr th {\n",
       "        vertical-align: top;\n",
       "    }\n",
       "\n",
       "    .dataframe thead th {\n",
       "        text-align: right;\n",
       "    }\n",
       "</style>\n",
       "<table border=\"1\" class=\"dataframe\">\n",
       "  <thead>\n",
       "    <tr style=\"text-align: right;\">\n",
       "      <th></th>\n",
       "      <th>source</th>\n",
       "      <th>test</th>\n",
       "    </tr>\n",
       "  </thead>\n",
       "  <tbody>\n",
       "    <tr>\n",
       "      <th>0</th>\n",
       "      <td>Ads</td>\n",
       "      <td>160800</td>\n",
       "    </tr>\n",
       "    <tr>\n",
       "      <th>1</th>\n",
       "      <td>Direct</td>\n",
       "      <td>80285</td>\n",
       "    </tr>\n",
       "    <tr>\n",
       "      <th>2</th>\n",
       "      <td>SEO</td>\n",
       "      <td>160000</td>\n",
       "    </tr>\n",
       "  </tbody>\n",
       "</table>\n",
       "</div>"
      ],
      "text/plain": [
       "   source    test\n",
       "0     Ads  160800\n",
       "1  Direct   80285\n",
       "2     SEO  160000"
      ]
     },
     "execution_count": 171,
     "metadata": {},
     "output_type": "execute_result"
    }
   ],
   "source": [
    "# source\n",
    "data.groupby([\"source\"])[\"test\"].size().reset_index()"
   ]
  },
  {
   "cell_type": "code",
   "execution_count": 172,
   "metadata": {},
   "outputs": [
    {
     "data": {
      "text/html": [
       "<div>\n",
       "<style scoped>\n",
       "    .dataframe tbody tr th:only-of-type {\n",
       "        vertical-align: middle;\n",
       "    }\n",
       "\n",
       "    .dataframe tbody tr th {\n",
       "        vertical-align: top;\n",
       "    }\n",
       "\n",
       "    .dataframe thead th {\n",
       "        text-align: right;\n",
       "    }\n",
       "</style>\n",
       "<table border=\"1\" class=\"dataframe\">\n",
       "  <thead>\n",
       "    <tr style=\"text-align: right;\">\n",
       "      <th></th>\n",
       "      <th>user_id</th>\n",
       "      <th>date</th>\n",
       "      <th>source</th>\n",
       "      <th>device</th>\n",
       "      <th>browser_language</th>\n",
       "      <th>ads_channel</th>\n",
       "      <th>browser</th>\n",
       "      <th>conversion</th>\n",
       "      <th>test</th>\n",
       "      <th>sex</th>\n",
       "      <th>age</th>\n",
       "      <th>country</th>\n",
       "    </tr>\n",
       "  </thead>\n",
       "  <tbody>\n",
       "    <tr>\n",
       "      <th>1</th>\n",
       "      <td>497851</td>\n",
       "      <td>2015-12-04</td>\n",
       "      <td>Ads</td>\n",
       "      <td>Web</td>\n",
       "      <td>ES</td>\n",
       "      <td>Google</td>\n",
       "      <td>IE</td>\n",
       "      <td>0</td>\n",
       "      <td>1</td>\n",
       "      <td>M</td>\n",
       "      <td>21</td>\n",
       "      <td>Mexico</td>\n",
       "    </tr>\n",
       "    <tr>\n",
       "      <th>3</th>\n",
       "      <td>290051</td>\n",
       "      <td>2015-12-03</td>\n",
       "      <td>Ads</td>\n",
       "      <td>Mobile</td>\n",
       "      <td>Other</td>\n",
       "      <td>Facebook</td>\n",
       "      <td>Android_App</td>\n",
       "      <td>0</td>\n",
       "      <td>1</td>\n",
       "      <td>F</td>\n",
       "      <td>22</td>\n",
       "      <td>Mexico</td>\n",
       "    </tr>\n",
       "    <tr>\n",
       "      <th>4</th>\n",
       "      <td>548435</td>\n",
       "      <td>2015-11-30</td>\n",
       "      <td>Ads</td>\n",
       "      <td>Web</td>\n",
       "      <td>ES</td>\n",
       "      <td>Google</td>\n",
       "      <td>FireFox</td>\n",
       "      <td>0</td>\n",
       "      <td>1</td>\n",
       "      <td>M</td>\n",
       "      <td>19</td>\n",
       "      <td>Mexico</td>\n",
       "    </tr>\n",
       "  </tbody>\n",
       "</table>\n",
       "</div>"
      ],
      "text/plain": [
       "   user_id       date source  device browser_language ads_channel  \\\n",
       "1   497851 2015-12-04    Ads     Web               ES      Google   \n",
       "3   290051 2015-12-03    Ads  Mobile            Other    Facebook   \n",
       "4   548435 2015-11-30    Ads     Web               ES      Google   \n",
       "\n",
       "       browser  conversion  test sex  age country  \n",
       "1           IE           0     1   M   21  Mexico  \n",
       "3  Android_App           0     1   F   22  Mexico  \n",
       "4      FireFox           0     1   M   19  Mexico  "
      ]
     },
     "execution_count": 172,
     "metadata": {},
     "output_type": "execute_result"
    }
   ],
   "source": [
    "data.head(3)"
   ]
  },
  {
   "cell_type": "code",
   "execution_count": null,
   "metadata": {},
   "outputs": [],
   "source": []
  },
  {
   "cell_type": "code",
   "execution_count": null,
   "metadata": {},
   "outputs": [],
   "source": []
  },
  {
   "cell_type": "code",
   "execution_count": null,
   "metadata": {},
   "outputs": [],
   "source": []
  },
  {
   "cell_type": "code",
   "execution_count": null,
   "metadata": {},
   "outputs": [],
   "source": []
  },
  {
   "cell_type": "code",
<<<<<<< HEAD
   "execution_count": 40,
   "metadata": {},
   "outputs": [
    {
     "name": "stderr",
     "output_type": "stream",
     "text": [
      "/Users/eve/anaconda3/lib/python3.7/site-packages/ipykernel_launcher.py:6: FutureWarning: using a dict on a Series for aggregation\n",
      "is deprecated and will be removed in a future version\n",
      "  \n"
     ]
    },
    {
     "data": {
      "text/html": [
       "<div>\n",
       "<style scoped>\n",
       "    .dataframe tbody tr th:only-of-type {\n",
       "        vertical-align: middle;\n",
       "    }\n",
       "\n",
       "    .dataframe tbody tr th {\n",
       "        vertical-align: top;\n",
       "    }\n",
       "\n",
       "    .dataframe thead th {\n",
       "        text-align: right;\n",
       "    }\n",
       "</style>\n",
       "<table border=\"1\" class=\"dataframe\">\n",
       "  <thead>\n",
       "    <tr style=\"text-align: right;\">\n",
       "      <th></th>\n",
       "      <th>country</th>\n",
       "      <th>p_value</th>\n",
       "      <th>conversion_treatment</th>\n",
       "      <th>conversion_control</th>\n",
       "    </tr>\n",
       "  </thead>\n",
       "  <tbody>\n",
       "    <tr>\n",
       "      <th>9</th>\n",
       "      <td>Mexico</td>\n",
       "      <td>0.165544</td>\n",
       "      <td>0.051186</td>\n",
       "      <td>0.049495</td>\n",
       "    </tr>\n",
       "    <tr>\n",
       "      <th>6</th>\n",
       "      <td>El Salvador</td>\n",
       "      <td>0.248127</td>\n",
       "      <td>0.047947</td>\n",
       "      <td>0.053554</td>\n",
       "    </tr>\n",
       "    <tr>\n",
       "      <th>2</th>\n",
       "      <td>Chile</td>\n",
       "      <td>0.302848</td>\n",
       "      <td>0.051295</td>\n",
       "      <td>0.048107</td>\n",
       "    </tr>\n",
       "    <tr>\n",
       "      <th>0</th>\n",
       "      <td>Argentina</td>\n",
       "      <td>0.335147</td>\n",
       "      <td>0.013725</td>\n",
       "      <td>0.015071</td>\n",
       "    </tr>\n",
       "    <tr>\n",
       "      <th>3</th>\n",
       "      <td>Colombia</td>\n",
       "      <td>0.423719</td>\n",
       "      <td>0.050571</td>\n",
       "      <td>0.052089</td>\n",
       "    </tr>\n",
       "    <tr>\n",
       "      <th>8</th>\n",
       "      <td>Honduras</td>\n",
       "      <td>0.471463</td>\n",
       "      <td>0.047540</td>\n",
       "      <td>0.050906</td>\n",
       "    </tr>\n",
       "    <tr>\n",
       "      <th>7</th>\n",
       "      <td>Guatemala</td>\n",
       "      <td>0.572107</td>\n",
       "      <td>0.048647</td>\n",
       "      <td>0.050643</td>\n",
       "    </tr>\n",
       "    <tr>\n",
       "      <th>15</th>\n",
       "      <td>Venezuela</td>\n",
       "      <td>0.573702</td>\n",
       "      <td>0.048978</td>\n",
       "      <td>0.050344</td>\n",
       "    </tr>\n",
       "    <tr>\n",
       "      <th>4</th>\n",
       "      <td>Costa Rica</td>\n",
       "      <td>0.687876</td>\n",
       "      <td>0.054738</td>\n",
       "      <td>0.052256</td>\n",
       "    </tr>\n",
       "    <tr>\n",
       "      <th>11</th>\n",
       "      <td>Panama</td>\n",
       "      <td>0.705327</td>\n",
       "      <td>0.049370</td>\n",
       "      <td>0.046796</td>\n",
       "    </tr>\n",
       "    <tr>\n",
       "      <th>1</th>\n",
       "      <td>Bolivia</td>\n",
       "      <td>0.718885</td>\n",
       "      <td>0.047901</td>\n",
       "      <td>0.049369</td>\n",
       "    </tr>\n",
       "    <tr>\n",
       "      <th>13</th>\n",
       "      <td>Peru</td>\n",
       "      <td>0.771953</td>\n",
       "      <td>0.050604</td>\n",
       "      <td>0.049914</td>\n",
       "    </tr>\n",
       "    <tr>\n",
       "      <th>10</th>\n",
       "      <td>Nicaragua</td>\n",
       "      <td>0.780400</td>\n",
       "      <td>0.054177</td>\n",
       "      <td>0.052647</td>\n",
       "    </tr>\n",
       "    <tr>\n",
       "      <th>14</th>\n",
       "      <td>Uruguay</td>\n",
       "      <td>0.879764</td>\n",
       "      <td>0.012907</td>\n",
       "      <td>0.012048</td>\n",
       "    </tr>\n",
       "    <tr>\n",
       "      <th>12</th>\n",
       "      <td>Paraguay</td>\n",
       "      <td>0.883697</td>\n",
       "      <td>0.049229</td>\n",
       "      <td>0.048493</td>\n",
       "    </tr>\n",
       "    <tr>\n",
       "      <th>5</th>\n",
       "      <td>Ecuador</td>\n",
       "      <td>0.961512</td>\n",
       "      <td>0.048988</td>\n",
       "      <td>0.049154</td>\n",
       "    </tr>\n",
       "  </tbody>\n",
       "</table>\n",
       "</div>"
      ],
      "text/plain": [
       "        country   p_value  conversion_treatment  conversion_control\n",
       "9        Mexico  0.165544              0.051186            0.049495\n",
       "6   El Salvador  0.248127              0.047947            0.053554\n",
       "2         Chile  0.302848              0.051295            0.048107\n",
       "0     Argentina  0.335147              0.013725            0.015071\n",
       "3      Colombia  0.423719              0.050571            0.052089\n",
       "8      Honduras  0.471463              0.047540            0.050906\n",
       "7     Guatemala  0.572107              0.048647            0.050643\n",
       "15    Venezuela  0.573702              0.048978            0.050344\n",
       "4    Costa Rica  0.687876              0.054738            0.052256\n",
       "11       Panama  0.705327              0.049370            0.046796\n",
       "1       Bolivia  0.718885              0.047901            0.049369\n",
       "13         Peru  0.771953              0.050604            0.049914\n",
       "10    Nicaragua  0.780400              0.054177            0.052647\n",
       "14      Uruguay  0.879764              0.012907            0.012048\n",
       "12     Paraguay  0.883697              0.049229            0.048493\n",
       "5       Ecuador  0.961512              0.048988            0.049154"
      ]
     },
     "execution_count": 40,
     "metadata": {},
     "output_type": "execute_result"
    }
   ],
   "source": [
    "data.groupby([\"country\"])[\"conversion\"].agg({\n",
    "    \"p_value\" : lambda x : stats.ttest_ind(x[data[\"test\"] == 1],\n",
    "                                          x[data[\"test\"] == 0],\n",
    "                                          equal_var = False).pvalue,\n",
    "    \"conversion_treatment\" : lambda x : x[data[\"test\"] == 1].mean(),\n",
    "    \"conversion_control\" : lambda x : x[data[\"test\"] == 0].mean()\n",
    "}).reset_index().sort_values(\"p_value\", ascending = True)"
   ]
  },
  {
   "cell_type": "code",
=======
>>>>>>> parent of 191ba38 (Find possible root cause)
=======
>>>>>>> parent of 7e09e62... Finish Spanish Translation A/B Testing
   "execution_count": null,
   "metadata": {},
   "outputs": [],
   "source": []
  }
 ],
 "metadata": {
  "kernelspec": {
   "display_name": "Python 3",
   "language": "python",
   "name": "python3"
  },
  "language_info": {
   "codemirror_mode": {
    "name": "ipython",
    "version": 3
   },
   "file_extension": ".py",
   "mimetype": "text/x-python",
   "name": "python",
   "nbconvert_exporter": "python",
   "pygments_lexer": "ipython3",
   "version": "3.7.1"
  }
 },
 "nbformat": 4,
 "nbformat_minor": 2
}
