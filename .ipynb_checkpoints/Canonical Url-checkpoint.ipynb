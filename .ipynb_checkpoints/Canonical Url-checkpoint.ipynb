{
 "cells": [
  {
   "cell_type": "code",
   "execution_count": 2,
   "id": "be27049b",
   "metadata": {},
   "outputs": [
    {
     "ename": "ModuleNotFoundError",
     "evalue": "No module named 'url_normalize'",
     "output_type": "error",
     "traceback": [
      "\u001b[0;31m---------------------------------------------------------------------------\u001b[0m",
      "\u001b[0;31mModuleNotFoundError\u001b[0m                       Traceback (most recent call last)",
      "\u001b[0;32m<ipython-input-2-ed931248fb04>\u001b[0m in \u001b[0;36m<module>\u001b[0;34m\u001b[0m\n\u001b[0;32m----> 1\u001b[0;31m \u001b[0;32mfrom\u001b[0m \u001b[0murl_normalize\u001b[0m \u001b[0;32mimport\u001b[0m \u001b[0murl_normalize\u001b[0m\u001b[0;34m\u001b[0m\u001b[0;34m\u001b[0m\u001b[0m\n\u001b[0m",
      "\u001b[0;31mModuleNotFoundError\u001b[0m: No module named 'url_normalize'"
     ]
    }
   ],
   "source": [
    "from w3lib.url import url_query_cleaner\n",
    "from url_normalize import url_normalize\n",
    "\n",
    "urls = ['example.com',\n",
    "'example.com/',\n",
    "'http://example.com/',\n",
    "'http://example.com',\n",
    "'http://example.com?',\n",
    "'http://example.com/?',\n",
    "'http://example.com//',\n",
    "'http://example.com?utm_source=Google']\n",
    "\n",
    "\n",
    "def canonical_url(u):\n",
    "    u = url_normalize(u)\n",
    "    u = url_query_cleaner(u,parameterlist = ['utm_source','utm_medium','utm_campaign','utm_term','utm_content'],remove=True)\n",
    "\n",
    "    if u.startswith(\"http://\"):\n",
    "        u = u[7:]\n",
    "    if u.startswith(\"https://\"):\n",
    "        u = u[8:]\n",
    "    if u.startswith(\"www.\"):\n",
    "        u = u[4:]\n",
    "    if u.endswith(\"/\"):\n",
    "        u = u[:-1]\n",
    "    return u\n",
    "\n",
    "list(map(canonical_url,urls))"
   ]
  },
  {
   "cell_type": "code",
   "execution_count": null,
   "id": "bd4eacab",
   "metadata": {},
   "outputs": [],
   "source": []
  },
  {
   "cell_type": "code",
   "execution_count": null,
   "id": "a5b2a631",
   "metadata": {},
   "outputs": [],
   "source": []
  }
 ],
 "metadata": {
  "kernelspec": {
   "display_name": "Python 3",
   "language": "python",
   "name": "python3"
  },
  "language_info": {
   "codemirror_mode": {
    "name": "ipython",
    "version": 3
   },
   "file_extension": ".py",
   "mimetype": "text/x-python",
   "name": "python",
   "nbconvert_exporter": "python",
   "pygments_lexer": "ipython3",
   "version": "3.7.4"
  }
 },
 "nbformat": 4,
 "nbformat_minor": 5
}
